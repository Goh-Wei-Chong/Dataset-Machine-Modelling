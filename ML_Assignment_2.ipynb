{
 "cells": [
  {
   "cell_type": "code",
   "execution_count": 1,
   "metadata": {},
   "outputs": [],
   "source": [
    "# import the required packages\n",
    "import pandas as pd  \n",
    "import numpy as np  \n",
    "from sklearn.model_selection import KFold\n",
    "from sklearn.model_selection import GridSearchCV\n",
    "import matplotlib.pyplot as plt  \n",
    "import random\n",
    "import statsmodels.api as sm\n",
    "from sklearn.model_selection import train_test_split \n",
    "from sklearn.linear_model import LinearRegression, LogisticRegression\n",
    "from sklearn.neural_network import MLPClassifier, MLPRegressor\n",
    "from sklearn.tree import DecisionTreeClassifier, DecisionTreeRegressor\n",
    "from sklearn.ensemble import RandomForestClassifier, RandomForestRegressor\n",
    "from sklearn.svm import SVC, SVR\n",
    "from xgboost import XGBClassifier, XGBRegressor\n",
    "from sklearn import tree\n",
    "from sklearn.metrics import mean_squared_error\n",
    "from sklearn import metrics\n",
    "from math import sqrt\n",
    "from sklearn.model_selection import cross_val_score, cross_validate\n",
    "\n",
    "%matplotlib inline"
   ]
  },
  {
   "cell_type": "markdown",
   "metadata": {},
   "source": [
    "## 1. HR Analytics"
   ]
  },
  {
   "cell_type": "markdown",
   "metadata": {},
   "source": [
    "### 1.1 Load and Sample the data"
   ]
  },
  {
   "cell_type": "code",
   "execution_count": 2,
   "metadata": {},
   "outputs": [],
   "source": [
    "# Load the full dataset\n",
    "df = pd.read_csv('hr_data_new.csv')\n",
    "\n",
    "# Create a copy of the DataFrame\n",
    "df_new = df.copy()"
   ]
  },
  {
   "cell_type": "code",
   "execution_count": 3,
   "metadata": {
    "scrolled": true
   },
   "outputs": [
    {
     "data": {
      "text/html": [
       "<div>\n",
       "<style scoped>\n",
       "    .dataframe tbody tr th:only-of-type {\n",
       "        vertical-align: middle;\n",
       "    }\n",
       "\n",
       "    .dataframe tbody tr th {\n",
       "        vertical-align: top;\n",
       "    }\n",
       "\n",
       "    .dataframe thead th {\n",
       "        text-align: right;\n",
       "    }\n",
       "</style>\n",
       "<table border=\"1\" class=\"dataframe\">\n",
       "  <thead>\n",
       "    <tr style=\"text-align: right;\">\n",
       "      <th></th>\n",
       "      <th>department</th>\n",
       "      <th>region</th>\n",
       "      <th>education</th>\n",
       "      <th>gender</th>\n",
       "      <th>recruitment_channel</th>\n",
       "      <th>no_of_trainings</th>\n",
       "      <th>age</th>\n",
       "      <th>previous_year_rating</th>\n",
       "      <th>length_of_service</th>\n",
       "      <th>KPIs_met &gt;80%</th>\n",
       "      <th>awards_won?</th>\n",
       "      <th>avg_training_score</th>\n",
       "      <th>is_promoted</th>\n",
       "      <th>age_group</th>\n",
       "      <th>good_conduct</th>\n",
       "    </tr>\n",
       "  </thead>\n",
       "  <tbody>\n",
       "    <tr>\n",
       "      <th>0</th>\n",
       "      <td>0</td>\n",
       "      <td>6</td>\n",
       "      <td>1</td>\n",
       "      <td>1</td>\n",
       "      <td>1</td>\n",
       "      <td>1</td>\n",
       "      <td>0.375</td>\n",
       "      <td>5.0</td>\n",
       "      <td>0.060606</td>\n",
       "      <td>1</td>\n",
       "      <td>0</td>\n",
       "      <td>0.155172</td>\n",
       "      <td>1</td>\n",
       "      <td>1</td>\n",
       "      <td>0.0</td>\n",
       "    </tr>\n",
       "    <tr>\n",
       "      <th>1</th>\n",
       "      <td>0</td>\n",
       "      <td>27</td>\n",
       "      <td>1</td>\n",
       "      <td>0</td>\n",
       "      <td>1</td>\n",
       "      <td>1</td>\n",
       "      <td>0.325</td>\n",
       "      <td>5.0</td>\n",
       "      <td>0.151515</td>\n",
       "      <td>1</td>\n",
       "      <td>0</td>\n",
       "      <td>0.172414</td>\n",
       "      <td>1</td>\n",
       "      <td>1</td>\n",
       "      <td>0.0</td>\n",
       "    </tr>\n",
       "    <tr>\n",
       "      <th>2</th>\n",
       "      <td>0</td>\n",
       "      <td>3</td>\n",
       "      <td>0</td>\n",
       "      <td>0</td>\n",
       "      <td>0</td>\n",
       "      <td>1</td>\n",
       "      <td>0.750</td>\n",
       "      <td>4.0</td>\n",
       "      <td>0.484848</td>\n",
       "      <td>1</td>\n",
       "      <td>0</td>\n",
       "      <td>0.103448</td>\n",
       "      <td>1</td>\n",
       "      <td>2</td>\n",
       "      <td>0.0</td>\n",
       "    </tr>\n",
       "    <tr>\n",
       "      <th>3</th>\n",
       "      <td>5</td>\n",
       "      <td>21</td>\n",
       "      <td>1</td>\n",
       "      <td>0</td>\n",
       "      <td>0</td>\n",
       "      <td>1</td>\n",
       "      <td>0.175</td>\n",
       "      <td>3.0</td>\n",
       "      <td>0.000000</td>\n",
       "      <td>1</td>\n",
       "      <td>1</td>\n",
       "      <td>0.293103</td>\n",
       "      <td>1</td>\n",
       "      <td>1</td>\n",
       "      <td>0.0</td>\n",
       "    </tr>\n",
       "    <tr>\n",
       "      <th>4</th>\n",
       "      <td>0</td>\n",
       "      <td>21</td>\n",
       "      <td>1</td>\n",
       "      <td>0</td>\n",
       "      <td>1</td>\n",
       "      <td>1</td>\n",
       "      <td>0.175</td>\n",
       "      <td>3.0</td>\n",
       "      <td>0.000000</td>\n",
       "      <td>0</td>\n",
       "      <td>0</td>\n",
       "      <td>0.344828</td>\n",
       "      <td>1</td>\n",
       "      <td>1</td>\n",
       "      <td>0.0</td>\n",
       "    </tr>\n",
       "  </tbody>\n",
       "</table>\n",
       "</div>"
      ],
      "text/plain": [
       "   department  region  education  gender  recruitment_channel  \\\n",
       "0           0       6          1       1                    1   \n",
       "1           0      27          1       0                    1   \n",
       "2           0       3          0       0                    0   \n",
       "3           5      21          1       0                    0   \n",
       "4           0      21          1       0                    1   \n",
       "\n",
       "   no_of_trainings    age  previous_year_rating  length_of_service  \\\n",
       "0                1  0.375                   5.0           0.060606   \n",
       "1                1  0.325                   5.0           0.151515   \n",
       "2                1  0.750                   4.0           0.484848   \n",
       "3                1  0.175                   3.0           0.000000   \n",
       "4                1  0.175                   3.0           0.000000   \n",
       "\n",
       "   KPIs_met >80%  awards_won?  avg_training_score  is_promoted  age_group  \\\n",
       "0              1            0            0.155172            1          1   \n",
       "1              1            0            0.172414            1          1   \n",
       "2              1            0            0.103448            1          2   \n",
       "3              1            1            0.293103            1          1   \n",
       "4              0            0            0.344828            1          1   \n",
       "\n",
       "   good_conduct  \n",
       "0           0.0  \n",
       "1           0.0  \n",
       "2           0.0  \n",
       "3           0.0  \n",
       "4           0.0  "
      ]
     },
     "execution_count": 3,
     "metadata": {},
     "output_type": "execute_result"
    }
   ],
   "source": [
    "# Show overview of the dataset\n",
    "df_new.head()"
   ]
  },
  {
   "cell_type": "code",
   "execution_count": 4,
   "metadata": {},
   "outputs": [
    {
     "name": "stdout",
     "output_type": "stream",
     "text": [
      "<class 'pandas.core.frame.DataFrame'>\n",
      "RangeIndex: 9336 entries, 0 to 9335\n",
      "Data columns (total 15 columns):\n",
      " #   Column                Non-Null Count  Dtype  \n",
      "---  ------                --------------  -----  \n",
      " 0   department            9336 non-null   int64  \n",
      " 1   region                9336 non-null   int64  \n",
      " 2   education             9336 non-null   int64  \n",
      " 3   gender                9336 non-null   int64  \n",
      " 4   recruitment_channel   9336 non-null   int64  \n",
      " 5   no_of_trainings       9336 non-null   int64  \n",
      " 6   age                   9336 non-null   float64\n",
      " 7   previous_year_rating  9336 non-null   float64\n",
      " 8   length_of_service     9336 non-null   float64\n",
      " 9   KPIs_met >80%         9336 non-null   int64  \n",
      " 10  awards_won?           9336 non-null   int64  \n",
      " 11  avg_training_score    9336 non-null   float64\n",
      " 12  is_promoted           9336 non-null   int64  \n",
      " 13  age_group             9336 non-null   int64  \n",
      " 14  good_conduct          9336 non-null   float64\n",
      "dtypes: float64(5), int64(10)\n",
      "memory usage: 1.1 MB\n"
     ]
    }
   ],
   "source": [
    "df_new.info()"
   ]
  },
  {
   "cell_type": "code",
   "execution_count": 5,
   "metadata": {
    "scrolled": true
   },
   "outputs": [
    {
     "data": {
      "text/html": [
       "<div>\n",
       "<style scoped>\n",
       "    .dataframe tbody tr th:only-of-type {\n",
       "        vertical-align: middle;\n",
       "    }\n",
       "\n",
       "    .dataframe tbody tr th {\n",
       "        vertical-align: top;\n",
       "    }\n",
       "\n",
       "    .dataframe thead th {\n",
       "        text-align: right;\n",
       "    }\n",
       "</style>\n",
       "<table border=\"1\" class=\"dataframe\">\n",
       "  <thead>\n",
       "    <tr style=\"text-align: right;\">\n",
       "      <th></th>\n",
       "      <th>department</th>\n",
       "      <th>region</th>\n",
       "      <th>education</th>\n",
       "      <th>gender</th>\n",
       "      <th>recruitment_channel</th>\n",
       "      <th>no_of_trainings</th>\n",
       "      <th>age</th>\n",
       "      <th>previous_year_rating</th>\n",
       "      <th>length_of_service</th>\n",
       "      <th>KPIs_met &gt;80%</th>\n",
       "      <th>awards_won?</th>\n",
       "      <th>avg_training_score</th>\n",
       "      <th>is_promoted</th>\n",
       "      <th>age_group</th>\n",
       "      <th>good_conduct</th>\n",
       "    </tr>\n",
       "  </thead>\n",
       "  <tbody>\n",
       "    <tr>\n",
       "      <th>count</th>\n",
       "      <td>9336.000000</td>\n",
       "      <td>9336.000000</td>\n",
       "      <td>9336.000000</td>\n",
       "      <td>9336.000000</td>\n",
       "      <td>9336.000000</td>\n",
       "      <td>9336.000000</td>\n",
       "      <td>9336.000000</td>\n",
       "      <td>9336.000000</td>\n",
       "      <td>9336.000000</td>\n",
       "      <td>9336.000000</td>\n",
       "      <td>9336.000000</td>\n",
       "      <td>9336.000000</td>\n",
       "      <td>9336.000000</td>\n",
       "      <td>9336.000000</td>\n",
       "      <td>9336.000000</td>\n",
       "    </tr>\n",
       "    <tr>\n",
       "      <th>mean</th>\n",
       "      <td>2.045737</td>\n",
       "      <td>13.053985</td>\n",
       "      <td>0.723115</td>\n",
       "      <td>0.304413</td>\n",
       "      <td>0.473329</td>\n",
       "      <td>1.228685</td>\n",
       "      <td>0.364923</td>\n",
       "      <td>3.579799</td>\n",
       "      <td>0.144228</td>\n",
       "      <td>0.508569</td>\n",
       "      <td>0.066945</td>\n",
       "      <td>0.450084</td>\n",
       "      <td>0.500000</td>\n",
       "      <td>1.178663</td>\n",
       "      <td>0.275064</td>\n",
       "    </tr>\n",
       "    <tr>\n",
       "      <th>std</th>\n",
       "      <td>1.976441</td>\n",
       "      <td>9.901436</td>\n",
       "      <td>0.479382</td>\n",
       "      <td>0.460183</td>\n",
       "      <td>0.547611</td>\n",
       "      <td>0.567723</td>\n",
       "      <td>0.186246</td>\n",
       "      <td>1.176841</td>\n",
       "      <td>0.125637</td>\n",
       "      <td>0.499953</td>\n",
       "      <td>0.249940</td>\n",
       "      <td>0.251200</td>\n",
       "      <td>0.500027</td>\n",
       "      <td>0.455872</td>\n",
       "      <td>0.446571</td>\n",
       "    </tr>\n",
       "    <tr>\n",
       "      <th>min</th>\n",
       "      <td>0.000000</td>\n",
       "      <td>0.000000</td>\n",
       "      <td>0.000000</td>\n",
       "      <td>0.000000</td>\n",
       "      <td>0.000000</td>\n",
       "      <td>1.000000</td>\n",
       "      <td>0.000000</td>\n",
       "      <td>1.000000</td>\n",
       "      <td>0.000000</td>\n",
       "      <td>0.000000</td>\n",
       "      <td>0.000000</td>\n",
       "      <td>0.000000</td>\n",
       "      <td>0.000000</td>\n",
       "      <td>0.000000</td>\n",
       "      <td>0.000000</td>\n",
       "    </tr>\n",
       "    <tr>\n",
       "      <th>25%</th>\n",
       "      <td>0.000000</td>\n",
       "      <td>3.000000</td>\n",
       "      <td>0.000000</td>\n",
       "      <td>0.000000</td>\n",
       "      <td>0.000000</td>\n",
       "      <td>1.000000</td>\n",
       "      <td>0.225000</td>\n",
       "      <td>3.000000</td>\n",
       "      <td>0.060606</td>\n",
       "      <td>0.000000</td>\n",
       "      <td>0.000000</td>\n",
       "      <td>0.224138</td>\n",
       "      <td>0.000000</td>\n",
       "      <td>1.000000</td>\n",
       "      <td>0.000000</td>\n",
       "    </tr>\n",
       "    <tr>\n",
       "      <th>50%</th>\n",
       "      <td>2.000000</td>\n",
       "      <td>12.000000</td>\n",
       "      <td>1.000000</td>\n",
       "      <td>0.000000</td>\n",
       "      <td>0.000000</td>\n",
       "      <td>1.000000</td>\n",
       "      <td>0.325000</td>\n",
       "      <td>3.000000</td>\n",
       "      <td>0.121212</td>\n",
       "      <td>1.000000</td>\n",
       "      <td>0.000000</td>\n",
       "      <td>0.413793</td>\n",
       "      <td>0.500000</td>\n",
       "      <td>1.000000</td>\n",
       "      <td>0.000000</td>\n",
       "    </tr>\n",
       "    <tr>\n",
       "      <th>75%</th>\n",
       "      <td>3.000000</td>\n",
       "      <td>21.000000</td>\n",
       "      <td>1.000000</td>\n",
       "      <td>1.000000</td>\n",
       "      <td>1.000000</td>\n",
       "      <td>1.000000</td>\n",
       "      <td>0.450000</td>\n",
       "      <td>5.000000</td>\n",
       "      <td>0.181818</td>\n",
       "      <td>1.000000</td>\n",
       "      <td>0.000000</td>\n",
       "      <td>0.689655</td>\n",
       "      <td>1.000000</td>\n",
       "      <td>1.000000</td>\n",
       "      <td>1.000000</td>\n",
       "    </tr>\n",
       "    <tr>\n",
       "      <th>max</th>\n",
       "      <td>8.000000</td>\n",
       "      <td>33.000000</td>\n",
       "      <td>2.000000</td>\n",
       "      <td>1.000000</td>\n",
       "      <td>2.000000</td>\n",
       "      <td>7.000000</td>\n",
       "      <td>1.000000</td>\n",
       "      <td>5.000000</td>\n",
       "      <td>1.000000</td>\n",
       "      <td>1.000000</td>\n",
       "      <td>1.000000</td>\n",
       "      <td>1.000000</td>\n",
       "      <td>1.000000</td>\n",
       "      <td>2.000000</td>\n",
       "      <td>1.000000</td>\n",
       "    </tr>\n",
       "  </tbody>\n",
       "</table>\n",
       "</div>"
      ],
      "text/plain": [
       "        department       region    education       gender  \\\n",
       "count  9336.000000  9336.000000  9336.000000  9336.000000   \n",
       "mean      2.045737    13.053985     0.723115     0.304413   \n",
       "std       1.976441     9.901436     0.479382     0.460183   \n",
       "min       0.000000     0.000000     0.000000     0.000000   \n",
       "25%       0.000000     3.000000     0.000000     0.000000   \n",
       "50%       2.000000    12.000000     1.000000     0.000000   \n",
       "75%       3.000000    21.000000     1.000000     1.000000   \n",
       "max       8.000000    33.000000     2.000000     1.000000   \n",
       "\n",
       "       recruitment_channel  no_of_trainings          age  \\\n",
       "count          9336.000000      9336.000000  9336.000000   \n",
       "mean              0.473329         1.228685     0.364923   \n",
       "std               0.547611         0.567723     0.186246   \n",
       "min               0.000000         1.000000     0.000000   \n",
       "25%               0.000000         1.000000     0.225000   \n",
       "50%               0.000000         1.000000     0.325000   \n",
       "75%               1.000000         1.000000     0.450000   \n",
       "max               2.000000         7.000000     1.000000   \n",
       "\n",
       "       previous_year_rating  length_of_service  KPIs_met >80%  awards_won?  \\\n",
       "count           9336.000000        9336.000000    9336.000000  9336.000000   \n",
       "mean               3.579799           0.144228       0.508569     0.066945   \n",
       "std                1.176841           0.125637       0.499953     0.249940   \n",
       "min                1.000000           0.000000       0.000000     0.000000   \n",
       "25%                3.000000           0.060606       0.000000     0.000000   \n",
       "50%                3.000000           0.121212       1.000000     0.000000   \n",
       "75%                5.000000           0.181818       1.000000     0.000000   \n",
       "max                5.000000           1.000000       1.000000     1.000000   \n",
       "\n",
       "       avg_training_score  is_promoted    age_group  good_conduct  \n",
       "count         9336.000000  9336.000000  9336.000000   9336.000000  \n",
       "mean             0.450084     0.500000     1.178663      0.275064  \n",
       "std              0.251200     0.500027     0.455872      0.446571  \n",
       "min              0.000000     0.000000     0.000000      0.000000  \n",
       "25%              0.224138     0.000000     1.000000      0.000000  \n",
       "50%              0.413793     0.500000     1.000000      0.000000  \n",
       "75%              0.689655     1.000000     1.000000      1.000000  \n",
       "max              1.000000     1.000000     2.000000      1.000000  "
      ]
     },
     "execution_count": 5,
     "metadata": {},
     "output_type": "execute_result"
    }
   ],
   "source": [
    "df_new.describe()"
   ]
  },
  {
   "cell_type": "code",
   "execution_count": 6,
   "metadata": {},
   "outputs": [],
   "source": [
    "# Define Model Inputs (X) and Output (y)\n",
    "X1 = df.drop(['is_promoted'], axis =1)\n",
    "y1 = df[\"is_promoted\"]"
   ]
  },
  {
   "cell_type": "code",
   "execution_count": 7,
   "metadata": {},
   "outputs": [],
   "source": [
    "# Split both Inputs (X) and Ouput (y) into training set (70%) and testing set (30%)\n",
    "X1_train, X1_test, y1_train, y1_test = train_test_split(X1, y1, test_size=0.3, random_state=100)"
   ]
  },
  {
   "cell_type": "markdown",
   "metadata": {},
   "source": [
    "### 1.2 Build the Model(s)"
   ]
  },
  {
   "cell_type": "markdown",
   "metadata": {},
   "source": [
    "#### 1.2.1 Logistic Regression"
   ]
  },
  {
   "cell_type": "code",
   "execution_count": 8,
   "metadata": {
    "scrolled": false
   },
   "outputs": [
    {
     "name": "stderr",
     "output_type": "stream",
     "text": [
      "C:\\Users\\Public\\Anaconda\\lib\\site-packages\\sklearn\\linear_model\\_logistic.py:763: ConvergenceWarning: lbfgs failed to converge (status=1):\n",
      "STOP: TOTAL NO. of ITERATIONS REACHED LIMIT.\n",
      "\n",
      "Increase the number of iterations (max_iter) or scale the data as shown in:\n",
      "    https://scikit-learn.org/stable/modules/preprocessing.html\n",
      "Please also refer to the documentation for alternative solver options:\n",
      "    https://scikit-learn.org/stable/modules/linear_model.html#logistic-regression\n",
      "  n_iter_i = _check_optimize_result(\n"
     ]
    },
    {
     "data": {
      "text/plain": [
       "LogisticRegression()"
      ]
     },
     "execution_count": 8,
     "metadata": {},
     "output_type": "execute_result"
    }
   ],
   "source": [
    "# Create the logistic Regression model\n",
    "log = LogisticRegression()\n",
    "# Fit the model to the training set\n",
    "log.fit(X1_train, y1_train)"
   ]
  },
  {
   "cell_type": "markdown",
   "metadata": {},
   "source": [
    "#### 1.2.2 Decision Tree Classifier"
   ]
  },
  {
   "cell_type": "code",
   "execution_count": 9,
   "metadata": {},
   "outputs": [
    {
     "data": {
      "text/plain": [
       "DecisionTreeClassifier()"
      ]
     },
     "execution_count": 9,
     "metadata": {},
     "output_type": "execute_result"
    }
   ],
   "source": [
    "# Create the Decision Tree Classifier model\n",
    "dtc = DecisionTreeClassifier()\n",
    "# Fit the model to the training set\n",
    "dtc.fit(X1_train, y1_train)"
   ]
  },
  {
   "cell_type": "markdown",
   "metadata": {},
   "source": [
    "#### 1.2.3 Multi-layer Perceptron Classifier "
   ]
  },
  {
   "cell_type": "code",
   "execution_count": 10,
   "metadata": {},
   "outputs": [
    {
     "name": "stderr",
     "output_type": "stream",
     "text": [
      "C:\\Users\\Public\\Anaconda\\lib\\site-packages\\sklearn\\neural_network\\_multilayer_perceptron.py:614: ConvergenceWarning: Stochastic Optimizer: Maximum iterations (200) reached and the optimization hasn't converged yet.\n",
      "  warnings.warn(\n"
     ]
    },
    {
     "data": {
      "text/plain": [
       "MLPClassifier()"
      ]
     },
     "execution_count": 10,
     "metadata": {},
     "output_type": "execute_result"
    }
   ],
   "source": [
    "# Create the ann model\n",
    "mlpc = MLPClassifier()\n",
    "# Fit the model to the training set\n",
    "mlpc.fit(X1_train, y1_train)"
   ]
  },
  {
   "cell_type": "markdown",
   "metadata": {},
   "source": [
    "#### 1.2.4 Random Forest Classifier"
   ]
  },
  {
   "cell_type": "code",
   "execution_count": 11,
   "metadata": {},
   "outputs": [
    {
     "data": {
      "text/plain": [
       "RandomForestClassifier()"
      ]
     },
     "execution_count": 11,
     "metadata": {},
     "output_type": "execute_result"
    }
   ],
   "source": [
    "# Create the Random Forest Classifier model\n",
    "rfc = RandomForestClassifier()\n",
    "# Fit the model to the training set\n",
    "rfc.fit(X1_train, y1_train)"
   ]
  },
  {
   "cell_type": "markdown",
   "metadata": {},
   "source": [
    "#### 1.2.5 Support Vector Classifier"
   ]
  },
  {
   "cell_type": "code",
   "execution_count": 12,
   "metadata": {},
   "outputs": [
    {
     "data": {
      "text/plain": [
       "SVC()"
      ]
     },
     "execution_count": 12,
     "metadata": {},
     "output_type": "execute_result"
    }
   ],
   "source": [
    "# Build SVC Model and Evaluate both training and testing accuracy\n",
    "svc = SVC()\n",
    "svc.fit(X1_train,y1_train)"
   ]
  },
  {
   "cell_type": "markdown",
   "metadata": {},
   "source": [
    "#### 1.2.6 XGBoost Classifier"
   ]
  },
  {
   "cell_type": "code",
   "execution_count": 8,
   "metadata": {},
   "outputs": [
    {
     "data": {
      "text/plain": [
       "XGBClassifier(base_score=0.5, booster='gbtree', colsample_bylevel=1,\n",
       "              colsample_bynode=1, colsample_bytree=1, enable_categorical=False,\n",
       "              eval_metric='error', gamma=0, gpu_id=-1, importance_type=None,\n",
       "              interaction_constraints='', learning_rate=0.300000012,\n",
       "              max_delta_step=0, max_depth=6, min_child_weight=1, missing=nan,\n",
       "              monotone_constraints='()', n_estimators=100, n_jobs=8,\n",
       "              num_parallel_tree=1, predictor='auto', random_state=0,\n",
       "              reg_alpha=0, reg_lambda=1, scale_pos_weight=1, subsample=1,\n",
       "              tree_method='exact', use_label_encoder=False,\n",
       "              validate_parameters=1, verbosity=None)"
      ]
     },
     "execution_count": 8,
     "metadata": {},
     "output_type": "execute_result"
    }
   ],
   "source": [
    "# Create the XGBoost Classifier model\n",
    "xgc = XGBClassifier(use_label_encoder=False, eval_metric='error')\n",
    "xgc.fit(X1_train,y1_train)"
   ]
  },
  {
   "cell_type": "markdown",
   "metadata": {},
   "source": [
    "### 1.3 Evaluate and Improve the Model(s)"
   ]
  },
  {
   "cell_type": "markdown",
   "metadata": {},
   "source": [
    "#### 1.3.1 Logistic Regression"
   ]
  },
  {
   "cell_type": "markdown",
   "metadata": {},
   "source": [
    "#### 1.3.1.1 Evaluation of default model"
   ]
  },
  {
   "cell_type": "code",
   "execution_count": 14,
   "metadata": {
    "scrolled": false
   },
   "outputs": [
    {
     "name": "stdout",
     "output_type": "stream",
     "text": [
      "training accuracy is:  0.7415455241009946\n",
      "testing accuracy is:  0.7436629775080329\n"
     ]
    }
   ],
   "source": [
    "print('training accuracy is: ', log.score(X1_train,y1_train))\n",
    "print('testing accuracy is: ', log.score(X1_test,y1_test))"
   ]
  },
  {
   "cell_type": "markdown",
   "metadata": {},
   "source": [
    "#### 1.3.1.2 K-fold validation"
   ]
  },
  {
   "cell_type": "code",
   "execution_count": 10,
   "metadata": {
    "scrolled": true
   },
   "outputs": [
    {
     "name": "stderr",
     "output_type": "stream",
     "text": [
      "C:\\Users\\Public\\Anaconda\\lib\\site-packages\\sklearn\\linear_model\\_logistic.py:763: ConvergenceWarning: lbfgs failed to converge (status=1):\n",
      "STOP: TOTAL NO. of ITERATIONS REACHED LIMIT.\n",
      "\n",
      "Increase the number of iterations (max_iter) or scale the data as shown in:\n",
      "    https://scikit-learn.org/stable/modules/preprocessing.html\n",
      "Please also refer to the documentation for alternative solver options:\n",
      "    https://scikit-learn.org/stable/modules/linear_model.html#logistic-regression\n",
      "  n_iter_i = _check_optimize_result(\n",
      "C:\\Users\\Public\\Anaconda\\lib\\site-packages\\sklearn\\linear_model\\_logistic.py:763: ConvergenceWarning: lbfgs failed to converge (status=1):\n",
      "STOP: TOTAL NO. of ITERATIONS REACHED LIMIT.\n",
      "\n",
      "Increase the number of iterations (max_iter) or scale the data as shown in:\n",
      "    https://scikit-learn.org/stable/modules/preprocessing.html\n",
      "Please also refer to the documentation for alternative solver options:\n",
      "    https://scikit-learn.org/stable/modules/linear_model.html#logistic-regression\n",
      "  n_iter_i = _check_optimize_result(\n",
      "C:\\Users\\Public\\Anaconda\\lib\\site-packages\\sklearn\\linear_model\\_logistic.py:763: ConvergenceWarning: lbfgs failed to converge (status=1):\n",
      "STOP: TOTAL NO. of ITERATIONS REACHED LIMIT.\n",
      "\n",
      "Increase the number of iterations (max_iter) or scale the data as shown in:\n",
      "    https://scikit-learn.org/stable/modules/preprocessing.html\n",
      "Please also refer to the documentation for alternative solver options:\n",
      "    https://scikit-learn.org/stable/modules/linear_model.html#logistic-regression\n",
      "  n_iter_i = _check_optimize_result(\n",
      "C:\\Users\\Public\\Anaconda\\lib\\site-packages\\sklearn\\linear_model\\_logistic.py:763: ConvergenceWarning: lbfgs failed to converge (status=1):\n",
      "STOP: TOTAL NO. of ITERATIONS REACHED LIMIT.\n",
      "\n",
      "Increase the number of iterations (max_iter) or scale the data as shown in:\n",
      "    https://scikit-learn.org/stable/modules/preprocessing.html\n",
      "Please also refer to the documentation for alternative solver options:\n",
      "    https://scikit-learn.org/stable/modules/linear_model.html#logistic-regression\n",
      "  n_iter_i = _check_optimize_result(\n"
     ]
    },
    {
     "name": "stdout",
     "output_type": "stream",
     "text": [
      "train_score:  [0.74397429 0.73878699 0.74307136 0.74025974 0.73838533]\n",
      "test_score:  [0.73072805 0.74665238 0.7327263  0.73111944 0.75790037]\n"
     ]
    },
    {
     "name": "stderr",
     "output_type": "stream",
     "text": [
      "C:\\Users\\Public\\Anaconda\\lib\\site-packages\\sklearn\\linear_model\\_logistic.py:763: ConvergenceWarning: lbfgs failed to converge (status=1):\n",
      "STOP: TOTAL NO. of ITERATIONS REACHED LIMIT.\n",
      "\n",
      "Increase the number of iterations (max_iter) or scale the data as shown in:\n",
      "    https://scikit-learn.org/stable/modules/preprocessing.html\n",
      "Please also refer to the documentation for alternative solver options:\n",
      "    https://scikit-learn.org/stable/modules/linear_model.html#logistic-regression\n",
      "  n_iter_i = _check_optimize_result(\n"
     ]
    }
   ],
   "source": [
    "# Evaluate the Model using K-folds Cross validation\n",
    "results  = cross_validate(log, X1, y1, scoring='accuracy', cv=5, return_train_score = True)\n",
    "print('train_score: ', results['train_score'])\n",
    "print('test_score: ', results['test_score'])"
   ]
  },
  {
   "cell_type": "code",
   "execution_count": 11,
   "metadata": {},
   "outputs": [
    {
     "name": "stdout",
     "output_type": "stream",
     "text": [
      "cross val training accuracy is: 0.7408955408833928\n",
      "cross val testing accuracy is: 0.7398253103319344\n"
     ]
    }
   ],
   "source": [
    "print('cross val training accuracy is:', sum(results['train_score'])/len(results['train_score']))\n",
    "print('cross val testing accuracy is:', sum(results['test_score'])/len(results['test_score']))"
   ]
  },
  {
   "cell_type": "markdown",
   "metadata": {},
   "source": [
    "#### 1.3.1.3 Statsmodel, P-Value"
   ]
  },
  {
   "cell_type": "code",
   "execution_count": 12,
   "metadata": {},
   "outputs": [
    {
     "name": "stdout",
     "output_type": "stream",
     "text": [
      "Optimization terminated successfully.\n",
      "         Current function value: 0.534795\n",
      "         Iterations 6\n"
     ]
    }
   ],
   "source": [
    "# The lg model refers to sklearn model and lg2 model refers to statsmodel.api model\n",
    "\n",
    "# Create another model lg2 using statsmodel.api: the Logit method and fit function\n",
    "lg = sm.Logit(y1_train, X1_train).fit()"
   ]
  },
  {
   "cell_type": "code",
   "execution_count": 13,
   "metadata": {
    "scrolled": true
   },
   "outputs": [
    {
     "data": {
      "text/html": [
       "<table class=\"simpletable\">\n",
       "<caption>Logit Regression Results</caption>\n",
       "<tr>\n",
       "  <th>Dep. Variable:</th>      <td>is_promoted</td>   <th>  No. Observations:  </th>  <td>  6535</td> \n",
       "</tr>\n",
       "<tr>\n",
       "  <th>Model:</th>                 <td>Logit</td>      <th>  Df Residuals:      </th>  <td>  6521</td> \n",
       "</tr>\n",
       "<tr>\n",
       "  <th>Method:</th>                 <td>MLE</td>       <th>  Df Model:          </th>  <td>    13</td> \n",
       "</tr>\n",
       "<tr>\n",
       "  <th>Date:</th>            <td>Thu, 27 Jan 2022</td> <th>  Pseudo R-squ.:     </th>  <td>0.2285</td> \n",
       "</tr>\n",
       "<tr>\n",
       "  <th>Time:</th>                <td>09:34:29</td>     <th>  Log-Likelihood:    </th> <td> -3494.9</td>\n",
       "</tr>\n",
       "<tr>\n",
       "  <th>converged:</th>             <td>True</td>       <th>  LL-Null:           </th> <td> -4529.7</td>\n",
       "</tr>\n",
       "<tr>\n",
       "  <th>Covariance Type:</th>     <td>nonrobust</td>    <th>  LLR p-value:       </th>  <td> 0.000</td> \n",
       "</tr>\n",
       "</table>\n",
       "<table class=\"simpletable\">\n",
       "<tr>\n",
       "            <td></td>              <th>coef</th>     <th>std err</th>      <th>z</th>      <th>P>|z|</th>  <th>[0.025</th>    <th>0.975]</th>  \n",
       "</tr>\n",
       "<tr>\n",
       "  <th>department</th>           <td>   -0.2881</td> <td>    0.019</td> <td>  -14.943</td> <td> 0.000</td> <td>   -0.326</td> <td>   -0.250</td>\n",
       "</tr>\n",
       "<tr>\n",
       "  <th>region</th>               <td>   -0.0215</td> <td>    0.003</td> <td>   -7.261</td> <td> 0.000</td> <td>   -0.027</td> <td>   -0.016</td>\n",
       "</tr>\n",
       "<tr>\n",
       "  <th>education</th>            <td>   -0.6189</td> <td>    0.062</td> <td>   -9.996</td> <td> 0.000</td> <td>   -0.740</td> <td>   -0.498</td>\n",
       "</tr>\n",
       "<tr>\n",
       "  <th>gender</th>               <td>   -0.1722</td> <td>    0.064</td> <td>   -2.677</td> <td> 0.007</td> <td>   -0.298</td> <td>   -0.046</td>\n",
       "</tr>\n",
       "<tr>\n",
       "  <th>recruitment_channel</th>  <td>   -0.1265</td> <td>    0.053</td> <td>   -2.401</td> <td> 0.016</td> <td>   -0.230</td> <td>   -0.023</td>\n",
       "</tr>\n",
       "<tr>\n",
       "  <th>no_of_trainings</th>      <td>   -0.4518</td> <td>    0.051</td> <td>   -8.775</td> <td> 0.000</td> <td>   -0.553</td> <td>   -0.351</td>\n",
       "</tr>\n",
       "<tr>\n",
       "  <th>age</th>                  <td>   -1.5876</td> <td>    0.326</td> <td>   -4.872</td> <td> 0.000</td> <td>   -2.226</td> <td>   -0.949</td>\n",
       "</tr>\n",
       "<tr>\n",
       "  <th>previous_year_rating</th> <td>    0.1812</td> <td>    0.024</td> <td>    7.636</td> <td> 0.000</td> <td>    0.135</td> <td>    0.228</td>\n",
       "</tr>\n",
       "<tr>\n",
       "  <th>length_of_service</th>    <td>    0.9260</td> <td>    0.314</td> <td>    2.948</td> <td> 0.003</td> <td>    0.310</td> <td>    1.542</td>\n",
       "</tr>\n",
       "<tr>\n",
       "  <th>KPIs_met >80%</th>        <td>    1.5983</td> <td>    0.062</td> <td>   25.828</td> <td> 0.000</td> <td>    1.477</td> <td>    1.720</td>\n",
       "</tr>\n",
       "<tr>\n",
       "  <th>awards_won?</th>          <td>    1.9757</td> <td>    0.170</td> <td>   11.654</td> <td> 0.000</td> <td>    1.643</td> <td>    2.308</td>\n",
       "</tr>\n",
       "<tr>\n",
       "  <th>avg_training_score</th>   <td>    3.2615</td> <td>    0.209</td> <td>   15.602</td> <td> 0.000</td> <td>    2.852</td> <td>    3.671</td>\n",
       "</tr>\n",
       "<tr>\n",
       "  <th>age_group</th>            <td>   -0.4830</td> <td>    0.108</td> <td>   -4.455</td> <td> 0.000</td> <td>   -0.695</td> <td>   -0.271</td>\n",
       "</tr>\n",
       "<tr>\n",
       "  <th>good_conduct</th>         <td>    0.0786</td> <td>    0.108</td> <td>    0.727</td> <td> 0.467</td> <td>   -0.133</td> <td>    0.290</td>\n",
       "</tr>\n",
       "</table>"
      ],
      "text/plain": [
       "<class 'statsmodels.iolib.summary.Summary'>\n",
       "\"\"\"\n",
       "                           Logit Regression Results                           \n",
       "==============================================================================\n",
       "Dep. Variable:            is_promoted   No. Observations:                 6535\n",
       "Model:                          Logit   Df Residuals:                     6521\n",
       "Method:                           MLE   Df Model:                           13\n",
       "Date:                Thu, 27 Jan 2022   Pseudo R-squ.:                  0.2285\n",
       "Time:                        09:34:29   Log-Likelihood:                -3494.9\n",
       "converged:                       True   LL-Null:                       -4529.7\n",
       "Covariance Type:            nonrobust   LLR p-value:                     0.000\n",
       "========================================================================================\n",
       "                           coef    std err          z      P>|z|      [0.025      0.975]\n",
       "----------------------------------------------------------------------------------------\n",
       "department              -0.2881      0.019    -14.943      0.000      -0.326      -0.250\n",
       "region                  -0.0215      0.003     -7.261      0.000      -0.027      -0.016\n",
       "education               -0.6189      0.062     -9.996      0.000      -0.740      -0.498\n",
       "gender                  -0.1722      0.064     -2.677      0.007      -0.298      -0.046\n",
       "recruitment_channel     -0.1265      0.053     -2.401      0.016      -0.230      -0.023\n",
       "no_of_trainings         -0.4518      0.051     -8.775      0.000      -0.553      -0.351\n",
       "age                     -1.5876      0.326     -4.872      0.000      -2.226      -0.949\n",
       "previous_year_rating     0.1812      0.024      7.636      0.000       0.135       0.228\n",
       "length_of_service        0.9260      0.314      2.948      0.003       0.310       1.542\n",
       "KPIs_met >80%            1.5983      0.062     25.828      0.000       1.477       1.720\n",
       "awards_won?              1.9757      0.170     11.654      0.000       1.643       2.308\n",
       "avg_training_score       3.2615      0.209     15.602      0.000       2.852       3.671\n",
       "age_group               -0.4830      0.108     -4.455      0.000      -0.695      -0.271\n",
       "good_conduct             0.0786      0.108      0.727      0.467      -0.133       0.290\n",
       "========================================================================================\n",
       "\"\"\""
      ]
     },
     "execution_count": 13,
     "metadata": {},
     "output_type": "execute_result"
    }
   ],
   "source": [
    "# Print out the Model Summary\n",
    "lg.summary()"
   ]
  },
  {
   "cell_type": "code",
   "execution_count": 14,
   "metadata": {},
   "outputs": [],
   "source": [
    "# Define Model Inputs (X) and Output (y)\n",
    "X3 = df.drop(['is_promoted', 'good_conduct'], axis =1)\n",
    "y3 = df[\"is_promoted\"]"
   ]
  },
  {
   "cell_type": "code",
   "execution_count": 15,
   "metadata": {},
   "outputs": [],
   "source": [
    "# Split both Inputs (X) and Ouput (y) into training set (70%) and testing set (30%)\n",
    "X3_train, X3_test, y3_train, y3_test = train_test_split(X3, y3, test_size=0.3, random_state=100)"
   ]
  },
  {
   "cell_type": "code",
   "execution_count": 16,
   "metadata": {},
   "outputs": [
    {
     "name": "stdout",
     "output_type": "stream",
     "text": [
      "Optimization terminated successfully.\n",
      "         Current function value: 0.534836\n",
      "         Iterations 6\n"
     ]
    }
   ],
   "source": [
    "# The lg model refers to sklearn model and lg2 model refers to statsmodel.api model\n",
    "\n",
    "# Create another model lg2 using statsmodel.api: the Logit method and fit function\n",
    "lg = sm.Logit(y3_train, X3_train).fit()"
   ]
  },
  {
   "cell_type": "code",
   "execution_count": 17,
   "metadata": {
    "scrolled": true
   },
   "outputs": [
    {
     "data": {
      "text/html": [
       "<table class=\"simpletable\">\n",
       "<caption>Logit Regression Results</caption>\n",
       "<tr>\n",
       "  <th>Dep. Variable:</th>      <td>is_promoted</td>   <th>  No. Observations:  </th>  <td>  6535</td> \n",
       "</tr>\n",
       "<tr>\n",
       "  <th>Model:</th>                 <td>Logit</td>      <th>  Df Residuals:      </th>  <td>  6522</td> \n",
       "</tr>\n",
       "<tr>\n",
       "  <th>Method:</th>                 <td>MLE</td>       <th>  Df Model:          </th>  <td>    12</td> \n",
       "</tr>\n",
       "<tr>\n",
       "  <th>Date:</th>            <td>Thu, 27 Jan 2022</td> <th>  Pseudo R-squ.:     </th>  <td>0.2284</td> \n",
       "</tr>\n",
       "<tr>\n",
       "  <th>Time:</th>                <td>09:34:33</td>     <th>  Log-Likelihood:    </th> <td> -3495.2</td>\n",
       "</tr>\n",
       "<tr>\n",
       "  <th>converged:</th>             <td>True</td>       <th>  LL-Null:           </th> <td> -4529.7</td>\n",
       "</tr>\n",
       "<tr>\n",
       "  <th>Covariance Type:</th>     <td>nonrobust</td>    <th>  LLR p-value:       </th>  <td> 0.000</td> \n",
       "</tr>\n",
       "</table>\n",
       "<table class=\"simpletable\">\n",
       "<tr>\n",
       "            <td></td>              <th>coef</th>     <th>std err</th>      <th>z</th>      <th>P>|z|</th>  <th>[0.025</th>    <th>0.975]</th>  \n",
       "</tr>\n",
       "<tr>\n",
       "  <th>department</th>           <td>   -0.2869</td> <td>    0.019</td> <td>  -14.951</td> <td> 0.000</td> <td>   -0.325</td> <td>   -0.249</td>\n",
       "</tr>\n",
       "<tr>\n",
       "  <th>region</th>               <td>   -0.0216</td> <td>    0.003</td> <td>   -7.333</td> <td> 0.000</td> <td>   -0.027</td> <td>   -0.016</td>\n",
       "</tr>\n",
       "<tr>\n",
       "  <th>education</th>            <td>   -0.6213</td> <td>    0.062</td> <td>  -10.048</td> <td> 0.000</td> <td>   -0.742</td> <td>   -0.500</td>\n",
       "</tr>\n",
       "<tr>\n",
       "  <th>gender</th>               <td>   -0.1809</td> <td>    0.063</td> <td>   -2.861</td> <td> 0.004</td> <td>   -0.305</td> <td>   -0.057</td>\n",
       "</tr>\n",
       "<tr>\n",
       "  <th>recruitment_channel</th>  <td>   -0.1277</td> <td>    0.053</td> <td>   -2.425</td> <td> 0.015</td> <td>   -0.231</td> <td>   -0.024</td>\n",
       "</tr>\n",
       "<tr>\n",
       "  <th>no_of_trainings</th>      <td>   -0.4548</td> <td>    0.051</td> <td>   -8.863</td> <td> 0.000</td> <td>   -0.555</td> <td>   -0.354</td>\n",
       "</tr>\n",
       "<tr>\n",
       "  <th>age</th>                  <td>   -1.6028</td> <td>    0.325</td> <td>   -4.928</td> <td> 0.000</td> <td>   -2.240</td> <td>   -0.965</td>\n",
       "</tr>\n",
       "<tr>\n",
       "  <th>previous_year_rating</th> <td>    0.1791</td> <td>    0.024</td> <td>    7.604</td> <td> 0.000</td> <td>    0.133</td> <td>    0.225</td>\n",
       "</tr>\n",
       "<tr>\n",
       "  <th>length_of_service</th>    <td>    0.9287</td> <td>    0.314</td> <td>    2.956</td> <td> 0.003</td> <td>    0.313</td> <td>    1.544</td>\n",
       "</tr>\n",
       "<tr>\n",
       "  <th>KPIs_met >80%</th>        <td>    1.5983</td> <td>    0.062</td> <td>   25.824</td> <td> 0.000</td> <td>    1.477</td> <td>    1.720</td>\n",
       "</tr>\n",
       "<tr>\n",
       "  <th>awards_won?</th>          <td>    1.9766</td> <td>    0.170</td> <td>   11.661</td> <td> 0.000</td> <td>    1.644</td> <td>    2.309</td>\n",
       "</tr>\n",
       "<tr>\n",
       "  <th>avg_training_score</th>   <td>    3.3652</td> <td>    0.153</td> <td>   21.971</td> <td> 0.000</td> <td>    3.065</td> <td>    3.665</td>\n",
       "</tr>\n",
       "<tr>\n",
       "  <th>age_group</th>            <td>   -0.4863</td> <td>    0.108</td> <td>   -4.489</td> <td> 0.000</td> <td>   -0.699</td> <td>   -0.274</td>\n",
       "</tr>\n",
       "</table>"
      ],
      "text/plain": [
       "<class 'statsmodels.iolib.summary.Summary'>\n",
       "\"\"\"\n",
       "                           Logit Regression Results                           \n",
       "==============================================================================\n",
       "Dep. Variable:            is_promoted   No. Observations:                 6535\n",
       "Model:                          Logit   Df Residuals:                     6522\n",
       "Method:                           MLE   Df Model:                           12\n",
       "Date:                Thu, 27 Jan 2022   Pseudo R-squ.:                  0.2284\n",
       "Time:                        09:34:33   Log-Likelihood:                -3495.2\n",
       "converged:                       True   LL-Null:                       -4529.7\n",
       "Covariance Type:            nonrobust   LLR p-value:                     0.000\n",
       "========================================================================================\n",
       "                           coef    std err          z      P>|z|      [0.025      0.975]\n",
       "----------------------------------------------------------------------------------------\n",
       "department              -0.2869      0.019    -14.951      0.000      -0.325      -0.249\n",
       "region                  -0.0216      0.003     -7.333      0.000      -0.027      -0.016\n",
       "education               -0.6213      0.062    -10.048      0.000      -0.742      -0.500\n",
       "gender                  -0.1809      0.063     -2.861      0.004      -0.305      -0.057\n",
       "recruitment_channel     -0.1277      0.053     -2.425      0.015      -0.231      -0.024\n",
       "no_of_trainings         -0.4548      0.051     -8.863      0.000      -0.555      -0.354\n",
       "age                     -1.6028      0.325     -4.928      0.000      -2.240      -0.965\n",
       "previous_year_rating     0.1791      0.024      7.604      0.000       0.133       0.225\n",
       "length_of_service        0.9287      0.314      2.956      0.003       0.313       1.544\n",
       "KPIs_met >80%            1.5983      0.062     25.824      0.000       1.477       1.720\n",
       "awards_won?              1.9766      0.170     11.661      0.000       1.644       2.309\n",
       "avg_training_score       3.3652      0.153     21.971      0.000       3.065       3.665\n",
       "age_group               -0.4863      0.108     -4.489      0.000      -0.699      -0.274\n",
       "========================================================================================\n",
       "\"\"\""
      ]
     },
     "execution_count": 17,
     "metadata": {},
     "output_type": "execute_result"
    }
   ],
   "source": [
    "# Print out the Model Summary\n",
    "lg.summary()"
   ]
  },
  {
   "cell_type": "markdown",
   "metadata": {},
   "source": [
    "#### 1.3.1.4 Grid Search"
   ]
  },
  {
   "cell_type": "code",
   "execution_count": 18,
   "metadata": {
    "scrolled": true
   },
   "outputs": [
    {
     "data": {
      "text/plain": [
       "['C',\n",
       " 'class_weight',\n",
       " 'dual',\n",
       " 'fit_intercept',\n",
       " 'intercept_scaling',\n",
       " 'l1_ratio',\n",
       " 'max_iter',\n",
       " 'multi_class',\n",
       " 'n_jobs',\n",
       " 'penalty',\n",
       " 'random_state',\n",
       " 'solver',\n",
       " 'tol',\n",
       " 'verbose',\n",
       " 'warm_start']"
      ]
     },
     "execution_count": 18,
     "metadata": {},
     "output_type": "execute_result"
    }
   ],
   "source": [
    "sorted(LogisticRegression().get_params().keys())"
   ]
  },
  {
   "cell_type": "code",
   "execution_count": 19,
   "metadata": {
    "scrolled": false
   },
   "outputs": [
    {
     "name": "stdout",
     "output_type": "stream",
     "text": [
      "Best cross-validation score: 0.742\n",
      "Test score: 0.742\n",
      "{'C': 100, 'class_weight': None, 'max_iter': 500, 'penalty': 'l2'}\n"
     ]
    }
   ],
   "source": [
    "# Use GridSearch to find the best combination of model hyperparameters\n",
    "\n",
    "param_grid = { 'C': [1, 10, 100], 'max_iter' : [500, 1000, 1500, 2000], \n",
    "               'class_weight' : ['balanced', None], 'penalty' : ['l2', 'none'] }\n",
    "\n",
    "# Create the logistic Regression model\n",
    "log = LogisticRegression()\n",
    "\n",
    "gs_log = GridSearchCV(log, param_grid=param_grid, scoring='accuracy', cv= 10, n_jobs=-1)\n",
    "# cv: number of partitions for cross validation\n",
    "# n_jobs: number of jobs to run in parallel, -1 means using all processors\n",
    "\n",
    "gs_log = gs_log.fit(X3_train, y3_train) # \n",
    "\n",
    "print(\"Best cross-validation score: {:.3f}\".format(gs_log.best_score_))\n",
    "print(\"Test score: {:.3f}\".format(gs_log.score(X3_test, y3_test)))\n",
    "print(gs_log.best_params_)"
   ]
  },
  {
   "cell_type": "code",
   "execution_count": 20,
   "metadata": {
    "scrolled": true
   },
   "outputs": [
    {
     "name": "stdout",
     "output_type": "stream",
     "text": [
      "***Final Model***\n",
      "0.7415455241009946 (Train Accuracy)\n",
      "0.7418779007497323 (Test Accuracy)\n"
     ]
    }
   ],
   "source": [
    "log_final = LogisticRegression(C=100, max_iter=500, penalty='l2', class_weight='none', random_state=100)\n",
    "log_final.fit(X3_train, y3_train)\n",
    "\n",
    "print('***Final Model***')\n",
    "# calculated the training accuracy\n",
    "print(log_final.score(X3_train, y3_train), '(Train Accuracy)')\n",
    "# calculated the testing accuracy\n",
    "print(log_final.score(X3_test, y3_test), '(Test Accuracy)')"
   ]
  },
  {
   "cell_type": "markdown",
   "metadata": {},
   "source": [
    "#### 1.3.2 Decision Tree Classifier"
   ]
  },
  {
   "cell_type": "markdown",
   "metadata": {},
   "source": [
    "#### 1.3.2.1 Evaluation of default model"
   ]
  },
  {
   "cell_type": "code",
   "execution_count": 49,
   "metadata": {},
   "outputs": [
    {
     "name": "stdout",
     "output_type": "stream",
     "text": [
      "training accuracy is:  0.9998469778117827\n",
      "testing accuracy is:  0.7572295608711175\n"
     ]
    }
   ],
   "source": [
    "print('training accuracy is: ', dtc.score(X1_train,y1_train))\n",
    "print('testing accuracy is: ', dtc.score(X1_test,y1_test))"
   ]
  },
  {
   "cell_type": "markdown",
   "metadata": {},
   "source": [
    "#### 1.3.2.2 K-folds cross validation"
   ]
  },
  {
   "cell_type": "code",
   "execution_count": 15,
   "metadata": {
    "scrolled": true
   },
   "outputs": [
    {
     "name": "stdout",
     "output_type": "stream",
     "text": [
      "train_score:  [0.9998661  1.         1.         0.99986611 0.99986611]\n",
      "test_score:  [0.74892934 0.76272094 0.75147295 0.77450455 0.75736476]\n"
     ]
    }
   ],
   "source": [
    "# Evaluate the Model using K-folds Cross validation\n",
    "results  = cross_validate(dtc, X1, y1, scoring='accuracy', cv=5, return_train_score = True)\n",
    "print('train_score: ', results['train_score'])\n",
    "print('test_score: ', results['test_score'])"
   ]
  },
  {
   "cell_type": "code",
   "execution_count": 16,
   "metadata": {
    "scrolled": false
   },
   "outputs": [
    {
     "name": "stdout",
     "output_type": "stream",
     "text": [
      "cross val training accuracy is: 0.9999196643752937\n",
      "cross val testing accuracy is: 0.7589985078375802\n"
     ]
    }
   ],
   "source": [
    "print('cross val training accuracy is:', sum(results['train_score'])/len(results['train_score']))\n",
    "print('cross val testing accuracy is:', sum(results['test_score'])/len(results['test_score']))"
   ]
  },
  {
   "cell_type": "markdown",
   "metadata": {},
   "source": [
    "#### 1.3.2.3 Grid Search"
   ]
  },
  {
   "cell_type": "code",
   "execution_count": 17,
   "metadata": {
    "scrolled": true
   },
   "outputs": [
    {
     "data": {
      "text/plain": [
       "['ccp_alpha',\n",
       " 'class_weight',\n",
       " 'criterion',\n",
       " 'max_depth',\n",
       " 'max_features',\n",
       " 'max_leaf_nodes',\n",
       " 'min_impurity_decrease',\n",
       " 'min_impurity_split',\n",
       " 'min_samples_leaf',\n",
       " 'min_samples_split',\n",
       " 'min_weight_fraction_leaf',\n",
       " 'random_state',\n",
       " 'splitter']"
      ]
     },
     "execution_count": 17,
     "metadata": {},
     "output_type": "execute_result"
    }
   ],
   "source": [
    "sorted(DecisionTreeClassifier().get_params().keys())"
   ]
  },
  {
   "cell_type": "code",
   "execution_count": 38,
   "metadata": {
    "scrolled": false
   },
   "outputs": [
    {
     "name": "stdout",
     "output_type": "stream",
     "text": [
      "{'ccp_alpha': 0.01, 'class_weight': 'balanced', 'criterion': 'entropy', 'max_features': None, 'splitter': 'best'}\n"
     ]
    }
   ],
   "source": [
    "# Use GridSearch to find the best combination of model hyperparameters\n",
    "\n",
    "param_grid = { 'ccp_alpha' : [0.01, 0.1, 1], 'criterion': [\"gini\", \"entropy\"], \"splitter\" : [\"best\", \"random\"],\n",
    "               \"max_features\" : [\"auto\", \"sqrt\", \"log2\", None],\n",
    "               'class_weight' : [\"balanced\", None] }\n",
    "\n",
    "# Create the Decision Tree Classifier model\n",
    "dtc = DecisionTreeClassifier()\n",
    "\n",
    "gs_dtc = GridSearchCV(dtc, param_grid=param_grid, scoring='accuracy', cv= 10, n_jobs=-1)\n",
    "# cv: number of partitions for cross validation\n",
    "# n_jobs: number of jobs to run in parallel, -1 means using all processors\n",
    "\n",
    "gs_dtc = gs_dtc.fit(X1_train, y1_train) # \n",
    "\n",
    "print(gs_dtc.best_params_)"
   ]
  },
  {
   "cell_type": "code",
   "execution_count": 39,
   "metadata": {},
   "outputs": [
    {
     "name": "stdout",
     "output_type": "stream",
     "text": [
      "0.7912777352716144 (Train Accuracy)\n",
      "0.791146019278829 (Test Accuracy)\n",
      "cross val training accuracy is: 0.8015744850183472\n",
      "cross val testing accuracy is: 0.7984155093136855\n"
     ]
    }
   ],
   "source": [
    "# Create the Decision Tree Classifier model\n",
    "dtc = DecisionTreeClassifier(ccp_alpha=0.01, class_weight='balanced', criterion='entropy', max_depth=None, \n",
    "                                  max_features=None, splitter='best', random_state=100)\n",
    "# Fit the model to the training set\n",
    "dtc.fit(X1_train, y1_train)\n",
    "\n",
    "# calculated the training accuracy\n",
    "print(dtc.score(X1_train, y1_train), '(Train Accuracy)')\n",
    "# calculated the testing accuracy\n",
    "print(dtc.score(X1_test, y1_test), '(Test Accuracy)')\n",
    "\n",
    "results  = cross_validate(dtc, X1, y1, scoring='accuracy', cv=5, return_train_score = True)\n",
    "print('cross val training accuracy is:', sum(results['train_score'])/len(results['train_score']))\n",
    "print('cross val testing accuracy is:', sum(results['test_score'])/len(results['test_score']))"
   ]
  },
  {
   "cell_type": "markdown",
   "metadata": {},
   "source": [
    "#### 1.3.2.4 Tuning parameters"
   ]
  },
  {
   "cell_type": "code",
   "execution_count": 40,
   "metadata": {},
   "outputs": [],
   "source": [
    "depth_range = range(2,20)\n",
    "\n",
    "train = []\n",
    "test = []\n",
    "cross_val_train =[]\n",
    "cross_val_test =[]\n",
    "\n",
    "for d in depth_range:\n",
    "    # Create Decision Tree Model\n",
    "    dtc = DecisionTreeClassifier(max_depth=d,ccp_alpha=0.01, class_weight='balanced', criterion='entropy', \n",
    "                                  max_features=None, splitter='best', random_state=100)\n",
    "    dtc.fit(X1_train, y1_train) \n",
    "    train.append(dtc.score(X1_train, y1_train))\n",
    "    test.append(dtc.score(X1_test, y1_test))\n",
    "    \n",
    "    results  = cross_validate(dtc, X1, y1, scoring='accuracy', cv=5, return_train_score = True)\n",
    "    cross_val_train.append(sum(results['train_score'])/len(results['train_score']))\n",
    "    cross_val_test.append(sum(results['test_score'])/len(results['test_score']))\n",
    "    "
   ]
  },
  {
   "cell_type": "code",
   "execution_count": 41,
   "metadata": {
    "scrolled": false
   },
   "outputs": [
    {
     "data": {
      "image/png": "[encoded data removed]",
      "text/plain": [
       "<Figure size 432x288 with 1 Axes>"
      ]
     },
     "metadata": {
      "needs_background": "light"
     },
     "output_type": "display_data"
    }
   ],
   "source": [
    "# Plot the simple split measures (train & test) \n",
    "plt.plot(depth_range, train, 'bo-', label ='training accuracy')\n",
    "plt.plot(depth_range, test, 'ro-', label = 'testing accuracy')\n",
    "\n",
    "plt.xlabel('max_depth', fontsize='x-large')\n",
    "plt.ylabel('Accuracy', fontsize='x-large')\n",
    "\n",
    "plt.legend(loc='best', shadow=True, fontsize='x-large')\n",
    "plt.show()"
   ]
  },
  {
   "cell_type": "code",
   "execution_count": 42,
   "metadata": {
    "scrolled": false
   },
   "outputs": [
    {
     "data": {
      "image/png": "[encoded data removed]",
      "text/plain": [
       "<Figure size 432x288 with 1 Axes>"
      ]
     },
     "metadata": {
      "needs_background": "light"
     },
     "output_type": "display_data"
    }
   ],
   "source": [
    "# Plot the cross validation measures (cross_val_train & cross val_test) \n",
    "plt.plot(depth_range, cross_val_train, 'bo-', label ='cross val training accuracy')\n",
    "plt.plot(depth_range, cross_val_test, 'ro-', label = 'cross val testing accuracy')\n",
    "\n",
    "plt.xlabel('max_depth', fontsize='x-large')\n",
    "plt.ylabel('Accuracy', fontsize='x-large')\n",
    "\n",
    "plt.legend(loc='best', shadow=True, fontsize='x-large')\n",
    "plt.show()"
   ]
  },
  {
   "cell_type": "code",
   "execution_count": 102,
   "metadata": {},
   "outputs": [
    {
     "name": "stdout",
     "output_type": "stream",
     "text": [
      "***Final Model***\n",
      "0.7912777352716144 (Train Accuracy)\n",
      "0.791146019278829 (Test Accuracy)\n",
      "cross val training accuracy is: 0.799978387228618\n",
      "cross val testing accuracy is: 0.7983395004625362\n"
     ]
    }
   ],
   "source": [
    "# Create the Decision Tree Classifier model\n",
    "dtc_final = DecisionTreeClassifier(ccp_alpha=0.01, class_weight='balanced', criterion='entropy', max_depth=10, \n",
    "                                  max_features=None, splitter='best', random_state=100)\n",
    "\n",
    "# Fit the model to the training set\n",
    "dtc_final.fit(X1_train, y1_train)\n",
    "\n",
    "print('***Final Model***')\n",
    "# calculated the training accuracy\n",
    "print(dtc_final.score(X1_train, y1_train), '(Train Accuracy)')\n",
    "# calculated the testing accuracy\n",
    "print(dtc_final.score(X1_test, y1_test), '(Test Accuracy)')\n",
    "\n",
    "results  = cross_validate(dtc_final, X1, y1, scoring='accuracy', cv=200, return_train_score = True)\n",
    "print('cross val training accuracy is:', sum(results['train_score'])/len(results['train_score']))\n",
    "print('cross val testing accuracy is:', sum(results['test_score'])/len(results['test_score']))"
   ]
  },
  {
   "cell_type": "markdown",
   "metadata": {},
   "source": [
    "#### 1.3.3 Multi-layer Perceptron Classifier "
   ]
  },
  {
   "cell_type": "markdown",
   "metadata": {},
   "source": [
    "#### 1.3.3.1 Evaluation of default model"
   ]
  },
  {
   "cell_type": "code",
   "execution_count": 51,
   "metadata": {},
   "outputs": [
    {
     "name": "stdout",
     "output_type": "stream",
     "text": [
      "training accuracy is:  0.8163733741392502\n",
      "testing accuracy is:  0.7975722956087111\n"
     ]
    }
   ],
   "source": [
    "print('training accuracy is: ', mlpc.score(X1_train,y1_train))\n",
    "print('testing accuracy is: ', mlpc.score(X1_test,y1_test))"
   ]
  },
  {
   "cell_type": "markdown",
   "metadata": {},
   "source": [
    "#### 1.3.3.2 K-folds cross validation"
   ]
  },
  {
   "cell_type": "code",
   "execution_count": 377,
   "metadata": {
    "scrolled": false
   },
   "outputs": [
    {
     "name": "stderr",
     "output_type": "stream",
     "text": [
      "C:\\Users\\Public\\Anaconda\\lib\\site-packages\\sklearn\\neural_network\\_multilayer_perceptron.py:614: ConvergenceWarning: Stochastic Optimizer: Maximum iterations (200) reached and the optimization hasn't converged yet.\n",
      "  warnings.warn(\n",
      "C:\\Users\\Public\\Anaconda\\lib\\site-packages\\sklearn\\neural_network\\_multilayer_perceptron.py:614: ConvergenceWarning: Stochastic Optimizer: Maximum iterations (200) reached and the optimization hasn't converged yet.\n",
      "  warnings.warn(\n",
      "C:\\Users\\Public\\Anaconda\\lib\\site-packages\\sklearn\\neural_network\\_multilayer_perceptron.py:614: ConvergenceWarning: Stochastic Optimizer: Maximum iterations (200) reached and the optimization hasn't converged yet.\n",
      "  warnings.warn(\n",
      "C:\\Users\\Public\\Anaconda\\lib\\site-packages\\sklearn\\neural_network\\_multilayer_perceptron.py:614: ConvergenceWarning: Stochastic Optimizer: Maximum iterations (200) reached and the optimization hasn't converged yet.\n",
      "  warnings.warn(\n"
     ]
    },
    {
     "name": "stdout",
     "output_type": "stream",
     "text": [
      "train_score:  [0.8189609  0.81296024 0.82005623 0.81041639 0.82099344]\n",
      "test_score:  [0.80353319 0.78361007 0.79217997 0.78789502 0.80342796]\n"
     ]
    },
    {
     "name": "stderr",
     "output_type": "stream",
     "text": [
      "C:\\Users\\Public\\Anaconda\\lib\\site-packages\\sklearn\\neural_network\\_multilayer_perceptron.py:614: ConvergenceWarning: Stochastic Optimizer: Maximum iterations (200) reached and the optimization hasn't converged yet.\n",
      "  warnings.warn(\n"
     ]
    }
   ],
   "source": [
    "# Evaluate the Model using K-folds Cross validation\n",
    "results  = cross_validate(mlpc, X1, y1, scoring='accuracy', cv=5, return_train_score = True)\n",
    "print('train_score: ', results['train_score'])\n",
    "print('test_score: ', results['test_score'])"
   ]
  },
  {
   "cell_type": "code",
   "execution_count": 378,
   "metadata": {
    "scrolled": false
   },
   "outputs": [
    {
     "name": "stdout",
     "output_type": "stream",
     "text": [
      "cross val training accuracy is: 0.816677439038689\n",
      "cross val testing accuracy is: 0.7941292412222198\n"
     ]
    }
   ],
   "source": [
    "print('cross val training accuracy is:', sum(results['train_score'])/len(results['train_score']))\n",
    "print('cross val testing accuracy is:', sum(results['test_score'])/len(results['test_score']))"
   ]
  },
  {
   "cell_type": "markdown",
   "metadata": {},
   "source": [
    "#### 1.3.3.3 Grid Search"
   ]
  },
  {
   "cell_type": "code",
   "execution_count": 190,
   "metadata": {
    "scrolled": true
   },
   "outputs": [
    {
     "data": {
      "text/plain": [
       "['activation',\n",
       " 'alpha',\n",
       " 'batch_size',\n",
       " 'beta_1',\n",
       " 'beta_2',\n",
       " 'early_stopping',\n",
       " 'epsilon',\n",
       " 'hidden_layer_sizes',\n",
       " 'learning_rate',\n",
       " 'learning_rate_init',\n",
       " 'max_fun',\n",
       " 'max_iter',\n",
       " 'momentum',\n",
       " 'n_iter_no_change',\n",
       " 'nesterovs_momentum',\n",
       " 'power_t',\n",
       " 'random_state',\n",
       " 'shuffle',\n",
       " 'solver',\n",
       " 'tol',\n",
       " 'validation_fraction',\n",
       " 'verbose',\n",
       " 'warm_start']"
      ]
     },
     "execution_count": 190,
     "metadata": {},
     "output_type": "execute_result"
    }
   ],
   "source": [
    "sorted(MLPClassifier().get_params().keys())"
   ]
  },
  {
   "cell_type": "code",
   "execution_count": 400,
   "metadata": {
    "scrolled": true
   },
   "outputs": [
    {
     "name": "stdout",
     "output_type": "stream",
     "text": [
      "{'activation': 'tanh', 'alpha': 0.001}\n"
     ]
    }
   ],
   "source": [
    "# Use GridSearch to find the best combination of model hyperparameters\n",
    "\n",
    "param_grid = { 'alpha' : [0.0001, 0.001, 0.01, 0.1, 1], \"activation\" : [\"identity\", \"logistic\", \"tanh\", \"relu\"] }\n",
    "\n",
    "# Create the model\n",
    "mlpc = MLPClassifier(max_iter=1000)\n",
    "\n",
    "gs_mlpc = GridSearchCV(mlpc, param_grid=param_grid, scoring='accuracy', cv= 10, n_jobs=-1)\n",
    "# cv: number of partitions for cross validation\n",
    "# n_jobs: number of jobs to run in parallel, -1 means using all processors\n",
    "\n",
    "gs_mlpc = gs_mlpc.fit(X1_train, y1_train) # \n",
    "\n",
    "print(gs_mlpc.best_params_)"
   ]
  },
  {
   "cell_type": "code",
   "execution_count": 46,
   "metadata": {},
   "outputs": [
    {
     "name": "stdout",
     "output_type": "stream",
     "text": [
      "0.8299923488905891 (Train Accuracy)\n",
      "0.7997143877186719 (Test Accuracy)\n",
      "cross val training accuracy is: 0.8263713045522995\n",
      "cross val testing accuracy is: 0.7999150121173682\n"
     ]
    }
   ],
   "source": [
    "# Create the model\n",
    "mlpc = MLPClassifier(alpha=0.001, activation='tanh', max_iter=1000, random_state=150)\n",
    "# Fit the model to the training set\n",
    "mlpc.fit(X1_train, y1_train)\n",
    "\n",
    "# calculated the training accuracy\n",
    "print(mlpc.score(X1_train, y1_train), '(Train Accuracy)')\n",
    "# calculated the testing accuracy\n",
    "print(mlpc.score(X1_test, y1_test), '(Test Accuracy)')\n",
    "\n",
    "# Evaluate the Model using K-folds Cross validation\n",
    "results  = cross_validate(mlpc, X1, y1, scoring='accuracy', cv=5, return_train_score = True)\n",
    "\n",
    "print('cross val training accuracy is:', sum(results['train_score'])/len(results['train_score']))\n",
    "print('cross val testing accuracy is:', sum(results['test_score'])/len(results['test_score']))"
   ]
  },
  {
   "cell_type": "code",
   "execution_count": 103,
   "metadata": {
    "scrolled": true
   },
   "outputs": [
    {
     "name": "stdout",
     "output_type": "stream",
     "text": [
      "***Final Model***\n",
      "0.8295332823259373 (Train Accuracy)\n",
      "0.8004284184219922 (Test Accuracy)\n",
      "cross val training accuracy is: 0.82337194056806\n",
      "cross val testing accuracy is: 0.8002360965673383\n"
     ]
    }
   ],
   "source": [
    "# Create the model\n",
    "mlpc_final = MLPClassifier(alpha=0.002, activation='tanh', max_iter=1000, random_state=150)\n",
    "# Fit the model to the training set\n",
    "mlpc_final.fit(X1_train, y1_train)\n",
    "\n",
    "print('***Final Model***')\n",
    "# calculated the training accuracy\n",
    "print(mlpc_final.score(X1_train, y1_train), '(Train Accuracy)')\n",
    "# calculated the testing accuracy\n",
    "print(mlpc_final.score(X1_test, y1_test), '(Test Accuracy)')\n",
    "\n",
    "# Evaluate the Model using K-folds Cross validation\n",
    "results  = cross_validate(mlpc_final, X1, y1, scoring='accuracy', cv=5, return_train_score = True)\n",
    "\n",
    "print('cross val training accuracy is:', sum(results['train_score'])/len(results['train_score']))\n",
    "print('cross val testing accuracy is:', sum(results['test_score'])/len(results['test_score']))"
   ]
  },
  {
   "cell_type": "markdown",
   "metadata": {},
   "source": [
    "#### 1.3.4 Random Forest Classifier"
   ]
  },
  {
   "cell_type": "markdown",
   "metadata": {},
   "source": [
    "#### 1.3.4.1 Evaluation of default model"
   ]
  },
  {
   "cell_type": "code",
   "execution_count": 54,
   "metadata": {
    "scrolled": true
   },
   "outputs": [
    {
     "name": "stdout",
     "output_type": "stream",
     "text": [
      "training accuracy is:  0.9998469778117827\n",
      "testing accuracy is:  0.7918600499821492\n"
     ]
    }
   ],
   "source": [
    "print('training accuracy is: ', rfc.score(X1_train,y1_train))\n",
    "print('testing accuracy is: ', rfc.score(X1_test,y1_test))"
   ]
  },
  {
   "cell_type": "markdown",
   "metadata": {},
   "source": [
    "#### 1.3.4.2 K-fold cross validation"
   ]
  },
  {
   "cell_type": "code",
   "execution_count": 10,
   "metadata": {},
   "outputs": [
    {
     "name": "stdout",
     "output_type": "stream",
     "text": [
      "train_score:  [0.9998661  1.         1.         0.99986611 0.99986611]\n",
      "test_score:  [0.79925054 0.79271559 0.79539368 0.79432244 0.7959293 ]\n"
     ]
    }
   ],
   "source": [
    "# Evaluate the Model using K-folds Cross validation\n",
    "results  = cross_validate(rfc, X1, y1, scoring='accuracy', cv=5, return_train_score = True)\n",
    "print('train_score: ', results['train_score'])\n",
    "print('test_score: ', results['test_score'])"
   ]
  },
  {
   "cell_type": "code",
   "execution_count": 11,
   "metadata": {
    "scrolled": false
   },
   "outputs": [
    {
     "name": "stdout",
     "output_type": "stream",
     "text": [
      "cross val training accuracy is: 0.9999196643752937\n",
      "cross val testing accuracy is: 0.7955223084589896\n"
     ]
    }
   ],
   "source": [
    "print('cross val training accuracy is:', sum(results['train_score'])/len(results['train_score']))\n",
    "print('cross val testing accuracy is:', sum(results['test_score'])/len(results['test_score']))"
   ]
  },
  {
   "cell_type": "markdown",
   "metadata": {},
   "source": [
    "#### 1.3.4.3 Grid Search"
   ]
  },
  {
   "cell_type": "code",
   "execution_count": 224,
   "metadata": {
    "scrolled": false
   },
   "outputs": [
    {
     "data": {
      "text/plain": [
       "['bootstrap',\n",
       " 'ccp_alpha',\n",
       " 'class_weight',\n",
       " 'criterion',\n",
       " 'max_depth',\n",
       " 'max_features',\n",
       " 'max_leaf_nodes',\n",
       " 'max_samples',\n",
       " 'min_impurity_decrease',\n",
       " 'min_impurity_split',\n",
       " 'min_samples_leaf',\n",
       " 'min_samples_split',\n",
       " 'min_weight_fraction_leaf',\n",
       " 'n_estimators',\n",
       " 'n_jobs',\n",
       " 'oob_score',\n",
       " 'random_state',\n",
       " 'verbose',\n",
       " 'warm_start']"
      ]
     },
     "execution_count": 224,
     "metadata": {},
     "output_type": "execute_result"
    }
   ],
   "source": [
    "sorted(RandomForestClassifier().get_params().keys())"
   ]
  },
  {
   "cell_type": "code",
   "execution_count": 225,
   "metadata": {},
   "outputs": [
    {
     "name": "stdout",
     "output_type": "stream",
     "text": [
      "{'bootstrap': True, 'ccp_alpha': 0, 'class_weight': 'balanced', 'criterion': 'gini', 'max_features': 'log2'}\n"
     ]
    }
   ],
   "source": [
    "# Use GridSearch to find the best combination of model hyperparameters\n",
    "\n",
    "param_grid = { 'criterion' : ['gini', 'entropy'], 'ccp_alpha' : [0.01, 0.1, 0, 1, 10, 100], \n",
    "               'class_weight' : ['balanced', 'balanced_subsample', None], 'bootstrap' : [True, False], \n",
    "               'max_features' : ['auto', 'sqrt', 'log2'] }\n",
    "\n",
    "rfc = RandomForestClassifier()\n",
    "\n",
    "gs_rfc = GridSearchCV(rfc, param_grid=param_grid, scoring='accuracy', cv= 10, n_jobs=-1)\n",
    "# cv: number of partitions for cross validation\n",
    "# n_jobs: number of jobs to run in parallel, -1 means using all processors\n",
    "\n",
    "gs_rfc = gs_rfc.fit(X1_train, y1_train) # \n",
    "\n",
    "print(gs_rfc.best_params_)"
   ]
  },
  {
   "cell_type": "code",
   "execution_count": 15,
   "metadata": {},
   "outputs": [
    {
     "name": "stdout",
     "output_type": "stream",
     "text": [
      "0.9998469778117827 (Train Accuracy)\n",
      "0.7900749732238487 (Test Accuracy)\n"
     ]
    }
   ],
   "source": [
    "# Create the Random Forest Classifier model\n",
    "rfc = RandomForestClassifier(ccp_alpha=0, class_weight='balanced', criterion='gini', max_features='log2', random_state=1000)\n",
    "# Fit the model to the training set\n",
    "rfc.fit(X1_train, y1_train)\n",
    "\n",
    "# calculated the training accuracy\n",
    "print(rfc.score(X1_train, y1_train), '(Train Accuracy)')\n",
    "# calculated the testing accuracy\n",
    "print(rfc.score(X1_test, y1_test), '(Test Accuracy)')\n"
   ]
  },
  {
   "cell_type": "markdown",
   "metadata": {},
   "source": [
    "#### 1.3.4.4 Feature Importances"
   ]
  },
  {
   "cell_type": "code",
   "execution_count": 105,
   "metadata": {
    "scrolled": false
   },
   "outputs": [
    {
     "data": {
      "text/html": [
       "<div>\n",
       "<style scoped>\n",
       "    .dataframe tbody tr th:only-of-type {\n",
       "        vertical-align: middle;\n",
       "    }\n",
       "\n",
       "    .dataframe tbody tr th {\n",
       "        vertical-align: top;\n",
       "    }\n",
       "\n",
       "    .dataframe thead th {\n",
       "        text-align: right;\n",
       "    }\n",
       "</style>\n",
       "<table border=\"1\" class=\"dataframe\">\n",
       "  <thead>\n",
       "    <tr style=\"text-align: right;\">\n",
       "      <th></th>\n",
       "      <th>feature</th>\n",
       "      <th>importance</th>\n",
       "    </tr>\n",
       "  </thead>\n",
       "  <tbody>\n",
       "    <tr>\n",
       "      <th>11</th>\n",
       "      <td>avg_training_score</td>\n",
       "      <td>0.210768</td>\n",
       "    </tr>\n",
       "    <tr>\n",
       "      <th>9</th>\n",
       "      <td>KPIs_met &gt;80%</td>\n",
       "      <td>0.154480</td>\n",
       "    </tr>\n",
       "    <tr>\n",
       "      <th>0</th>\n",
       "      <td>department</td>\n",
       "      <td>0.111485</td>\n",
       "    </tr>\n",
       "    <tr>\n",
       "      <th>6</th>\n",
       "      <td>age</td>\n",
       "      <td>0.104784</td>\n",
       "    </tr>\n",
       "    <tr>\n",
       "      <th>1</th>\n",
       "      <td>region</td>\n",
       "      <td>0.097471</td>\n",
       "    </tr>\n",
       "    <tr>\n",
       "      <th>7</th>\n",
       "      <td>previous_year_rating</td>\n",
       "      <td>0.083326</td>\n",
       "    </tr>\n",
       "    <tr>\n",
       "      <th>8</th>\n",
       "      <td>length_of_service</td>\n",
       "      <td>0.082795</td>\n",
       "    </tr>\n",
       "    <tr>\n",
       "      <th>10</th>\n",
       "      <td>awards_won?</td>\n",
       "      <td>0.029400</td>\n",
       "    </tr>\n",
       "    <tr>\n",
       "      <th>4</th>\n",
       "      <td>recruitment_channel</td>\n",
       "      <td>0.028761</td>\n",
       "    </tr>\n",
       "    <tr>\n",
       "      <th>5</th>\n",
       "      <td>no_of_trainings</td>\n",
       "      <td>0.023125</td>\n",
       "    </tr>\n",
       "    <tr>\n",
       "      <th>13</th>\n",
       "      <td>good_conduct</td>\n",
       "      <td>0.022791</td>\n",
       "    </tr>\n",
       "    <tr>\n",
       "      <th>3</th>\n",
       "      <td>gender</td>\n",
       "      <td>0.020315</td>\n",
       "    </tr>\n",
       "    <tr>\n",
       "      <th>2</th>\n",
       "      <td>education</td>\n",
       "      <td>0.018036</td>\n",
       "    </tr>\n",
       "    <tr>\n",
       "      <th>12</th>\n",
       "      <td>age_group</td>\n",
       "      <td>0.012460</td>\n",
       "    </tr>\n",
       "  </tbody>\n",
       "</table>\n",
       "</div>"
      ],
      "text/plain": [
       "                 feature  importance\n",
       "11    avg_training_score    0.210768\n",
       "9          KPIs_met >80%    0.154480\n",
       "0             department    0.111485\n",
       "6                    age    0.104784\n",
       "1                 region    0.097471\n",
       "7   previous_year_rating    0.083326\n",
       "8      length_of_service    0.082795\n",
       "10           awards_won?    0.029400\n",
       "4    recruitment_channel    0.028761\n",
       "5        no_of_trainings    0.023125\n",
       "13          good_conduct    0.022791\n",
       "3                 gender    0.020315\n",
       "2              education    0.018036\n",
       "12             age_group    0.012460"
      ]
     },
     "execution_count": 105,
     "metadata": {},
     "output_type": "execute_result"
    }
   ],
   "source": [
    "pd.concat((pd.DataFrame(X1_train.columns, columns = ['feature']), \n",
    "           pd.DataFrame(rfc.feature_importances_, columns = ['importance'])), \n",
    "          axis = 1).sort_values(by='importance', ascending = False)"
   ]
  },
  {
   "cell_type": "code",
   "execution_count": 106,
   "metadata": {},
   "outputs": [],
   "source": [
    "# Define Model Inputs (X) and Output (y)\n",
    "X5 = df.drop(['is_promoted', 'age_group', 'education', 'gender', 'no_of_trainings', 'good_conduct', 'recruitment_channel',\n",
    "              'awards_won?'], axis =1)\n",
    "y5 = df[\"is_promoted\"]"
   ]
  },
  {
   "cell_type": "code",
   "execution_count": 107,
   "metadata": {},
   "outputs": [],
   "source": [
    "# Split both Inputs (X) and Ouput (y) into training set (70%) and testing set (30%)\n",
    "X5_train, X5_test, y5_train, y5_test = train_test_split(X5, y5, test_size=0.3, random_state=100)"
   ]
  },
  {
   "cell_type": "code",
   "execution_count": 108,
   "metadata": {},
   "outputs": [
    {
     "name": "stdout",
     "output_type": "stream",
     "text": [
      "0.9984697781178271 (Train Accuracy)\n",
      "0.7847197429489468 (Test Accuracy)\n"
     ]
    }
   ],
   "source": [
    "rfc = RandomForestClassifier()\n",
    "rfc.fit(X5_train, y5_train)\n",
    "\n",
    "# calculated the training accuracy\n",
    "print(rfc.score(X5_train, y5_train), '(Train Accuracy)')\n",
    "# calculated the testing accuracy\n",
    "print(rfc.score(X5_test, y5_test), '(Test Accuracy)')"
   ]
  },
  {
   "cell_type": "markdown",
   "metadata": {},
   "source": [
    "#### 1.3.4.5 Tuning Parameters"
   ]
  },
  {
   "cell_type": "code",
   "execution_count": 60,
   "metadata": {},
   "outputs": [],
   "source": [
    "\n",
    "depth_range = range(2,10)\n",
    "\n",
    "train = []\n",
    "test = []\n",
    "cross_val_train =[]\n",
    "cross_val_test =[]\n",
    "\n",
    "for d in depth_range:\n",
    "    # Create Random Forest Model\n",
    "    rfc = RandomForestClassifier(max_depth=d,random_state=1)\n",
    "    rfc.fit(X5_train, y5_train) \n",
    "    train.append(rfc.score(X5_train, y5_train))\n",
    "    test.append(rfc.score(X5_test, y5_test))\n",
    "    \n",
    "    results  = cross_validate(rfc, X5, y5, scoring='accuracy', cv=5, return_train_score = True)\n",
    "    cross_val_train.append(sum(results['train_score'])/len(results['train_score']))\n",
    "    cross_val_test.append(sum(results['test_score'])/len(results['test_score']))\n",
    "    "
   ]
  },
  {
   "cell_type": "code",
   "execution_count": 61,
   "metadata": {
    "scrolled": true
   },
   "outputs": [
    {
     "data": {
      "image/png": "[encoded data removed]",
      "text/plain": [
       "<Figure size 432x288 with 1 Axes>"
      ]
     },
     "metadata": {
      "needs_background": "light"
     },
     "output_type": "display_data"
    }
   ],
   "source": [
    "\n",
    "plt.plot(depth_range, train, 'bo-', label ='training accuracy')\n",
    "plt.plot(depth_range, test, 'ro-', label = 'testing accuracy')\n",
    "\n",
    "plt.xlabel('max_depth', fontsize='x-large')\n",
    "plt.ylabel('Accuracy', fontsize='x-large')\n",
    "\n",
    "plt.legend(loc='best', shadow=True, fontsize='x-large')\n",
    "plt.show()"
   ]
  },
  {
   "cell_type": "code",
   "execution_count": 62,
   "metadata": {
    "scrolled": false
   },
   "outputs": [
    {
     "data": {
      "image/png": "[encoded data removed]",
      "text/plain": [
       "<Figure size 432x288 with 1 Axes>"
      ]
     },
     "metadata": {
      "needs_background": "light"
     },
     "output_type": "display_data"
    }
   ],
   "source": [
    "\n",
    "plt.plot(depth_range, cross_val_train, 'bo-', label ='cross val training accuracy')\n",
    "plt.plot(depth_range, cross_val_test, 'ro-', label = 'cross val testing accuracy')\n",
    "\n",
    "plt.xlabel('max_depth', fontsize='x-large')\n",
    "plt.ylabel('Accuracy', fontsize='x-large')\n",
    "\n",
    "plt.legend(loc='best', shadow=True, fontsize='x-large')\n",
    "plt.show()"
   ]
  },
  {
   "cell_type": "code",
   "execution_count": 109,
   "metadata": {},
   "outputs": [
    {
     "name": "stdout",
     "output_type": "stream",
     "text": [
      "***Final Model***\n",
      "0.8026013771996939 (Train Accuracy)\n",
      "0.7915030346304891 (Test Accuracy)\n"
     ]
    }
   ],
   "source": [
    "rfc_final = RandomForestClassifier(max_depth=7, random_state=1)\n",
    "\n",
    "rfc_final = rfc_final.fit(X5_train, y5_train) # \n",
    "\n",
    "print('***Final Model***')\n",
    "# calculated the training accuracy\n",
    "print(rfc_final.score(X5_train, y5_train), '(Train Accuracy)')\n",
    "# calculated the testing accuracy\n",
    "print(rfc_final.score(X5_test, y5_test), '(Test Accuracy)')"
   ]
  },
  {
   "cell_type": "markdown",
   "metadata": {},
   "source": [
    "#### 1.3.5 Support Vector Classifier"
   ]
  },
  {
   "cell_type": "markdown",
   "metadata": {},
   "source": [
    "#### 1.3.5.1 Evaluation of default model"
   ]
  },
  {
   "cell_type": "code",
   "execution_count": 99,
   "metadata": {
    "scrolled": true
   },
   "outputs": [
    {
     "name": "stdout",
     "output_type": "stream",
     "text": [
      "training accuracy is:  0.7263963274674828\n",
      "testing accuracy is:  0.7315244555515887\n"
     ]
    }
   ],
   "source": [
    "print('training accuracy is: ', svc.score(X1_train,y1_train))\n",
    "print('testing accuracy is: ', svc.score(X1_test,y1_test))"
   ]
  },
  {
   "cell_type": "markdown",
   "metadata": {},
   "source": [
    "#### 1.3.5.2 K-folds cross validation"
   ]
  },
  {
   "cell_type": "code",
   "execution_count": 243,
   "metadata": {
    "scrolled": true
   },
   "outputs": [
    {
     "name": "stdout",
     "output_type": "stream",
     "text": [
      "train_score:  [0.72723621 0.72914714 0.72325613 0.72432722 0.72405945]\n",
      "test_score:  [0.72055675 0.73594001 0.71772898 0.71933583 0.72790573]\n"
     ]
    }
   ],
   "source": [
    "# Evaluate the Model using K-folds Cross validation\n",
    "results  = cross_validate(svc, X1, y1, scoring='accuracy', cv=5, return_train_score = True)\n",
    "print('train_score: ', results['train_score'])\n",
    "print('test_score: ', results['test_score'])"
   ]
  },
  {
   "cell_type": "code",
   "execution_count": 244,
   "metadata": {
    "scrolled": false
   },
   "outputs": [
    {
     "name": "stdout",
     "output_type": "stream",
     "text": [
      "cross val training accuracy is: 0.7256052279075598\n",
      "cross val testing accuracy is: 0.7242934593738424\n"
     ]
    }
   ],
   "source": [
    "print('cross val training accuracy is:', sum(results['train_score'])/len(results['train_score']))\n",
    "print('cross val testing accuracy is:', sum(results['test_score'])/len(results['test_score']))"
   ]
  },
  {
   "cell_type": "markdown",
   "metadata": {},
   "source": [
    "#### 1.3.5.3 Grid Search"
   ]
  },
  {
   "cell_type": "code",
   "execution_count": 245,
   "metadata": {
    "scrolled": false
   },
   "outputs": [
    {
     "data": {
      "text/plain": [
       "['C',\n",
       " 'break_ties',\n",
       " 'cache_size',\n",
       " 'class_weight',\n",
       " 'coef0',\n",
       " 'decision_function_shape',\n",
       " 'degree',\n",
       " 'gamma',\n",
       " 'kernel',\n",
       " 'max_iter',\n",
       " 'probability',\n",
       " 'random_state',\n",
       " 'shrinking',\n",
       " 'tol',\n",
       " 'verbose']"
      ]
     },
     "execution_count": 245,
     "metadata": {},
     "output_type": "execute_result"
    }
   ],
   "source": [
    "sorted(SVC().get_params().keys())"
   ]
  },
  {
   "cell_type": "code",
   "execution_count": 14,
   "metadata": {
    "scrolled": true
   },
   "outputs": [
    {
     "name": "stdout",
     "output_type": "stream",
     "text": [
      "0.7892905479766404\n",
      "{'C': 10, 'gamma': 'auto', 'kernel': 'rbf'}\n"
     ]
    }
   ],
   "source": [
    "svc = SVC()\n",
    "\n",
    "param_grid = { \"kernel\" : ['linear', 'rbf'],  \"C\" : [0.001, 0.01, 0.1, 1, 10], \"gamma\" : ['auto', 'scale'] }\n",
    "\n",
    "gs_svc = GridSearchCV(svc, param_grid=param_grid, scoring='accuracy', cv= 10, n_jobs=-1)\n",
    "\n",
    "# cv: number of partitions for cross validation\n",
    "# n_jobs: number of jobs to run in parallel, -1 means using all processors\n",
    "\n",
    "gs_svc = gs_svc.fit(X1_train, y1_train) # \n",
    "\n",
    "print(gs_svc.best_score_)\n",
    "print(gs_svc.best_params_)"
   ]
  },
  {
   "cell_type": "code",
   "execution_count": 110,
   "metadata": {},
   "outputs": [
    {
     "name": "stdout",
     "output_type": "stream",
     "text": [
      "***Final Model***\n",
      "training accuracy is:  0.8433052792654935\n",
      "testing accuracy is:  0.791146019278829\n",
      "cross val training accuracy is: 0.8425181950060608\n",
      "cross val testing accuracy is: 0.786847580368602\n"
     ]
    }
   ],
   "source": [
    "svc_final = SVC(C=10, gamma='auto', kernel='rbf', random_state=5)\n",
    "svc_final.fit(X1_train, y1_train)\n",
    "\n",
    "print('***Final Model***')\n",
    "print('training accuracy is: ', svc_final.score(X1_train, y1_train))\n",
    "print('testing accuracy is: ', svc_final.score(X1_test,y1_test))\n",
    "results  = cross_validate(svc_final, X1, y1, scoring='accuracy', cv=5, return_train_score = True)\n",
    "print('cross val training accuracy is:', sum(results['train_score'])/len(results['train_score']))\n",
    "print('cross val testing accuracy is:', sum(results['test_score'])/len(results['test_score']))"
   ]
  },
  {
   "cell_type": "markdown",
   "metadata": {},
   "source": [
    "#### 1.3.6 XGBoost Classifier"
   ]
  },
  {
   "cell_type": "markdown",
   "metadata": {},
   "source": [
    "#### 1.3.6.1 Evaluation of default model"
   ]
  },
  {
   "cell_type": "code",
   "execution_count": 9,
   "metadata": {
    "scrolled": true
   },
   "outputs": [
    {
     "name": "stdout",
     "output_type": "stream",
     "text": [
      "training accuracy is:  0.9355776587605202\n",
      "testing accuracy is:  0.7993573723670118\n"
     ]
    }
   ],
   "source": [
    "print('training accuracy is: ', xgc.score(X1_train,y1_train))\n",
    "print('testing accuracy is: ', xgc.score(X1_test,y1_test))"
   ]
  },
  {
   "cell_type": "markdown",
   "metadata": {},
   "source": [
    "#### 1.3.6.2 K-fold Cross Validation"
   ]
  },
  {
   "cell_type": "code",
   "execution_count": 10,
   "metadata": {
    "scrolled": true
   },
   "outputs": [
    {
     "name": "stdout",
     "output_type": "stream",
     "text": [
      "cross val training accuracy is: 0.9312874754663498\n",
      "cross val testing accuracy is: 0.8011992925704993\n"
     ]
    }
   ],
   "source": [
    "results  = cross_validate(xgc, X1, y1, scoring='accuracy', cv=5, return_train_score = True)\n",
    "print('cross val training accuracy is:', sum(results['train_score'])/len(results['train_score']))\n",
    "print('cross val testing accuracy is:', sum(results['test_score'])/len(results['test_score']))"
   ]
  },
  {
   "cell_type": "markdown",
   "metadata": {},
   "source": [
    "#### 1.3.6.3 Grid Search"
   ]
  },
  {
   "cell_type": "code",
   "execution_count": 11,
   "metadata": {
    "scrolled": false
   },
   "outputs": [
    {
     "data": {
      "text/plain": [
       "['base_score',\n",
       " 'booster',\n",
       " 'colsample_bylevel',\n",
       " 'colsample_bynode',\n",
       " 'colsample_bytree',\n",
       " 'enable_categorical',\n",
       " 'gamma',\n",
       " 'gpu_id',\n",
       " 'importance_type',\n",
       " 'interaction_constraints',\n",
       " 'learning_rate',\n",
       " 'max_delta_step',\n",
       " 'max_depth',\n",
       " 'min_child_weight',\n",
       " 'missing',\n",
       " 'monotone_constraints',\n",
       " 'n_estimators',\n",
       " 'n_jobs',\n",
       " 'num_parallel_tree',\n",
       " 'objective',\n",
       " 'predictor',\n",
       " 'random_state',\n",
       " 'reg_alpha',\n",
       " 'reg_lambda',\n",
       " 'scale_pos_weight',\n",
       " 'subsample',\n",
       " 'tree_method',\n",
       " 'use_label_encoder',\n",
       " 'validate_parameters',\n",
       " 'verbosity']"
      ]
     },
     "execution_count": 11,
     "metadata": {},
     "output_type": "execute_result"
    }
   ],
   "source": [
    "sorted(XGBClassifier(use_label_encoder=False).get_params().keys())"
   ]
  },
  {
   "cell_type": "code",
   "execution_count": 13,
   "metadata": {
    "scrolled": true
   },
   "outputs": [
    {
     "name": "stderr",
     "output_type": "stream",
     "text": [
      "C:\\Users\\Public\\Anaconda\\lib\\site-packages\\sklearn\\model_selection\\_search.py:922: UserWarning: One or more of the test scores are non-finite: [0.75118905 0.7941882  0.80658382        nan 0.74996534 0.80000304\n",
      " 0.81239914        nan 0.73543116 0.78592546 0.80781011        nan\n",
      " 0.71630466 0.7761311  0.80291199        nan 0.56802244 0.56802244\n",
      " 0.56802244 0.56802244 0.59005742 0.59005742 0.59005742 0.59005742\n",
      " 0.60000281 0.60000281 0.60000281 0.60000281 0.60000281 0.60000281\n",
      " 0.60000281 0.60000281 0.75088324 0.79418867 0.8059722         nan\n",
      " 0.7488915  0.80122675 0.81499946        nan 0.72716397 0.78745732\n",
      " 0.8078087         nan 0.7233383  0.77215205 0.80000656        nan\n",
      " 0.71676033 0.71706637 0.71706637 0.71721928 0.73450927 0.73496822\n",
      " 0.73450974 0.73466265 0.74001831 0.73986541 0.73971227 0.73955936\n",
      " 0.74216133 0.74231446 0.74170191 0.74170214 0.74721329 0.790821\n",
      " 0.80383036        nan 0.75027092 0.79893154 0.81102369        nan\n",
      " 0.74185341 0.79005742 0.80887927        nan 0.72945989 0.78180007\n",
      " 0.8032192         nan 0.50068866 0.50068866 0.50068866 0.50068866\n",
      " 0.50068866 0.50068866 0.50068866 0.50068866 0.50068866 0.50068866\n",
      " 0.50068866 0.50068866 0.50068866 0.50068866 0.50068866 0.50068866\n",
      " 0.69288862 0.76695234 0.79954573        nan 0.69870206 0.78882738\n",
      " 0.81408367        nan 0.69915937 0.78974809 0.81652851        nan\n",
      " 0.69870276 0.7908189  0.81285996        nan 0.50068866 0.50068866\n",
      " 0.50068866 0.50068866 0.50068866 0.50068866 0.50068866 0.50068866\n",
      " 0.50068866 0.50068866 0.50068866 0.50068866 0.50068866 0.50068866\n",
      " 0.50068866 0.50068866 0.50068866 0.75026975 0.79051613        nan\n",
      " 0.50068866 0.76037016 0.8061244         nan 0.50068866 0.76511115\n",
      " 0.80765392        nan 0.50068866 0.76572652 0.80811498        nan\n",
      " 0.50068866 0.50068866 0.50068866 0.50068866 0.50068866 0.50068866\n",
      " 0.50068866 0.50068866 0.50068866 0.50068866 0.50068866 0.50068866\n",
      " 0.50068866 0.50068866 0.50068866 0.50068866]\n",
      "  warnings.warn(\n"
     ]
    },
    {
     "name": "stdout",
     "output_type": "stream",
     "text": [
      "0.8165285134242802\n",
      "{'alpha': 10, 'booster': 'gbtree', 'eta': 0.2, 'subsample': 1}\n"
     ]
    }
   ],
   "source": [
    "\n",
    "xgc = XGBClassifier(use_label_encoder=False, eval_metric='error')\n",
    "\n",
    "param_grid = { \"booster\" : ['gbtree', 'gblinear'], \"eta\" : [0.01, 0.1, 0.2, 0.3], \n",
    "               \"alpha\" : [0.1, 0, 1, 10, 20], 'subsample' : [0.01, 0.1, 1, 10] }\n",
    "\n",
    "gs_xgc = GridSearchCV(xgc, param_grid=param_grid, scoring='accuracy', cv= 10, n_jobs=-1)\n",
    "# cv: number of partitions for cross validation\n",
    "# n_jobs: number of jobs to run in parallel, -1 means using all processors\n",
    "\n",
    "gs_xgc = gs_xgc.fit(X1_train, y1_train) # \n",
    "\n",
    "print(gs_xgc.best_score_)\n",
    "print(gs_xgc.best_params_)"
   ]
  },
  {
   "cell_type": "code",
   "execution_count": 23,
   "metadata": {},
   "outputs": [
    {
     "name": "stdout",
     "output_type": "stream",
     "text": [
      "training accuracy is:  0.826778882938026\n",
      "testing accuracy is:  0.8182791860049982\n",
      "cross val training accuracy is: 0.8299057672624064\n",
      "cross val testing accuracy is: 0.812982673253132\n"
     ]
    }
   ],
   "source": [
    "xgc = XGBClassifier(alpha=10, booster='gbtree', eta=0.2, subsample=1, use_label_encoder=False, eval_metric='error',\n",
    "                    random_state=1)\n",
    "xgc.fit(X1_train,y1_train)\n",
    "\n",
    "print('training accuracy is: ', xgc.score(X1_train,y1_train))\n",
    "print('testing accuracy is: ', xgc.score(X1_test,y1_test))\n",
    "results  = cross_validate(xgc, X1, y1, scoring='accuracy', cv=5, return_train_score = True)\n",
    "print('cross val training accuracy is:', sum(results['train_score'])/len(results['train_score']))\n",
    "print('cross val testing accuracy is:', sum(results['test_score'])/len(results['test_score']))"
   ]
  },
  {
   "cell_type": "markdown",
   "metadata": {},
   "source": [
    "#### 1.3.6.4 Tuning Parameters"
   ]
  },
  {
   "cell_type": "code",
   "execution_count": 35,
   "metadata": {},
   "outputs": [],
   "source": [
    "\n",
    "depth_range = range(1,10)\n",
    "\n",
    "train = []\n",
    "test = []\n",
    "cross_val_train =[]\n",
    "cross_val_test =[]\n",
    "\n",
    "for d in depth_range:\n",
    "    xgc = XGBClassifier(max_depth=d, alpha=10, booster='gbtree', eta=0.2, subsample=1, use_label_encoder=False,\n",
    "                        eval_metric='error', random_state=1)\n",
    "    xgc.fit(X1_train, y1_train) \n",
    "    train.append(xgc.score(X1_train, y1_train))\n",
    "    test.append(xgc.score(X1_test, y1_test))\n",
    "    \n",
    "    results  = cross_validate(xgc, X1, y1, scoring='accuracy', cv=5, return_train_score = True)\n",
    "    cross_val_train.append(sum(results['train_score'])/len(results['train_score']))\n",
    "    cross_val_test.append(sum(results['test_score'])/len(results['test_score']))\n",
    "    "
   ]
  },
  {
   "cell_type": "code",
   "execution_count": 36,
   "metadata": {
    "scrolled": true
   },
   "outputs": [
    {
     "data": {
      "image/png": "[encoded data removed]",
      "text/plain": [
       "<Figure size 432x288 with 1 Axes>"
      ]
     },
     "metadata": {
      "needs_background": "light"
     },
     "output_type": "display_data"
    }
   ],
   "source": [
    "plt.plot(depth_range, train, 'bo-', label ='training accuracy')\n",
    "plt.plot(depth_range, test, 'ro-', label = 'testing accuracy')\n",
    "\n",
    "plt.xlabel('max_depth', fontsize='x-large')\n",
    "plt.ylabel('Accuracy', fontsize='x-large')\n",
    "\n",
    "plt.legend(loc='best', shadow=True, fontsize='x-large')\n",
    "plt.show()"
   ]
  },
  {
   "cell_type": "code",
   "execution_count": 37,
   "metadata": {
    "scrolled": false
   },
   "outputs": [
    {
     "data": {
      "image/png": "[encoded data removed]",
      "text/plain": [
       "<Figure size 432x288 with 1 Axes>"
      ]
     },
     "metadata": {
      "needs_background": "light"
     },
     "output_type": "display_data"
    }
   ],
   "source": [
    "plt.plot(depth_range, cross_val_train, 'bo-', label ='cross val training accuracy')\n",
    "plt.plot(depth_range, cross_val_test, 'ro-', label = 'cross val testing accuracy')\n",
    "\n",
    "plt.xlabel('max_depth', fontsize='x-large')\n",
    "plt.ylabel('Accuracy', fontsize='x-large')\n",
    "\n",
    "plt.legend(loc='best', shadow=True, fontsize='x-large')\n",
    "plt.show()"
   ]
  },
  {
   "cell_type": "code",
   "execution_count": 111,
   "metadata": {},
   "outputs": [
    {
     "name": "stdout",
     "output_type": "stream",
     "text": [
      "training accuracy is:  0.8299923488905891\n",
      "testing accuracy is:  0.8168511245983577\n",
      "cross val training accuracy is: 0.8309501303835894\n",
      "cross val testing accuracy is: 0.8152318701119065\n"
     ]
    }
   ],
   "source": [
    "xgc_final = XGBClassifier(alpha=10, booster='gbtree', eta=0.2, subsample=1, use_label_encoder=False, eval_metric='error',\n",
    "                    max_depth=4, random_state=1)\n",
    "xgc_final.fit(X1_train,y1_train)\n",
    "\n",
    "print('training accuracy is: ', xgc_final.score(X1_train,y1_train))\n",
    "print('testing accuracy is: ', xgc_final.score(X1_test,y1_test))\n",
    "results  = cross_validate(xgc_final, X1, y1, scoring='accuracy', cv=5, return_train_score = True)\n",
    "print('cross val training accuracy is:', sum(results['train_score'])/len(results['train_score']))\n",
    "print('cross val testing accuracy is:', sum(results['test_score'])/len(results['test_score']))"
   ]
  },
  {
   "cell_type": "markdown",
   "metadata": {},
   "source": [
    "## 2. Airbnb"
   ]
  },
  {
   "cell_type": "markdown",
   "metadata": {},
   "source": [
    "### 2.1 Load and Sample the data"
   ]
  },
  {
   "cell_type": "markdown",
   "metadata": {},
   "source": [
    "#### 2.1.1 Load and Display data"
   ]
  },
  {
   "cell_type": "code",
   "execution_count": 148,
   "metadata": {},
   "outputs": [],
   "source": [
    "# Load the full dataset\n",
    "df2 = pd.read_csv('listings_new.csv')\n",
    "\n",
    "# Create a copy of the DataFrame\n",
    "df2_new = df2.copy()"
   ]
  },
  {
   "cell_type": "code",
   "execution_count": 149,
   "metadata": {},
   "outputs": [
    {
     "data": {
      "text/html": [
       "<div>\n",
       "<style scoped>\n",
       "    .dataframe tbody tr th:only-of-type {\n",
       "        vertical-align: middle;\n",
       "    }\n",
       "\n",
       "    .dataframe tbody tr th {\n",
       "        vertical-align: top;\n",
       "    }\n",
       "\n",
       "    .dataframe thead th {\n",
       "        text-align: right;\n",
       "    }\n",
       "</style>\n",
       "<table border=\"1\" class=\"dataframe\">\n",
       "  <thead>\n",
       "    <tr style=\"text-align: right;\">\n",
       "      <th></th>\n",
       "      <th>neighbourhood</th>\n",
       "      <th>latitude</th>\n",
       "      <th>longitude</th>\n",
       "      <th>room_type</th>\n",
       "      <th>price</th>\n",
       "      <th>minimum_nights</th>\n",
       "      <th>number_of_reviews</th>\n",
       "      <th>last_review</th>\n",
       "      <th>reviews_per_month</th>\n",
       "      <th>calculated_host_listings_count</th>\n",
       "      <th>availability_365</th>\n",
       "    </tr>\n",
       "  </thead>\n",
       "  <tbody>\n",
       "    <tr>\n",
       "      <th>0</th>\n",
       "      <td>0</td>\n",
       "      <td>1.33235</td>\n",
       "      <td>103.78521</td>\n",
       "      <td>1</td>\n",
       "      <td>81</td>\n",
       "      <td>0.089089</td>\n",
       "      <td>0.058632</td>\n",
       "      <td>0.797847</td>\n",
       "      <td>0.28</td>\n",
       "      <td>0.000000</td>\n",
       "      <td>1.000000</td>\n",
       "    </tr>\n",
       "    <tr>\n",
       "      <th>1</th>\n",
       "      <td>6</td>\n",
       "      <td>1.28875</td>\n",
       "      <td>103.80814</td>\n",
       "      <td>1</td>\n",
       "      <td>44</td>\n",
       "      <td>0.014014</td>\n",
       "      <td>0.058632</td>\n",
       "      <td>0.059897</td>\n",
       "      <td>0.23</td>\n",
       "      <td>0.113553</td>\n",
       "      <td>0.906849</td>\n",
       "    </tr>\n",
       "    <tr>\n",
       "      <th>2</th>\n",
       "      <td>6</td>\n",
       "      <td>1.28837</td>\n",
       "      <td>103.81099</td>\n",
       "      <td>1</td>\n",
       "      <td>40</td>\n",
       "      <td>0.029029</td>\n",
       "      <td>0.032573</td>\n",
       "      <td>0.162845</td>\n",
       "      <td>0.11</td>\n",
       "      <td>0.113553</td>\n",
       "      <td>0.756164</td>\n",
       "    </tr>\n",
       "    <tr>\n",
       "      <th>3</th>\n",
       "      <td>0</td>\n",
       "      <td>1.31125</td>\n",
       "      <td>103.83816</td>\n",
       "      <td>1</td>\n",
       "      <td>65</td>\n",
       "      <td>0.001001</td>\n",
       "      <td>0.407166</td>\n",
       "      <td>0.002340</td>\n",
       "      <td>1.35</td>\n",
       "      <td>0.018315</td>\n",
       "      <td>0.920548</td>\n",
       "    </tr>\n",
       "    <tr>\n",
       "      <th>4</th>\n",
       "      <td>6</td>\n",
       "      <td>1.28976</td>\n",
       "      <td>103.80896</td>\n",
       "      <td>1</td>\n",
       "      <td>44</td>\n",
       "      <td>0.029029</td>\n",
       "      <td>0.042345</td>\n",
       "      <td>0.096397</td>\n",
       "      <td>0.15</td>\n",
       "      <td>0.113553</td>\n",
       "      <td>0.931507</td>\n",
       "    </tr>\n",
       "  </tbody>\n",
       "</table>\n",
       "</div>"
      ],
      "text/plain": [
       "   neighbourhood  latitude  longitude  room_type  price  minimum_nights  \\\n",
       "0              0   1.33235  103.78521          1     81        0.089089   \n",
       "1              6   1.28875  103.80814          1     44        0.014014   \n",
       "2              6   1.28837  103.81099          1     40        0.029029   \n",
       "3              0   1.31125  103.83816          1     65        0.001001   \n",
       "4              6   1.28976  103.80896          1     44        0.029029   \n",
       "\n",
       "   number_of_reviews  last_review  reviews_per_month  \\\n",
       "0           0.058632     0.797847               0.28   \n",
       "1           0.058632     0.059897               0.23   \n",
       "2           0.032573     0.162845               0.11   \n",
       "3           0.407166     0.002340               1.35   \n",
       "4           0.042345     0.096397               0.15   \n",
       "\n",
       "   calculated_host_listings_count  availability_365  \n",
       "0                        0.000000          1.000000  \n",
       "1                        0.113553          0.906849  \n",
       "2                        0.113553          0.756164  \n",
       "3                        0.018315          0.920548  \n",
       "4                        0.113553          0.931507  "
      ]
     },
     "execution_count": 149,
     "metadata": {},
     "output_type": "execute_result"
    }
   ],
   "source": [
    "df2_new.head()"
   ]
  },
  {
   "cell_type": "code",
   "execution_count": 150,
   "metadata": {},
   "outputs": [
    {
     "name": "stdout",
     "output_type": "stream",
     "text": [
      "<class 'pandas.core.frame.DataFrame'>\n",
      "RangeIndex: 6024 entries, 0 to 6023\n",
      "Data columns (total 11 columns):\n",
      " #   Column                          Non-Null Count  Dtype  \n",
      "---  ------                          --------------  -----  \n",
      " 0   neighbourhood                   6024 non-null   int64  \n",
      " 1   latitude                        6024 non-null   float64\n",
      " 2   longitude                       6024 non-null   float64\n",
      " 3   room_type                       6024 non-null   int64  \n",
      " 4   price                           6024 non-null   int64  \n",
      " 5   minimum_nights                  6024 non-null   float64\n",
      " 6   number_of_reviews               6024 non-null   float64\n",
      " 7   last_review                     6024 non-null   float64\n",
      " 8   reviews_per_month               6024 non-null   float64\n",
      " 9   calculated_host_listings_count  6024 non-null   float64\n",
      " 10  availability_365                6024 non-null   float64\n",
      "dtypes: float64(8), int64(3)\n",
      "memory usage: 517.8 KB\n"
     ]
    }
   ],
   "source": [
    "df2_new.info()"
   ]
  },
  {
   "cell_type": "code",
   "execution_count": 151,
   "metadata": {},
   "outputs": [
    {
     "data": {
      "text/html": [
       "<div>\n",
       "<style scoped>\n",
       "    .dataframe tbody tr th:only-of-type {\n",
       "        vertical-align: middle;\n",
       "    }\n",
       "\n",
       "    .dataframe tbody tr th {\n",
       "        vertical-align: top;\n",
       "    }\n",
       "\n",
       "    .dataframe thead th {\n",
       "        text-align: right;\n",
       "    }\n",
       "</style>\n",
       "<table border=\"1\" class=\"dataframe\">\n",
       "  <thead>\n",
       "    <tr style=\"text-align: right;\">\n",
       "      <th></th>\n",
       "      <th>neighbourhood</th>\n",
       "      <th>latitude</th>\n",
       "      <th>longitude</th>\n",
       "      <th>room_type</th>\n",
       "      <th>price</th>\n",
       "      <th>minimum_nights</th>\n",
       "      <th>number_of_reviews</th>\n",
       "      <th>last_review</th>\n",
       "      <th>reviews_per_month</th>\n",
       "      <th>calculated_host_listings_count</th>\n",
       "      <th>availability_365</th>\n",
       "    </tr>\n",
       "  </thead>\n",
       "  <tbody>\n",
       "    <tr>\n",
       "      <th>count</th>\n",
       "      <td>6024.000000</td>\n",
       "      <td>6024.000000</td>\n",
       "      <td>6024.000000</td>\n",
       "      <td>6024.000000</td>\n",
       "      <td>6024.000000</td>\n",
       "      <td>6024.000000</td>\n",
       "      <td>6024.000000</td>\n",
       "      <td>6024.000000</td>\n",
       "      <td>6024.000000</td>\n",
       "      <td>6024.000000</td>\n",
       "      <td>6024.000000</td>\n",
       "    </tr>\n",
       "    <tr>\n",
       "      <th>mean</th>\n",
       "      <td>2.396746</td>\n",
       "      <td>1.303842</td>\n",
       "      <td>103.851188</td>\n",
       "      <td>0.476262</td>\n",
       "      <td>144.686421</td>\n",
       "      <td>0.014718</td>\n",
       "      <td>0.043168</td>\n",
       "      <td>0.401993</td>\n",
       "      <td>0.711295</td>\n",
       "      <td>0.172584</td>\n",
       "      <td>0.584569</td>\n",
       "    </tr>\n",
       "    <tr>\n",
       "      <th>std</th>\n",
       "      <td>2.268605</td>\n",
       "      <td>0.016346</td>\n",
       "      <td>0.025284</td>\n",
       "      <td>0.603081</td>\n",
       "      <td>86.657481</td>\n",
       "      <td>0.036327</td>\n",
       "      <td>0.095415</td>\n",
       "      <td>0.443818</td>\n",
       "      <td>1.151071</td>\n",
       "      <td>0.251658</td>\n",
       "      <td>0.393627</td>\n",
       "    </tr>\n",
       "    <tr>\n",
       "      <th>min</th>\n",
       "      <td>0.000000</td>\n",
       "      <td>1.245260</td>\n",
       "      <td>103.763270</td>\n",
       "      <td>0.000000</td>\n",
       "      <td>0.000000</td>\n",
       "      <td>0.000000</td>\n",
       "      <td>0.000000</td>\n",
       "      <td>0.000000</td>\n",
       "      <td>0.000000</td>\n",
       "      <td>0.000000</td>\n",
       "      <td>0.000000</td>\n",
       "    </tr>\n",
       "    <tr>\n",
       "      <th>25%</th>\n",
       "      <td>0.000000</td>\n",
       "      <td>1.291170</td>\n",
       "      <td>103.839397</td>\n",
       "      <td>0.000000</td>\n",
       "      <td>75.000000</td>\n",
       "      <td>0.001001</td>\n",
       "      <td>0.000000</td>\n",
       "      <td>0.014038</td>\n",
       "      <td>0.000000</td>\n",
       "      <td>0.006410</td>\n",
       "      <td>0.167123</td>\n",
       "    </tr>\n",
       "    <tr>\n",
       "      <th>50%</th>\n",
       "      <td>2.000000</td>\n",
       "      <td>1.306340</td>\n",
       "      <td>103.849555</td>\n",
       "      <td>0.000000</td>\n",
       "      <td>131.000000</td>\n",
       "      <td>0.002002</td>\n",
       "      <td>0.006515</td>\n",
       "      <td>0.112775</td>\n",
       "      <td>0.200000</td>\n",
       "      <td>0.047619</td>\n",
       "      <td>0.723288</td>\n",
       "    </tr>\n",
       "    <tr>\n",
       "      <th>75%</th>\n",
       "      <td>4.000000</td>\n",
       "      <td>1.314660</td>\n",
       "      <td>103.862700</td>\n",
       "      <td>1.000000</td>\n",
       "      <td>199.000000</td>\n",
       "      <td>0.009009</td>\n",
       "      <td>0.035831</td>\n",
       "      <td>1.000000</td>\n",
       "      <td>0.950000</td>\n",
       "      <td>0.241758</td>\n",
       "      <td>0.967808</td>\n",
       "    </tr>\n",
       "    <tr>\n",
       "      <th>max</th>\n",
       "      <td>7.000000</td>\n",
       "      <td>1.365830</td>\n",
       "      <td>103.918220</td>\n",
       "      <td>2.000000</td>\n",
       "      <td>400.000000</td>\n",
       "      <td>1.000000</td>\n",
       "      <td>1.000000</td>\n",
       "      <td>1.000000</td>\n",
       "      <td>13.000000</td>\n",
       "      <td>1.000000</td>\n",
       "      <td>1.000000</td>\n",
       "    </tr>\n",
       "  </tbody>\n",
       "</table>\n",
       "</div>"
      ],
      "text/plain": [
       "       neighbourhood     latitude    longitude    room_type        price  \\\n",
       "count    6024.000000  6024.000000  6024.000000  6024.000000  6024.000000   \n",
       "mean        2.396746     1.303842   103.851188     0.476262   144.686421   \n",
       "std         2.268605     0.016346     0.025284     0.603081    86.657481   \n",
       "min         0.000000     1.245260   103.763270     0.000000     0.000000   \n",
       "25%         0.000000     1.291170   103.839397     0.000000    75.000000   \n",
       "50%         2.000000     1.306340   103.849555     0.000000   131.000000   \n",
       "75%         4.000000     1.314660   103.862700     1.000000   199.000000   \n",
       "max         7.000000     1.365830   103.918220     2.000000   400.000000   \n",
       "\n",
       "       minimum_nights  number_of_reviews  last_review  reviews_per_month  \\\n",
       "count     6024.000000        6024.000000  6024.000000        6024.000000   \n",
       "mean         0.014718           0.043168     0.401993           0.711295   \n",
       "std          0.036327           0.095415     0.443818           1.151071   \n",
       "min          0.000000           0.000000     0.000000           0.000000   \n",
       "25%          0.001001           0.000000     0.014038           0.000000   \n",
       "50%          0.002002           0.006515     0.112775           0.200000   \n",
       "75%          0.009009           0.035831     1.000000           0.950000   \n",
       "max          1.000000           1.000000     1.000000          13.000000   \n",
       "\n",
       "       calculated_host_listings_count  availability_365  \n",
       "count                     6024.000000       6024.000000  \n",
       "mean                         0.172584          0.584569  \n",
       "std                          0.251658          0.393627  \n",
       "min                          0.000000          0.000000  \n",
       "25%                          0.006410          0.167123  \n",
       "50%                          0.047619          0.723288  \n",
       "75%                          0.241758          0.967808  \n",
       "max                          1.000000          1.000000  "
      ]
     },
     "execution_count": 151,
     "metadata": {},
     "output_type": "execute_result"
    }
   ],
   "source": [
    "df2_new.describe()"
   ]
  },
  {
   "cell_type": "markdown",
   "metadata": {},
   "source": [
    "#### 2.1.2 Sample data"
   ]
  },
  {
   "cell_type": "code",
   "execution_count": 152,
   "metadata": {},
   "outputs": [],
   "source": [
    "# Define Model Inputs (X) and Output (y)\n",
    "X2 = df2.drop(['price'], axis =1)\n",
    "y2 = df2[\"price\"]"
   ]
  },
  {
   "cell_type": "code",
   "execution_count": 153,
   "metadata": {},
   "outputs": [],
   "source": [
    "# Split both Inputs (X) and Ouput (y) into training set (70%) and testing set (30%)\n",
    "X2_train, X2_test, y2_train, y2_test = train_test_split(X2, y2, test_size=0.3, random_state=10)"
   ]
  },
  {
   "cell_type": "code",
   "execution_count": 154,
   "metadata": {
    "scrolled": true
   },
   "outputs": [
    {
     "data": {
      "text/plain": [
       "Text(0.5, 0, 'X')"
      ]
     },
     "execution_count": 154,
     "metadata": {},
     "output_type": "execute_result"
    },
    {
     "data": {
      "image/png": "[encoded data removed]",
      "text/plain": [
       "<Figure size 432x288 with 1 Axes>"
      ]
     },
     "metadata": {
      "needs_background": "light"
     },
     "output_type": "display_data"
    }
   ],
   "source": [
    "plt.plot(X2,y2, 'b.')\n",
    "plt.ylabel('Y')\n",
    "plt.xlabel('X')"
   ]
  },
  {
   "cell_type": "markdown",
   "metadata": {},
   "source": [
    "### 2.2 Build the Model(s)"
   ]
  },
  {
   "cell_type": "markdown",
   "metadata": {},
   "source": [
    "#### 2.2.1 Linear Regression"
   ]
  },
  {
   "cell_type": "code",
   "execution_count": 155,
   "metadata": {},
   "outputs": [
    {
     "data": {
      "text/plain": [
       "LinearRegression()"
      ]
     },
     "execution_count": 155,
     "metadata": {},
     "output_type": "execute_result"
    }
   ],
   "source": [
    "# Create the model \"lin\"\n",
    "lin = LinearRegression() # maximum iterations: set a big number to make sure the optimization solver will\n",
    "# run enough iterations to let the model converge\n",
    "\n",
    "# Fit the model to the training set\n",
    "lin.fit(X2_train, y2_train.ravel())"
   ]
  },
  {
   "cell_type": "markdown",
   "metadata": {},
   "source": [
    "#### 2.2.2 Decision Tree Regressor"
   ]
  },
  {
   "cell_type": "code",
   "execution_count": 156,
   "metadata": {},
   "outputs": [
    {
     "data": {
      "text/plain": [
       "DecisionTreeRegressor()"
      ]
     },
     "execution_count": 156,
     "metadata": {},
     "output_type": "execute_result"
    }
   ],
   "source": [
    "dtr = DecisionTreeRegressor()\n",
    "dtr.fit(X2_train, y2_train.ravel())"
   ]
  },
  {
   "cell_type": "markdown",
   "metadata": {},
   "source": [
    "#### 2.2.3 Multi-layer Perceptron Regressor "
   ]
  },
  {
   "cell_type": "code",
   "execution_count": 157,
   "metadata": {
    "scrolled": true
   },
   "outputs": [
    {
     "data": {
      "text/plain": [
       "MLPRegressor(max_iter=500)"
      ]
     },
     "execution_count": 157,
     "metadata": {},
     "output_type": "execute_result"
    }
   ],
   "source": [
    "mlpr = MLPRegressor(max_iter=500)\n",
    "mlpr.fit(X2_train, y2_train.ravel())"
   ]
  },
  {
   "cell_type": "markdown",
   "metadata": {},
   "source": [
    "#### 2.2.4 Random Forest Regressor"
   ]
  },
  {
   "cell_type": "code",
   "execution_count": 158,
   "metadata": {
    "scrolled": true
   },
   "outputs": [
    {
     "data": {
      "text/plain": [
       "RandomForestRegressor()"
      ]
     },
     "execution_count": 158,
     "metadata": {},
     "output_type": "execute_result"
    }
   ],
   "source": [
    "rfr = RandomForestRegressor()\n",
    "rfr.fit(X2_train, y2_train.ravel())"
   ]
  },
  {
   "cell_type": "markdown",
   "metadata": {},
   "source": [
    "#### 2.2.5 Support Vector Regressor"
   ]
  },
  {
   "cell_type": "code",
   "execution_count": 159,
   "metadata": {},
   "outputs": [
    {
     "data": {
      "text/plain": [
       "SVR()"
      ]
     },
     "execution_count": 159,
     "metadata": {},
     "output_type": "execute_result"
    }
   ],
   "source": [
    "svr = SVR()\n",
    "svr.fit(X2_train, y2_train.ravel())"
   ]
  },
  {
   "cell_type": "markdown",
   "metadata": {},
   "source": [
    "#### 2.2.6 XGBoost Regressor"
   ]
  },
  {
   "cell_type": "code",
   "execution_count": 160,
   "metadata": {},
   "outputs": [
    {
     "data": {
      "text/plain": [
       "XGBRegressor(base_score=0.5, booster='gbtree', colsample_bylevel=1,\n",
       "             colsample_bynode=1, colsample_bytree=1, enable_categorical=False,\n",
       "             gamma=0, gpu_id=-1, importance_type=None,\n",
       "             interaction_constraints='', learning_rate=0.300000012,\n",
       "             max_delta_step=0, max_depth=6, min_child_weight=1, missing=nan,\n",
       "             monotone_constraints='()', n_estimators=100, n_jobs=8,\n",
       "             num_parallel_tree=1, predictor='auto', random_state=0, reg_alpha=0,\n",
       "             reg_lambda=1, scale_pos_weight=1, subsample=1, tree_method='exact',\n",
       "             use_label_encoder=False, validate_parameters=1, verbosity=None)"
      ]
     },
     "execution_count": 160,
     "metadata": {},
     "output_type": "execute_result"
    }
   ],
   "source": [
    "xgr = XGBRegressor(use_label_encoder=False)\n",
    "xgr.fit(X2_train, y2_train.ravel())"
   ]
  },
  {
   "cell_type": "markdown",
   "metadata": {},
   "source": [
    "### 2.3 Evaluate and Improve the Model(s)"
   ]
  },
  {
   "cell_type": "markdown",
   "metadata": {},
   "source": [
    "#### 2.3.1 Linear Regression"
   ]
  },
  {
   "cell_type": "markdown",
   "metadata": {},
   "source": [
    "#### 2.3.1.1 Evaluation of default model"
   ]
  },
  {
   "cell_type": "code",
   "execution_count": 68,
   "metadata": {},
   "outputs": [
    {
     "name": "stdout",
     "output_type": "stream",
     "text": [
      "the training mean squared error is:  4674.13376602454\n",
      "the testing mean squared error is:  4306.263828025038\n",
      "the training root mean squared error is:  68.3676368322362\n",
      "the testing root mean squared error is:  65.62212910310849\n",
      "training R^2 value is:  0.38453643239087476\n",
      "testing R^2 value is:  0.41057678552776056\n"
     ]
    }
   ],
   "source": [
    "print('the training mean squared error is: ', mean_squared_error(lin.predict(X2_train), y2_train))\n",
    "print('the testing mean squared error is: ', mean_squared_error(lin.predict(X2_test), y2_test))\n",
    "\n",
    "print('the training root mean squared error is: ', sqrt(mean_squared_error(lin.predict(X2_train), y2_train)))\n",
    "print('the testing root mean squared error is: ', sqrt(mean_squared_error(lin.predict(X2_test), y2_test)))\n",
    "\n",
    "train_R2 = lin.score(X2_train, y2_train)\n",
    "print('training R^2 value is: ', train_R2)\n",
    "test_R2 = lin.score(X2_test, y2_test)\n",
    "print('testing R^2 value is: ', test_R2)"
   ]
  },
  {
   "cell_type": "markdown",
   "metadata": {},
   "source": [
    "#### 2.3.1.2 Stats model"
   ]
  },
  {
   "cell_type": "code",
   "execution_count": 70,
   "metadata": {
    "scrolled": false
   },
   "outputs": [
    {
     "data": {
      "text/html": [
       "<table class=\"simpletable\">\n",
       "<caption>OLS Regression Results</caption>\n",
       "<tr>\n",
       "  <th>Dep. Variable:</th>          <td>price</td>      <th>  R-squared (uncentered):</th>      <td>   0.836</td> \n",
       "</tr>\n",
       "<tr>\n",
       "  <th>Model:</th>                   <td>OLS</td>       <th>  Adj. R-squared (uncentered):</th> <td>   0.836</td> \n",
       "</tr>\n",
       "<tr>\n",
       "  <th>Method:</th>             <td>Least Squares</td>  <th>  F-statistic:       </th>          <td>   2150.</td> \n",
       "</tr>\n",
       "<tr>\n",
       "  <th>Date:</th>             <td>Fri, 28 Jan 2022</td> <th>  Prob (F-statistic):</th>           <td>  0.00</td>  \n",
       "</tr>\n",
       "<tr>\n",
       "  <th>Time:</th>                 <td>10:34:22</td>     <th>  Log-Likelihood:    </th>          <td> -23800.</td> \n",
       "</tr>\n",
       "<tr>\n",
       "  <th>No. Observations:</th>      <td>  4216</td>      <th>  AIC:               </th>          <td>4.762e+04</td>\n",
       "</tr>\n",
       "<tr>\n",
       "  <th>Df Residuals:</th>          <td>  4206</td>      <th>  BIC:               </th>          <td>4.768e+04</td>\n",
       "</tr>\n",
       "<tr>\n",
       "  <th>Df Model:</th>              <td>    10</td>      <th>                     </th>              <td> </td>    \n",
       "</tr>\n",
       "<tr>\n",
       "  <th>Covariance Type:</th>      <td>nonrobust</td>    <th>                     </th>              <td> </td>    \n",
       "</tr>\n",
       "</table>\n",
       "<table class=\"simpletable\">\n",
       "<tr>\n",
       "                 <td></td>                   <th>coef</th>     <th>std err</th>      <th>t</th>      <th>P>|t|</th>  <th>[0.025</th>    <th>0.975]</th>  \n",
       "</tr>\n",
       "<tr>\n",
       "  <th>neighbourhood</th>                  <td>    0.2108</td> <td>    0.550</td> <td>    0.383</td> <td> 0.701</td> <td>   -0.867</td> <td>    1.288</td>\n",
       "</tr>\n",
       "<tr>\n",
       "  <th>latitude</th>                       <td> -201.5711</td> <td>   77.140</td> <td>   -2.613</td> <td> 0.009</td> <td> -352.806</td> <td>  -50.337</td>\n",
       "</tr>\n",
       "<tr>\n",
       "  <th>longitude</th>                      <td>    4.1461</td> <td>    0.975</td> <td>    4.255</td> <td> 0.000</td> <td>    2.236</td> <td>    6.057</td>\n",
       "</tr>\n",
       "<tr>\n",
       "  <th>room_type</th>                      <td>  -88.9161</td> <td>    1.888</td> <td>  -47.107</td> <td> 0.000</td> <td>  -92.617</td> <td>  -85.216</td>\n",
       "</tr>\n",
       "<tr>\n",
       "  <th>minimum_nights</th>                 <td> -279.6339</td> <td>   30.059</td> <td>   -9.303</td> <td> 0.000</td> <td> -338.565</td> <td> -220.703</td>\n",
       "</tr>\n",
       "<tr>\n",
       "  <th>number_of_reviews</th>              <td>  -69.2150</td> <td>   14.860</td> <td>   -4.658</td> <td> 0.000</td> <td>  -98.348</td> <td>  -40.082</td>\n",
       "</tr>\n",
       "<tr>\n",
       "  <th>last_review</th>                    <td>   12.3928</td> <td>    2.847</td> <td>    4.353</td> <td> 0.000</td> <td>    6.811</td> <td>   17.974</td>\n",
       "</tr>\n",
       "<tr>\n",
       "  <th>reviews_per_month</th>              <td>    6.5510</td> <td>    1.403</td> <td>    4.668</td> <td> 0.000</td> <td>    3.800</td> <td>    9.302</td>\n",
       "</tr>\n",
       "<tr>\n",
       "  <th>calculated_host_listings_count</th> <td>  -19.0835</td> <td>    4.688</td> <td>   -4.071</td> <td> 0.000</td> <td>  -28.274</td> <td>   -9.893</td>\n",
       "</tr>\n",
       "<tr>\n",
       "  <th>availability_365</th>               <td>   33.3058</td> <td>    2.843</td> <td>   11.714</td> <td> 0.000</td> <td>   27.731</td> <td>   38.880</td>\n",
       "</tr>\n",
       "</table>\n",
       "<table class=\"simpletable\">\n",
       "<tr>\n",
       "  <th>Omnibus:</th>       <td>725.002</td> <th>  Durbin-Watson:     </th> <td>   2.027</td> \n",
       "</tr>\n",
       "<tr>\n",
       "  <th>Prob(Omnibus):</th> <td> 0.000</td>  <th>  Jarque-Bera (JB):  </th> <td>1216.334</td> \n",
       "</tr>\n",
       "<tr>\n",
       "  <th>Skew:</th>          <td> 1.134</td>  <th>  Prob(JB):          </th> <td>7.52e-265</td>\n",
       "</tr>\n",
       "<tr>\n",
       "  <th>Kurtosis:</th>      <td> 4.333</td>  <th>  Cond. No.          </th> <td>7.59e+03</td> \n",
       "</tr>\n",
       "</table><br/><br/>Notes:<br/>[1] R² is computed without centering (uncentered) since the model does not contain a constant.<br/>[2] Standard Errors assume that the covariance matrix of the errors is correctly specified.<br/>[3] The condition number is large, 7.59e+03. This might indicate that there are<br/>strong multicollinearity or other numerical problems."
      ],
      "text/plain": [
       "<class 'statsmodels.iolib.summary.Summary'>\n",
       "\"\"\"\n",
       "                                 OLS Regression Results                                \n",
       "=======================================================================================\n",
       "Dep. Variable:                  price   R-squared (uncentered):                   0.836\n",
       "Model:                            OLS   Adj. R-squared (uncentered):              0.836\n",
       "Method:                 Least Squares   F-statistic:                              2150.\n",
       "Date:                Fri, 28 Jan 2022   Prob (F-statistic):                        0.00\n",
       "Time:                        10:34:22   Log-Likelihood:                         -23800.\n",
       "No. Observations:                4216   AIC:                                  4.762e+04\n",
       "Df Residuals:                    4206   BIC:                                  4.768e+04\n",
       "Df Model:                          10                                                  \n",
       "Covariance Type:            nonrobust                                                  \n",
       "==================================================================================================\n",
       "                                     coef    std err          t      P>|t|      [0.025      0.975]\n",
       "--------------------------------------------------------------------------------------------------\n",
       "neighbourhood                      0.2108      0.550      0.383      0.701      -0.867       1.288\n",
       "latitude                        -201.5711     77.140     -2.613      0.009    -352.806     -50.337\n",
       "longitude                          4.1461      0.975      4.255      0.000       2.236       6.057\n",
       "room_type                        -88.9161      1.888    -47.107      0.000     -92.617     -85.216\n",
       "minimum_nights                  -279.6339     30.059     -9.303      0.000    -338.565    -220.703\n",
       "number_of_reviews                -69.2150     14.860     -4.658      0.000     -98.348     -40.082\n",
       "last_review                       12.3928      2.847      4.353      0.000       6.811      17.974\n",
       "reviews_per_month                  6.5510      1.403      4.668      0.000       3.800       9.302\n",
       "calculated_host_listings_count   -19.0835      4.688     -4.071      0.000     -28.274      -9.893\n",
       "availability_365                  33.3058      2.843     11.714      0.000      27.731      38.880\n",
       "==============================================================================\n",
       "Omnibus:                      725.002   Durbin-Watson:                   2.027\n",
       "Prob(Omnibus):                  0.000   Jarque-Bera (JB):             1216.334\n",
       "Skew:                           1.134   Prob(JB):                    7.52e-265\n",
       "Kurtosis:                       4.333   Cond. No.                     7.59e+03\n",
       "==============================================================================\n",
       "\n",
       "Notes:\n",
       "[1] R² is computed without centering (uncentered) since the model does not contain a constant.\n",
       "[2] Standard Errors assume that the covariance matrix of the errors is correctly specified.\n",
       "[3] The condition number is large, 7.59e+03. This might indicate that there are\n",
       "strong multicollinearity or other numerical problems.\n",
       "\"\"\""
      ]
     },
     "execution_count": 70,
     "metadata": {},
     "output_type": "execute_result"
    }
   ],
   "source": [
    "# The lm model refers to sklearn model and lm2 model refers to statsmodel.api model\n",
    "\n",
    "# Create another model lm2 using statsmodel.api: the Ordinary Least Squares (OLS) method and fit function\n",
    "lm2 = sm.OLS(y2_train, X2_train).fit()\n",
    "# Summary statistics from the model\n",
    "lm2.summary()"
   ]
  },
  {
   "cell_type": "code",
   "execution_count": 71,
   "metadata": {},
   "outputs": [],
   "source": [
    "X4 = df2.drop(['price', 'neighbourhood'], axis = 1)\n",
    "y4 = df2[\"price\"]"
   ]
  },
  {
   "cell_type": "code",
   "execution_count": 72,
   "metadata": {},
   "outputs": [],
   "source": [
    "# Split both Inputs (X) and Ouput (y) into training set (70%) and testing set (30%)\n",
    "X4_train, X4_test, y4_train, y4_test = train_test_split(X4, y4, test_size=0.3, random_state=10)"
   ]
  },
  {
   "cell_type": "code",
   "execution_count": 73,
   "metadata": {
    "scrolled": true
   },
   "outputs": [
    {
     "data": {
      "text/html": [
       "<table class=\"simpletable\">\n",
       "<caption>OLS Regression Results</caption>\n",
       "<tr>\n",
       "  <th>Dep. Variable:</th>          <td>price</td>      <th>  R-squared (uncentered):</th>      <td>   0.836</td> \n",
       "</tr>\n",
       "<tr>\n",
       "  <th>Model:</th>                   <td>OLS</td>       <th>  Adj. R-squared (uncentered):</th> <td>   0.836</td> \n",
       "</tr>\n",
       "<tr>\n",
       "  <th>Method:</th>             <td>Least Squares</td>  <th>  F-statistic:       </th>          <td>   2390.</td> \n",
       "</tr>\n",
       "<tr>\n",
       "  <th>Date:</th>             <td>Fri, 28 Jan 2022</td> <th>  Prob (F-statistic):</th>           <td>  0.00</td>  \n",
       "</tr>\n",
       "<tr>\n",
       "  <th>Time:</th>                 <td>10:34:24</td>     <th>  Log-Likelihood:    </th>          <td> -23800.</td> \n",
       "</tr>\n",
       "<tr>\n",
       "  <th>No. Observations:</th>      <td>  4216</td>      <th>  AIC:               </th>          <td>4.762e+04</td>\n",
       "</tr>\n",
       "<tr>\n",
       "  <th>Df Residuals:</th>          <td>  4207</td>      <th>  BIC:               </th>          <td>4.768e+04</td>\n",
       "</tr>\n",
       "<tr>\n",
       "  <th>Df Model:</th>              <td>     9</td>      <th>                     </th>              <td> </td>    \n",
       "</tr>\n",
       "<tr>\n",
       "  <th>Covariance Type:</th>      <td>nonrobust</td>    <th>                     </th>              <td> </td>    \n",
       "</tr>\n",
       "</table>\n",
       "<table class=\"simpletable\">\n",
       "<tr>\n",
       "                 <td></td>                   <th>coef</th>     <th>std err</th>      <th>t</th>      <th>P>|t|</th>  <th>[0.025</th>    <th>0.975]</th>  \n",
       "</tr>\n",
       "<tr>\n",
       "  <th>latitude</th>                       <td> -217.1487</td> <td>   65.568</td> <td>   -3.312</td> <td> 0.001</td> <td> -345.698</td> <td>  -88.600</td>\n",
       "</tr>\n",
       "<tr>\n",
       "  <th>longitude</th>                      <td>    4.3459</td> <td>    0.824</td> <td>    5.277</td> <td> 0.000</td> <td>    2.731</td> <td>    5.960</td>\n",
       "</tr>\n",
       "<tr>\n",
       "  <th>room_type</th>                      <td>  -88.9381</td> <td>    1.886</td> <td>  -47.146</td> <td> 0.000</td> <td>  -92.637</td> <td>  -85.240</td>\n",
       "</tr>\n",
       "<tr>\n",
       "  <th>minimum_nights</th>                 <td> -279.1611</td> <td>   30.030</td> <td>   -9.296</td> <td> 0.000</td> <td> -338.036</td> <td> -220.286</td>\n",
       "</tr>\n",
       "<tr>\n",
       "  <th>number_of_reviews</th>              <td>  -69.3664</td> <td>   14.853</td> <td>   -4.670</td> <td> 0.000</td> <td>  -98.486</td> <td>  -40.247</td>\n",
       "</tr>\n",
       "<tr>\n",
       "  <th>last_review</th>                    <td>   12.4479</td> <td>    2.843</td> <td>    4.378</td> <td> 0.000</td> <td>    6.874</td> <td>   18.022</td>\n",
       "</tr>\n",
       "<tr>\n",
       "  <th>reviews_per_month</th>              <td>    6.5867</td> <td>    1.400</td> <td>    4.704</td> <td> 0.000</td> <td>    3.842</td> <td>    9.332</td>\n",
       "</tr>\n",
       "<tr>\n",
       "  <th>calculated_host_listings_count</th> <td>  -18.8507</td> <td>    4.648</td> <td>   -4.056</td> <td> 0.000</td> <td>  -27.963</td> <td>   -9.739</td>\n",
       "</tr>\n",
       "<tr>\n",
       "  <th>availability_365</th>               <td>   33.2856</td> <td>    2.843</td> <td>   11.710</td> <td> 0.000</td> <td>   27.713</td> <td>   38.859</td>\n",
       "</tr>\n",
       "</table>\n",
       "<table class=\"simpletable\">\n",
       "<tr>\n",
       "  <th>Omnibus:</th>       <td>724.516</td> <th>  Durbin-Watson:     </th> <td>   2.027</td> \n",
       "</tr>\n",
       "<tr>\n",
       "  <th>Prob(Omnibus):</th> <td> 0.000</td>  <th>  Jarque-Bera (JB):  </th> <td>1214.764</td> \n",
       "</tr>\n",
       "<tr>\n",
       "  <th>Skew:</th>          <td> 1.134</td>  <th>  Prob(JB):          </th> <td>1.65e-264</td>\n",
       "</tr>\n",
       "<tr>\n",
       "  <th>Kurtosis:</th>      <td> 4.330</td>  <th>  Cond. No.          </th> <td>6.45e+03</td> \n",
       "</tr>\n",
       "</table><br/><br/>Notes:<br/>[1] R² is computed without centering (uncentered) since the model does not contain a constant.<br/>[2] Standard Errors assume that the covariance matrix of the errors is correctly specified.<br/>[3] The condition number is large, 6.45e+03. This might indicate that there are<br/>strong multicollinearity or other numerical problems."
      ],
      "text/plain": [
       "<class 'statsmodels.iolib.summary.Summary'>\n",
       "\"\"\"\n",
       "                                 OLS Regression Results                                \n",
       "=======================================================================================\n",
       "Dep. Variable:                  price   R-squared (uncentered):                   0.836\n",
       "Model:                            OLS   Adj. R-squared (uncentered):              0.836\n",
       "Method:                 Least Squares   F-statistic:                              2390.\n",
       "Date:                Fri, 28 Jan 2022   Prob (F-statistic):                        0.00\n",
       "Time:                        10:34:24   Log-Likelihood:                         -23800.\n",
       "No. Observations:                4216   AIC:                                  4.762e+04\n",
       "Df Residuals:                    4207   BIC:                                  4.768e+04\n",
       "Df Model:                           9                                                  \n",
       "Covariance Type:            nonrobust                                                  \n",
       "==================================================================================================\n",
       "                                     coef    std err          t      P>|t|      [0.025      0.975]\n",
       "--------------------------------------------------------------------------------------------------\n",
       "latitude                        -217.1487     65.568     -3.312      0.001    -345.698     -88.600\n",
       "longitude                          4.3459      0.824      5.277      0.000       2.731       5.960\n",
       "room_type                        -88.9381      1.886    -47.146      0.000     -92.637     -85.240\n",
       "minimum_nights                  -279.1611     30.030     -9.296      0.000    -338.036    -220.286\n",
       "number_of_reviews                -69.3664     14.853     -4.670      0.000     -98.486     -40.247\n",
       "last_review                       12.4479      2.843      4.378      0.000       6.874      18.022\n",
       "reviews_per_month                  6.5867      1.400      4.704      0.000       3.842       9.332\n",
       "calculated_host_listings_count   -18.8507      4.648     -4.056      0.000     -27.963      -9.739\n",
       "availability_365                  33.2856      2.843     11.710      0.000      27.713      38.859\n",
       "==============================================================================\n",
       "Omnibus:                      724.516   Durbin-Watson:                   2.027\n",
       "Prob(Omnibus):                  0.000   Jarque-Bera (JB):             1214.764\n",
       "Skew:                           1.134   Prob(JB):                    1.65e-264\n",
       "Kurtosis:                       4.330   Cond. No.                     6.45e+03\n",
       "==============================================================================\n",
       "\n",
       "Notes:\n",
       "[1] R² is computed without centering (uncentered) since the model does not contain a constant.\n",
       "[2] Standard Errors assume that the covariance matrix of the errors is correctly specified.\n",
       "[3] The condition number is large, 6.45e+03. This might indicate that there are\n",
       "strong multicollinearity or other numerical problems.\n",
       "\"\"\""
      ]
     },
     "execution_count": 73,
     "metadata": {},
     "output_type": "execute_result"
    }
   ],
   "source": [
    "# Create another model lm2 using statsmodel.api: the Ordinary Least Squares (OLS) method and fit function\n",
    "lm2 = sm.OLS(y4_train, X4_train).fit()\n",
    "# Summary statistics from the model\n",
    "lm2.summary()"
   ]
  },
  {
   "cell_type": "markdown",
   "metadata": {},
   "source": [
    "#### 2.3.1.3 Grid Search"
   ]
  },
  {
   "cell_type": "code",
   "execution_count": 74,
   "metadata": {
    "scrolled": false
   },
   "outputs": [
    {
     "data": {
      "text/plain": [
       "['copy_X', 'fit_intercept', 'n_jobs', 'normalize', 'positive']"
      ]
     },
     "execution_count": 74,
     "metadata": {},
     "output_type": "execute_result"
    }
   ],
   "source": [
    "sorted(LinearRegression().get_params().keys())"
   ]
  },
  {
   "cell_type": "code",
   "execution_count": 75,
   "metadata": {},
   "outputs": [
    {
     "name": "stdout",
     "output_type": "stream",
     "text": [
      "{'copy_X': True, 'fit_intercept': True, 'normalize': True}\n"
     ]
    }
   ],
   "source": [
    "# Use GridSearch to find the best combination of model hyperparameters\n",
    "\n",
    "param_grid = { 'fit_intercept' : [True, False], 'normalize' : [True, False], 'copy_X' : [True, False] }\n",
    "\n",
    "lin = LinearRegression()\n",
    "\n",
    "gs_lin = GridSearchCV(lin, param_grid=param_grid, scoring='neg_mean_squared_error', cv= 10, n_jobs=-1)\n",
    "\n",
    "# cv: number of partitions for cross validation\n",
    "# n_jobs: number of jobs to run in parallel, -1 means using all processors\n",
    "\n",
    "gs_lin = gs_lin.fit(X4_train, y4_train.ravel()) # \n",
    "\n",
    "print(gs_lin.best_params_)"
   ]
  },
  {
   "cell_type": "code",
   "execution_count": 113,
   "metadata": {},
   "outputs": [
    {
     "name": "stdout",
     "output_type": "stream",
     "text": [
      "the training mean squared error is:  4675.107131287562\n",
      "the testing mean squared error is:  4301.945772567796\n",
      "the training root mean squared error is:  68.37475507296215\n",
      "the testing root mean squared error is:  65.58921994175411\n",
      "training R^2 value is:  0.38440826514377524\n",
      "testing R^2 value is:  0.4111678227306633\n"
     ]
    }
   ],
   "source": [
    "# Create the model \"lg\"\n",
    "lin_final = LinearRegression(copy_X=True, fit_intercept=True, normalize=True) # maximum iterations: set a big number to make sure the optimization solver will\n",
    "# run enough iterations to let the model converge\n",
    "\n",
    "# Fit the model to the training set\n",
    "lin_final.fit(X4_train, y4_train.ravel())\n",
    "\n",
    "print('the training mean squared error is: ', mean_squared_error(lin_final.predict(X4_train), y4_train))\n",
    "print('the testing mean squared error is: ', mean_squared_error(lin_final.predict(X4_test), y4_test))\n",
    "\n",
    "print('the training root mean squared error is: ', sqrt(mean_squared_error(lin_final.predict(X4_train), y4_train)))\n",
    "print('the testing root mean squared error is: ', sqrt(mean_squared_error(lin_final.predict(X4_test), y4_test)))\n",
    "\n",
    "train_R2 = lin_final.score(X4_train, y4_train)\n",
    "print('training R^2 value is: ', train_R2)\n",
    "test_R2 = lin_final.score(X4_test, y4_test)\n",
    "print('testing R^2 value is: ', test_R2)"
   ]
  },
  {
   "cell_type": "markdown",
   "metadata": {},
   "source": [
    "#### 2.3.1.4 K-fold Cross Validation"
   ]
  },
  {
   "cell_type": "code",
   "execution_count": 114,
   "metadata": {},
   "outputs": [
    {
     "name": "stdout",
     "output_type": "stream",
     "text": [
      "train_score:  [-4757.26034374 -4594.45874367 -4543.34382592 -4392.6835585\n",
      " -4482.75426539]\n",
      "test_score:  [-3854.97757716 -4479.38915621 -4670.74183819 -5282.94282833\n",
      " -4907.03596593]\n"
     ]
    }
   ],
   "source": [
    "# Evaluate the Model using K-folds Cross validation\n",
    "results  = cross_validate(lin_final, X4, y4.ravel(), scoring='neg_mean_squared_error', cv=5, return_train_score = True)\n",
    "print('train_score: ', results['train_score'])\n",
    "print('test_score: ', results['test_score'])"
   ]
  },
  {
   "cell_type": "code",
   "execution_count": 115,
   "metadata": {},
   "outputs": [
    {
     "name": "stdout",
     "output_type": "stream",
     "text": [
      "***Final Model***\n",
      "cross val training mean_squared_error is: 4554.100147446019\n",
      "cross val testing mean_squared_error is: 4639.017473163056\n",
      "the training root mean squared error is:  67.48407328730254\n",
      "the testing root mean squared error is:  68.11033308656665\n"
     ]
    }
   ],
   "source": [
    "print('***Final Model***')\n",
    "print('cross val training mean_squared_error is:', sum(-results['train_score'])/len(results['train_score']))\n",
    "print('cross val testing mean_squared_error is:', sum(-results['test_score'])/len(results['test_score']))\n",
    "\n",
    "print('the training root mean squared error is: ', sqrt(sum(-results['train_score'])/len(results['train_score'])))\n",
    "print('the testing root mean squared error is: ', sqrt(sum(-results['test_score'])/len(results['test_score'])))"
   ]
  },
  {
   "cell_type": "markdown",
   "metadata": {},
   "source": [
    "#### 2.3.2 Decision Tree Regressor"
   ]
  },
  {
   "cell_type": "markdown",
   "metadata": {},
   "source": [
    "#### 2.3.2.1 Evaluation of default model"
   ]
  },
  {
   "cell_type": "code",
   "execution_count": 82,
   "metadata": {},
   "outputs": [
    {
     "name": "stdout",
     "output_type": "stream",
     "text": [
      "the training mean squared error is:  0.0\n",
      "the testing mean squared error is:  5093.545353982301\n",
      "the training root mean squared error is:  0.0\n",
      "the testing root mean squared error is:  71.3690784162322\n",
      "training R^2 value is:  1.0\n",
      "testing R^2 value is:  0.3028170136567554\n"
     ]
    }
   ],
   "source": [
    "print('the training mean squared error is: ', mean_squared_error(dtr.predict(X2_train), y2_train))\n",
    "print('the testing mean squared error is: ', mean_squared_error(dtr.predict(X2_test), y2_test))\n",
    "\n",
    "print('the training root mean squared error is: ', sqrt(mean_squared_error(dtr.predict(X2_train), y2_train)))\n",
    "print('the testing root mean squared error is: ', sqrt(mean_squared_error(dtr.predict(X2_test), y2_test)))\n",
    "\n",
    "train_R2 = dtr.score(X2_train, y2_train)\n",
    "print('training R^2 value is: ', train_R2)\n",
    "test_R2 = dtr.score(X2_test, y2_test)\n",
    "print('testing R^2 value is: ', test_R2)"
   ]
  },
  {
   "cell_type": "markdown",
   "metadata": {},
   "source": [
    "#### 2.3.2.2 Grid Search"
   ]
  },
  {
   "cell_type": "code",
   "execution_count": 44,
   "metadata": {
    "scrolled": false
   },
   "outputs": [
    {
     "data": {
      "text/plain": [
       "['ccp_alpha',\n",
       " 'criterion',\n",
       " 'max_depth',\n",
       " 'max_features',\n",
       " 'max_leaf_nodes',\n",
       " 'min_impurity_decrease',\n",
       " 'min_impurity_split',\n",
       " 'min_samples_leaf',\n",
       " 'min_samples_split',\n",
       " 'min_weight_fraction_leaf',\n",
       " 'random_state',\n",
       " 'splitter']"
      ]
     },
     "execution_count": 44,
     "metadata": {},
     "output_type": "execute_result"
    }
   ],
   "source": [
    "sorted(DecisionTreeRegressor().get_params().keys())"
   ]
  },
  {
   "cell_type": "code",
   "execution_count": 53,
   "metadata": {},
   "outputs": [
    {
     "name": "stdout",
     "output_type": "stream",
     "text": [
      "Best cross-validation score: -3878.019\n",
      "Test score: -3565.104\n",
      "{'ccp_alpha': 20, 'criterion': 'mse'}\n"
     ]
    }
   ],
   "source": [
    "# Use GridSearch to find the best combination of model hyperparameters\n",
    "\n",
    "param_grid = { 'criterion' : [\"mse\", \"mae\"], \"ccp_alpha\" : [0.1, 1, 0, 10, 20, 25] }\n",
    "\n",
    "dtr = DecisionTreeRegressor()\n",
    "\n",
    "gs_dtr = GridSearchCV(dtr, param_grid=param_grid, scoring='neg_mean_squared_error', cv= 10, n_jobs=-1)\n",
    "# cv: number of partitions for cross validation\n",
    "# n_jobs: number of jobs to run in parallel, -1 means using all processors\n",
    "\n",
    "gs_dtr = gs_dtr.fit(X2_train, y2_train.ravel()) # \n",
    "\n",
    "print(\"Best cross-validation score: {:.3f}\".format(gs_dtr.best_score_))\n",
    "print(\"Test score: {:.3f}\".format(gs_dtr.score(X2_test, y2_test)))\n",
    "print(gs_dtr.best_params_)"
   ]
  },
  {
   "cell_type": "code",
   "execution_count": 83,
   "metadata": {},
   "outputs": [
    {
     "name": "stdout",
     "output_type": "stream",
     "text": [
      "the training mean squared error is:  3326.66980220576\n",
      "the testing mean squared error is:  3565.1044862781946\n",
      "the training root mean squared error is:  57.677290177380556\n",
      "the testing root mean squared error is:  59.708495930463656\n",
      "training R^2 value is:  0.5619628861275617\n",
      "testing R^2 value is:  0.5120235475225794\n"
     ]
    }
   ],
   "source": [
    "dtr = DecisionTreeRegressor(ccp_alpha=20, criterion='mse')\n",
    "dtr.fit(X2_train, y2_train.ravel())\n",
    "\n",
    "print('the training mean squared error is: ', mean_squared_error(dtr.predict(X2_train), y2_train))\n",
    "print('the testing mean squared error is: ', mean_squared_error(dtr.predict(X2_test), y2_test))\n",
    "\n",
    "print('the training root mean squared error is: ', sqrt(mean_squared_error(dtr.predict(X2_train), y2_train)))\n",
    "print('the testing root mean squared error is: ', sqrt(mean_squared_error(dtr.predict(X2_test), y2_test)))\n",
    "\n",
    "train_R2 = dtr.score(X2_train, y2_train)\n",
    "print('training R^2 value is: ', train_R2)\n",
    "test_R2 = dtr.score(X2_test, y2_test)\n",
    "print('testing R^2 value is: ', test_R2)"
   ]
  },
  {
   "cell_type": "markdown",
   "metadata": {},
   "source": [
    "#### 2.3.2.3 Tuning Parameters"
   ]
  },
  {
   "cell_type": "code",
   "execution_count": 137,
   "metadata": {
    "scrolled": false
   },
   "outputs": [],
   "source": [
    "# Plot the cross validation measures (cross# Setting max_depth from 2 to 9 (8 different values)\n",
    "# Training & evaluating the model 8 times with different max_depth value\n",
    "# Store both simple split measures (train_mse & test_mse) and \n",
    "# cross validation measures (cross_val_train_mse & cross val_test_mse) into arrays\n",
    "\n",
    "depth_range = range(2,10)\n",
    "\n",
    "train_mse = []\n",
    "test_mse = []\n",
    "cross_val_train_mse =[]\n",
    "cross_val_test_mse =[]\n",
    "\n",
    "for d in depth_range:\n",
    "    # Create Random Forest Model\n",
    "    dtr = DecisionTreeRegressor(max_depth=d, ccp_alpha=20, criterion='mse')\n",
    "    dtr.fit(X2_train, y2_train.ravel()) \n",
    "    train_mse.append(mean_squared_error(dtr.predict(X2_train), y2_train))\n",
    "    test_mse.append(mean_squared_error(dtr.predict(X2_test), y2_test))\n",
    "    \n",
    "    results  = cross_validate(dtr, X2, y2.ravel(), scoring='neg_mean_squared_error', cv=5, return_train_score = True)\n",
    "    cross_val_train_mse.append(sum(-results['train_score'])/len(results['train_score']))\n",
    "    cross_val_test_mse.append(sum(-results['test_score'])/len(results['test_score']))\n",
    "    "
   ]
  },
  {
   "cell_type": "code",
   "execution_count": 138,
   "metadata": {
    "scrolled": true
   },
   "outputs": [
    {
     "data": {
      "image/png": "[encoded data removed]",
      "text/plain": [
       "<Figure size 432x288 with 1 Axes>"
      ]
     },
     "metadata": {
      "needs_background": "light"
     },
     "output_type": "display_data"
    }
   ],
   "source": [
    "# Plot the simple split measures (train_mse & test_mse) \n",
    "plt.plot(depth_range, train_mse, 'bo-', label ='training mse')\n",
    "plt.plot(depth_range, test_mse, 'ro-', label = 'testing mse')\n",
    "\n",
    "plt.xlabel('max_depth', fontsize='x-large')\n",
    "plt.ylabel('mean squared error (MSE)', fontsize='x-large')\n",
    "\n",
    "plt.legend(loc='best', shadow=True, fontsize='x-large')\n",
    "plt.show()"
   ]
  },
  {
   "cell_type": "code",
   "execution_count": 139,
   "metadata": {
    "scrolled": true
   },
   "outputs": [
    {
     "data": {
      "image/png": "[encoded data removed]",
      "text/plain": [
       "<Figure size 432x288 with 1 Axes>"
      ]
     },
     "metadata": {
      "needs_background": "light"
     },
     "output_type": "display_data"
    }
   ],
   "source": [
    "# Plot the cross validation measures (cross_val_train_mse & cross val_test_mse) \n",
    "plt.plot(depth_range, cross_val_train_mse, 'bo-', label ='cross val training mse')\n",
    "plt.plot(depth_range, cross_val_test_mse, 'ro-', label = 'cross val testing mse')\n",
    "\n",
    "plt.xlabel('max_depth', fontsize='x-large')\n",
    "plt.ylabel('mean squared error (MSE)', fontsize='x-large')\n",
    "\n",
    "plt.legend(loc='best', shadow=True, fontsize='x-large')\n",
    "plt.show()"
   ]
  },
  {
   "cell_type": "code",
   "execution_count": 140,
   "metadata": {},
   "outputs": [
    {
     "name": "stdout",
     "output_type": "stream",
     "text": [
      "***Final Model***\n",
      "training mse:  3374.708980569952\n",
      "testing mse:  3539.4664722127986\n",
      "the training root mean squared error is:  58.09224544265742\n",
      "the testing root mean squared error is:  59.493415368533\n",
      "training R^2 value is:  0.5619628861275617\n",
      "testing R^2 value is:  0.5120235475225794\n"
     ]
    }
   ],
   "source": [
    "print('***Final Model***')\n",
    "dtr_final = DecisionTreeRegressor(max_depth=7,random_state=1,ccp_alpha=20)\n",
    "dtr_final.fit(X2_train, y2_train.ravel()) \n",
    "print('training mse: ', mean_squared_error(dtr_final.predict(X2_train), y2_train))\n",
    "print('testing mse: ', mean_squared_error(dtr_final.predict(X2_test), y2_test))\n",
    "\n",
    "print('the training root mean squared error is: ', sqrt(mean_squared_error(dtr_final.predict(X2_train), y2_train)))\n",
    "print('the testing root mean squared error is: ', sqrt(mean_squared_error(dtr_final.predict(X2_test), y2_test)))\n",
    "\n",
    "train_R2 = dtr.score(X2_train, y2_train)\n",
    "print('training R^2 value is: ', train_R2)\n",
    "test_R2 = dtr.score(X2_test, y2_test)\n",
    "print('testing R^2 value is: ', test_R2)"
   ]
  },
  {
   "cell_type": "code",
   "execution_count": 144,
   "metadata": {},
   "outputs": [
    {
     "name": "stdout",
     "output_type": "stream",
     "text": [
      "cross val training mse: 3464.8448815744705\n",
      "cross val testing mse: 4125.772287141478\n",
      "the training root mean squared error is:  58.862933001800634\n",
      "the testing root mean squared error is:  64.23217485918936\n"
     ]
    }
   ],
   "source": [
    "results  = cross_validate(dtr_final, X2, y2.ravel(), scoring='neg_mean_squared_error', cv=5, return_train_score = True)\n",
    "print('cross val training mse:', sum(-results['train_score'])/len(results['train_score']))\n",
    "print('cross val testing mse:', sum(-results['test_score'])/len(results['test_score']))\n",
    "\n",
    "print('the training root mean squared error is: ', sqrt(sum(-results['train_score'])/len(results['train_score'])))\n",
    "print('the testing root mean squared error is: ', sqrt(sum(-results['test_score'])/len(results['test_score'])))"
   ]
  },
  {
   "cell_type": "markdown",
   "metadata": {},
   "source": [
    "#### 2.3.3 Multi-layer Perceptron Regressor "
   ]
  },
  {
   "cell_type": "markdown",
   "metadata": {},
   "source": [
    "#### 2.3.3.1 Evaluation of default model"
   ]
  },
  {
   "cell_type": "code",
   "execution_count": 87,
   "metadata": {},
   "outputs": [
    {
     "name": "stdout",
     "output_type": "stream",
     "text": [
      "the training mean squared error is:  4654.6115658221925\n",
      "the testing mean squared error is:  4307.697140871279\n",
      "the training root mean squared error is:  68.22471374672226\n",
      "the testing root mean squared error is:  65.63304915110434\n",
      "training R^2 value is:  0.38710700558915423\n",
      "testing R^2 value is:  0.41038059971590257\n"
     ]
    }
   ],
   "source": [
    "print('the training mean squared error is: ', mean_squared_error(mlpr.predict(X2_train), y2_train))\n",
    "print('the testing mean squared error is: ', mean_squared_error(mlpr.predict(X2_test), y2_test))\n",
    "\n",
    "print('the training root mean squared error is: ', sqrt(mean_squared_error(mlpr.predict(X2_train), y2_train)))\n",
    "print('the testing root mean squared error is: ', sqrt(mean_squared_error(mlpr.predict(X2_test), y2_test)))\n",
    "\n",
    "train_R2 = mlpr.score(X2_train, y2_train)\n",
    "print('training R^2 value is: ', train_R2)\n",
    "test_R2 = mlpr.score(X2_test, y2_test)\n",
    "print('testing R^2 value is: ', test_R2)"
   ]
  },
  {
   "cell_type": "markdown",
   "metadata": {},
   "source": [
    "#### 2.3.3.2 Grid Search"
   ]
  },
  {
   "cell_type": "code",
   "execution_count": 61,
   "metadata": {
    "scrolled": true
   },
   "outputs": [
    {
     "data": {
      "text/plain": [
       "['activation',\n",
       " 'alpha',\n",
       " 'batch_size',\n",
       " 'beta_1',\n",
       " 'beta_2',\n",
       " 'early_stopping',\n",
       " 'epsilon',\n",
       " 'hidden_layer_sizes',\n",
       " 'learning_rate',\n",
       " 'learning_rate_init',\n",
       " 'max_fun',\n",
       " 'max_iter',\n",
       " 'momentum',\n",
       " 'n_iter_no_change',\n",
       " 'nesterovs_momentum',\n",
       " 'power_t',\n",
       " 'random_state',\n",
       " 'shuffle',\n",
       " 'solver',\n",
       " 'tol',\n",
       " 'validation_fraction',\n",
       " 'verbose',\n",
       " 'warm_start']"
      ]
     },
     "execution_count": 61,
     "metadata": {},
     "output_type": "execute_result"
    }
   ],
   "source": [
    "sorted(MLPRegressor().get_params().keys())"
   ]
  },
  {
   "cell_type": "code",
   "execution_count": 62,
   "metadata": {},
   "outputs": [
    {
     "name": "stdout",
     "output_type": "stream",
     "text": [
      "Best cross-validation score: -4515.008\n",
      "Test score: -4105.552\n",
      "{'activation': 'tanh', 'alpha': 0.001}\n"
     ]
    }
   ],
   "source": [
    "# Use GridSearch to find the best combination of model hyperparameters\n",
    "\n",
    "param_grid = { 'activation' : ['identity', 'logistic', 'tanh', 'relu'], \n",
    "               \"alpha\": [0.0001, 0.001, 0.01] }\n",
    "\n",
    "mlpr = MLPRegressor(max_iter=1000)\n",
    "\n",
    "gs_mlpr = GridSearchCV(mlpr, param_grid=param_grid, scoring='neg_mean_squared_error', cv= 10, n_jobs=-1)\n",
    "# cv: number of partitions for cross validation\n",
    "# n_jobs: number of jobs to run in parallel, -1 means using all processors\n",
    "\n",
    "gs_mlpr = gs_mlpr.fit(X2_train, y2_train.ravel()) # \n",
    "\n",
    "print(\"Best cross-validation score: {:.3f}\".format(gs_mlpr.best_score_))\n",
    "print(\"Test score: {:.3f}\".format(gs_mlpr.score(X2_test, y2_test)))\n",
    "print(gs_mlpr.best_params_)"
   ]
  },
  {
   "cell_type": "code",
   "execution_count": 161,
   "metadata": {
    "scrolled": true
   },
   "outputs": [
    {
     "name": "stdout",
     "output_type": "stream",
     "text": [
      "the training mean squared error is:  4531.949269455928\n",
      "the testing mean squared error is:  4204.213784304522\n",
      "the training root mean squared error is:  67.3197539319324\n",
      "the testing root mean squared error is:  64.83990888568954\n",
      "training R^2 value is:  0.4032584848389489\n",
      "testing R^2 value is:  0.4245449647218268\n"
     ]
    }
   ],
   "source": [
    "mlpr_final = MLPRegressor(max_iter=1000, activation='tanh', alpha=0.001)\n",
    "mlpr_final.fit(X2_train, y2_train.ravel())\n",
    "\n",
    "print('the training mean squared error is: ', mean_squared_error(mlpr_final.predict(X2_train), y2_train))\n",
    "print('the testing mean squared error is: ', mean_squared_error(mlpr_final.predict(X2_test), y2_test))\n",
    "\n",
    "print('the training root mean squared error is: ', sqrt(mean_squared_error(mlpr_final.predict(X2_train), y2_train)))\n",
    "print('the testing root mean squared error is: ', sqrt(mean_squared_error(mlpr_final.predict(X2_test), y2_test)))\n",
    "\n",
    "train_R2 = mlpr_final.score(X2_train, y2_train)\n",
    "print('training R^2 value is: ', train_R2)\n",
    "test_R2 = mlpr_final.score(X2_test, y2_test)\n",
    "print('testing R^2 value is: ', test_R2)"
   ]
  },
  {
   "cell_type": "markdown",
   "metadata": {},
   "source": [
    "#### 2.3.3.3 K-folds Cross Validation"
   ]
  },
  {
   "cell_type": "code",
   "execution_count": 162,
   "metadata": {
    "scrolled": true
   },
   "outputs": [
    {
     "name": "stdout",
     "output_type": "stream",
     "text": [
      "train_score:  [-4563.99547121 -4244.85141152 -4188.24393524 -4211.27531282\n",
      " -4227.58150445]\n",
      "test_score:  [-3608.87497257 -4200.31874061 -4401.57052613 -5053.09320909\n",
      " -4778.12794577]\n"
     ]
    }
   ],
   "source": [
    "# Evaluate the Model using K-folds Cross validation\n",
    "results  = cross_validate(mlpr_final, X2, y2.ravel(), scoring='neg_mean_squared_error', cv=5, return_train_score = True)\n",
    "print('train_score: ', results['train_score'])\n",
    "print('test_score: ', results['test_score'])"
   ]
  },
  {
   "cell_type": "code",
   "execution_count": 163,
   "metadata": {
    "scrolled": true
   },
   "outputs": [
    {
     "name": "stdout",
     "output_type": "stream",
     "text": [
      "***Final Model***\n",
      "cross val training mean_squared_error is: 4287.189527047827\n",
      "cross val testing mean_squared_error is: 4408.397078834776\n",
      "the training root mean squared error is:  65.47663344314388\n",
      "the testing root mean squared error is:  66.39576100049442\n"
     ]
    }
   ],
   "source": [
    "print('***Final Model***')\n",
    "print('cross val training mean_squared_error is:', sum(-results['train_score'])/len(results['train_score']))\n",
    "print('cross val testing mean_squared_error is:', sum(-results['test_score'])/len(results['test_score']))\n",
    "\n",
    "print('the training root mean squared error is: ', sqrt(sum(-results['train_score'])/len(results['train_score'])))\n",
    "print('the testing root mean squared error is: ', sqrt(sum(-results['test_score'])/len(results['test_score'])))"
   ]
  },
  {
   "cell_type": "markdown",
   "metadata": {},
   "source": [
    "#### 2.3.4 Random Forest Regressor"
   ]
  },
  {
   "cell_type": "markdown",
   "metadata": {},
   "source": [
    "#### 2.3.4.1 Evaluation of default model"
   ]
  },
  {
   "cell_type": "code",
   "execution_count": 90,
   "metadata": {},
   "outputs": [
    {
     "name": "stdout",
     "output_type": "stream",
     "text": [
      "the training mean squared error is:  389.5184438804554\n",
      "the testing mean squared error is:  2522.0666571349557\n",
      "the training root mean squared error is:  19.736221621183102\n",
      "the testing root mean squared error is:  50.220181771225754\n",
      "training R^2 value is:  0.9487104085760645\n",
      "testing R^2 value is:  0.6547901625331867\n"
     ]
    }
   ],
   "source": [
    "print('the training mean squared error is: ', mean_squared_error(rfr.predict(X2_train), y2_train))\n",
    "print('the testing mean squared error is: ', mean_squared_error(rfr.predict(X2_test), y2_test))\n",
    "\n",
    "print('the training root mean squared error is: ', sqrt(mean_squared_error(rfr.predict(X2_train), y2_train)))\n",
    "print('the testing root mean squared error is: ', sqrt(mean_squared_error(rfr.predict(X2_test), y2_test)))\n",
    "\n",
    "train_R2 = rfr.score(X2_train, y2_train)\n",
    "print('training R^2 value is: ', train_R2)\n",
    "test_R2 = rfr.score(X2_test, y2_test)\n",
    "print('testing R^2 value is: ', test_R2)"
   ]
  },
  {
   "cell_type": "markdown",
   "metadata": {},
   "source": [
    "#### 2.3.4.2 Grid Search"
   ]
  },
  {
   "cell_type": "code",
   "execution_count": 66,
   "metadata": {
    "scrolled": false
   },
   "outputs": [
    {
     "data": {
      "text/plain": [
       "['bootstrap',\n",
       " 'ccp_alpha',\n",
       " 'criterion',\n",
       " 'max_depth',\n",
       " 'max_features',\n",
       " 'max_leaf_nodes',\n",
       " 'max_samples',\n",
       " 'min_impurity_decrease',\n",
       " 'min_impurity_split',\n",
       " 'min_samples_leaf',\n",
       " 'min_samples_split',\n",
       " 'min_weight_fraction_leaf',\n",
       " 'n_estimators',\n",
       " 'n_jobs',\n",
       " 'oob_score',\n",
       " 'random_state',\n",
       " 'verbose',\n",
       " 'warm_start']"
      ]
     },
     "execution_count": 66,
     "metadata": {},
     "output_type": "execute_result"
    }
   ],
   "source": [
    "sorted(RandomForestRegressor().get_params().keys())"
   ]
  },
  {
   "cell_type": "code",
   "execution_count": 67,
   "metadata": {},
   "outputs": [
    {
     "name": "stderr",
     "output_type": "stream",
     "text": [
      "C:\\Users\\Public\\Anaconda\\lib\\site-packages\\sklearn\\model_selection\\_search.py:922: UserWarning: One or more of the test scores are non-finite: [           nan            nan -4154.44060395            nan\n",
      "            nan -4253.26226471            nan            nan\n",
      " -5454.96307926            nan            nan -7597.4963739\n",
      "            nan            nan -4168.34446655            nan\n",
      "            nan -7597.23075226            nan            nan\n",
      " -6752.5095826             nan            nan -6256.1921605\n",
      "            nan            nan -5775.93184089            nan\n",
      "            nan -7597.41347249            nan            nan\n",
      " -6731.50751702            nan            nan -7597.41347249]\n",
      "  warnings.warn(\n"
     ]
    },
    {
     "name": "stdout",
     "output_type": "stream",
     "text": [
      "Best cross-validation score: -4154.441\n",
      "Test score: -3719.207\n",
      "{'bootstrap': True, 'ccp_alpha': 0.001, 'criterion': 'poisson'}\n"
     ]
    }
   ],
   "source": [
    "# Use GridSearch to find the best combination of model hyperparameters\n",
    "\n",
    "param_grid = { 'criterion' : ['squared_error', 'absolute_error', 'poisson'],\n",
    "               \"bootstrap\": [True, False], 'ccp_alpha' : [0.001, 0.01, 0.1, 1, 0, 10] }\n",
    "\n",
    "rfr = RandomForestRegressor()\n",
    "\n",
    "gs_rfr = GridSearchCV(rfr, param_grid=param_grid, scoring='neg_mean_squared_error', cv= 10, n_jobs=-1)\n",
    "# cv: number of partitions for cross validation\n",
    "# n_jobs: number of jobs to run in parallel, -1 means using all processors\n",
    "\n",
    "gs_rfr = gs_rfr.fit(X2_train, y2_train.ravel()) # \n",
    "\n",
    "print(\"Best cross-validation score: {:.3f}\".format(gs_rfr.best_score_))\n",
    "print(\"Test score: {:.3f}\".format(gs_rfr.score(X2_test, y2_test)))\n",
    "print(gs_rfr.best_params_)"
   ]
  },
  {
   "cell_type": "code",
   "execution_count": 91,
   "metadata": {},
   "outputs": [
    {
     "name": "stdout",
     "output_type": "stream",
     "text": [
      "the training mean squared error is:  621.8686277136915\n",
      "the testing mean squared error is:  3726.531144796459\n",
      "the training root mean squared error is:  24.937293913207412\n",
      "the testing root mean squared error is:  61.045320416854715\n",
      "training R^2 value is:  0.9181158470519369\n",
      "testing R^2 value is:  0.4899281479453116\n"
     ]
    }
   ],
   "source": [
    "rfr = RandomForestRegressor(ccp_alpha=0.001, criterion='poisson', random_state=100)\n",
    "rfr.fit(X2_train, y2_train.ravel())\n",
    "\n",
    "print('the training mean squared error is: ', mean_squared_error(rfr.predict(X2_train), y2_train))\n",
    "print('the testing mean squared error is: ', mean_squared_error(rfr.predict(X2_test), y2_test))\n",
    "\n",
    "print('the training root mean squared error is: ', sqrt(mean_squared_error(rfr.predict(X2_train), y2_train)))\n",
    "print('the testing root mean squared error is: ', sqrt(mean_squared_error(rfr.predict(X2_test), y2_test)))\n",
    "\n",
    "train_R2 = rfr.score(X2_train, y2_train)\n",
    "print('training R^2 value is: ', train_R2)\n",
    "test_R2 = rfr.score(X2_test, y2_test)\n",
    "print('testing R^2 value is: ', test_R2)"
   ]
  },
  {
   "cell_type": "markdown",
   "metadata": {},
   "source": [
    "#### 2.3.4.3 K-folds Cross Validation"
   ]
  },
  {
   "cell_type": "code",
   "execution_count": 69,
   "metadata": {
    "scrolled": false
   },
   "outputs": [
    {
     "name": "stdout",
     "output_type": "stream",
     "text": [
      "train_score:  [-591.48808542 -593.58770569 -609.28154008 -569.11522913 -572.29973585]\n",
      "test_score:  [-6081.83480106 -5489.48360733 -4744.8449277  -4957.51569167\n",
      " -5808.57634567]\n"
     ]
    }
   ],
   "source": [
    "# Evaluate the Model using K-folds Cross validation\n",
    "results  = cross_validate(rfr, X2, y2.ravel(), scoring='neg_mean_squared_error', cv=5, return_train_score = True)\n",
    "print('train_score: ', results['train_score'])\n",
    "print('test_score: ', results['test_score'])"
   ]
  },
  {
   "cell_type": "code",
   "execution_count": 70,
   "metadata": {
    "scrolled": false
   },
   "outputs": [
    {
     "name": "stdout",
     "output_type": "stream",
     "text": [
      "cross val training mean_squared_error is: 587.1544592349995\n",
      "cross val testing mean_squared_error is: 5416.451074684604\n",
      "the training root mean squared error is:  24.231270276958234\n",
      "the testing root mean squared error is:  73.59654254572428\n"
     ]
    }
   ],
   "source": [
    "print('cross val training mean_squared_error is:', sum(-results['train_score'])/len(results['train_score']))\n",
    "print('cross val testing mean_squared_error is:', sum(-results['test_score'])/len(results['test_score']))\n",
    "\n",
    "print('the training root mean squared error is: ', sqrt(sum(-results['train_score'])/len(results['train_score'])))\n",
    "print('the testing root mean squared error is: ', sqrt(sum(-results['test_score'])/len(results['test_score'])))"
   ]
  },
  {
   "cell_type": "markdown",
   "metadata": {},
   "source": [
    "#### 2.3.4.4 Tuning Parameters"
   ]
  },
  {
   "cell_type": "code",
   "execution_count": 74,
   "metadata": {},
   "outputs": [],
   "source": [
    "# Setting max_depth from 2 to 9 (8 different values)\n",
    "# Training & evaluating the model 8 times with different max_depth value\n",
    "# Store both simple split measures (train_mse & test_mse) and \n",
    "# cross validation measures (cross_val_train_mse & cross val_test_mse) into arrays\n",
    "\n",
    "depth_range = range(2,15)\n",
    "\n",
    "train_mse = []\n",
    "test_mse = []\n",
    "cross_val_train_mse =[]\n",
    "cross_val_test_mse =[]\n",
    "\n",
    "for d in depth_range:\n",
    "    # Create Random Forest Model\n",
    "    rfr = RandomForestRegressor(max_depth=d, ccp_alpha=0.001, criterion='poisson', \n",
    "                                random_state=100)\n",
    "    rfr.fit(X2_train, y2_train.ravel()) \n",
    "    train_mse.append(mean_squared_error(rfr.predict(X2_train), y2_train))\n",
    "    test_mse.append(mean_squared_error(rfr.predict(X2_test), y2_test))\n",
    "    \n",
    "    results  = cross_validate(rfr, X2, y2.ravel(), scoring='neg_mean_squared_error', cv=5, return_train_score = True)\n",
    "    cross_val_train_mse.append(sum(-results['train_score'])/len(results['train_score']))\n",
    "    cross_val_test_mse.append(sum(-results['test_score'])/len(results['test_score']))\n",
    "    "
   ]
  },
  {
   "cell_type": "code",
   "execution_count": 75,
   "metadata": {
    "scrolled": true
   },
   "outputs": [
    {
     "data": {
      "image/png": "[encoded data removed]",
      "text/plain": [
       "<Figure size 432x288 with 1 Axes>"
      ]
     },
     "metadata": {
      "needs_background": "light"
     },
     "output_type": "display_data"
    }
   ],
   "source": [
    "# Plot the simple split measures (train_mse & test_mse) \n",
    "plt.plot(depth_range, train_mse, 'bo-', label ='training mse')\n",
    "plt.plot(depth_range, test_mse, 'ro-', label = 'testing mse')\n",
    "\n",
    "plt.xlabel('max_depth', fontsize='x-large')\n",
    "plt.ylabel('mean squared error (MSE)', fontsize='x-large')\n",
    "\n",
    "plt.legend(loc='best', shadow=True, fontsize='x-large')\n",
    "plt.show()"
   ]
  },
  {
   "cell_type": "code",
   "execution_count": 76,
   "metadata": {},
   "outputs": [
    {
     "data": {
      "image/png": "[encoded data removed]",
      "text/plain": [
       "<Figure size 432x288 with 1 Axes>"
      ]
     },
     "metadata": {
      "needs_background": "light"
     },
     "output_type": "display_data"
    }
   ],
   "source": [
    "# Plot the cross validation measures (cross_val_train_mse & cross val_test_mse) \n",
    "plt.plot(depth_range, cross_val_train_mse, 'bo-', label ='cross val training mse')\n",
    "plt.plot(depth_range, cross_val_test_mse, 'ro-', label = 'cross val testing mse')\n",
    "\n",
    "plt.xlabel('max_depth', fontsize='x-large')\n",
    "plt.ylabel('mean squared error (MSE)', fontsize='x-large')\n",
    "\n",
    "plt.legend(loc='best', shadow=True, fontsize='x-large')\n",
    "plt.show()"
   ]
  },
  {
   "cell_type": "code",
   "execution_count": 120,
   "metadata": {},
   "outputs": [
    {
     "name": "stdout",
     "output_type": "stream",
     "text": [
      "***Final Model***\n",
      "training mse:  6644.788744452378\n",
      "testing mse:  6606.9086981624105\n",
      "the training root mean squared error is:  81.51557363137658\n",
      "the testing root mean squared error is:  81.28289302283974\n",
      "training R^2 value is:  0.12505170125930254\n",
      "testing R^2 value is:  0.09567422756317845\n"
     ]
    }
   ],
   "source": [
    "print('***Final Model***')\n",
    "rfr_final = RandomForestRegressor(max_depth=13, n_estimators=20, ccp_alpha=0.001, criterion='poisson', random_state=100)\n",
    "\n",
    "rfr_final.fit(X2_train, y2_train.ravel()) \n",
    "print('training mse: ', mean_squared_error(rfr_final.predict(X2_train), y2_train))\n",
    "print('testing mse: ', mean_squared_error(rfr_final.predict(X2_test), y2_test))\n",
    "\n",
    "print('the training root mean squared error is: ', sqrt(mean_squared_error(rfr_final.predict(X2_train), y2_train)))\n",
    "print('the testing root mean squared error is: ', sqrt(mean_squared_error(rfr_final.predict(X2_test), y2_test)))\n",
    "\n",
    "train_R2 = rfr_final.score(X2_train, y2_train)\n",
    "print('training R^2 value is: ', train_R2)\n",
    "test_R2 = rfr_final.score(X2_test, y2_test)\n",
    "print('testing R^2 value is: ', test_R2)"
   ]
  },
  {
   "cell_type": "code",
   "execution_count": 121,
   "metadata": {},
   "outputs": [
    {
     "name": "stdout",
     "output_type": "stream",
     "text": [
      "cross val training mse: 6358.181416680854\n",
      "cross val testing mse: 7296.596944786895\n",
      "the training root mean squared error is:  79.73820550201049\n",
      "the testing root mean squared error is:  85.42012025738956\n"
     ]
    }
   ],
   "source": [
    "results  = cross_validate(rfr_final, X2, y2.ravel(), scoring='neg_mean_squared_error', cv=5, return_train_score = True)\n",
    "print('cross val training mse:', sum(-results['train_score'])/len(results['train_score']))\n",
    "print('cross val testing mse:', sum(-results['test_score'])/len(results['test_score']))\n",
    "\n",
    "print('the training root mean squared error is: ', sqrt(sum(-results['train_score'])/len(results['train_score'])))\n",
    "print('the testing root mean squared error is: ', sqrt(sum(-results['test_score'])/len(results['test_score'])))"
   ]
  },
  {
   "cell_type": "markdown",
   "metadata": {},
   "source": [
    "#### 2.3.5 Support Vector Regressor"
   ]
  },
  {
   "cell_type": "markdown",
   "metadata": {},
   "source": [
    "#### 2.3.5.1 Evaluation of default model"
   ]
  },
  {
   "cell_type": "code",
   "execution_count": 96,
   "metadata": {},
   "outputs": [
    {
     "name": "stdout",
     "output_type": "stream",
     "text": [
      "the training mean squared error is:  7777.172062559041\n",
      "the testing mean squared error is:  7451.07384780816\n",
      "the training root mean squared error is:  88.18827621945584\n",
      "the testing root mean squared error is:  86.31960291734526\n",
      "training R^2 value is:  -0.024054146315904967\n",
      "testing R^2 value is:  -0.019871534591815898\n"
     ]
    }
   ],
   "source": [
    "print('the training mean squared error is: ', mean_squared_error(svr.predict(X2_train), y2_train))\n",
    "print('the testing mean squared error is: ', mean_squared_error(svr.predict(X2_test), y2_test))\n",
    "\n",
    "print('the training root mean squared error is: ', sqrt(mean_squared_error(svr.predict(X2_train), y2_train)))\n",
    "print('the testing root mean squared error is: ', sqrt(mean_squared_error(svr.predict(X2_test), y2_test)))\n",
    "\n",
    "train_R2 = svr.score(X2_train, y2_train)\n",
    "print('training R^2 value is: ', train_R2)\n",
    "test_R2 = svr.score(X2_test, y2_test)\n",
    "print('testing R^2 value is: ', test_R2)"
   ]
  },
  {
   "cell_type": "markdown",
   "metadata": {},
   "source": [
    "#### 2.3.5.2 Grid Search"
   ]
  },
  {
   "cell_type": "code",
   "execution_count": 76,
   "metadata": {
    "scrolled": false
   },
   "outputs": [
    {
     "data": {
      "text/plain": [
       "['C',\n",
       " 'cache_size',\n",
       " 'coef0',\n",
       " 'degree',\n",
       " 'epsilon',\n",
       " 'gamma',\n",
       " 'kernel',\n",
       " 'max_iter',\n",
       " 'shrinking',\n",
       " 'tol',\n",
       " 'verbose']"
      ]
     },
     "execution_count": 76,
     "metadata": {},
     "output_type": "execute_result"
    }
   ],
   "source": [
    "sorted(SVR().get_params().keys())"
   ]
  },
  {
   "cell_type": "code",
   "execution_count": 77,
   "metadata": {},
   "outputs": [
    {
     "name": "stdout",
     "output_type": "stream",
     "text": [
      "Best cross-validation score: -4676.592\n",
      "Test score: -4142.582\n",
      "{'C': 100, 'gamma': 'auto'}\n"
     ]
    }
   ],
   "source": [
    "# Use GridSearch to find the best combination of model hyperparameters\n",
    "\n",
    "param_grid = { 'C' : [0.01, 0.1, 1, 10, 100], \"gamma\": ['scale', 'auto'] }\n",
    "\n",
    "svr = SVR()\n",
    "\n",
    "gs_svr = GridSearchCV(svr, param_grid=param_grid, scoring='neg_mean_squared_error', cv= 10, n_jobs=-1)\n",
    "# cv: number of partitions for cross validatio\n",
    "# n_jobs: number of jobs to run in parallel, -1 means using all processors\n",
    "\n",
    "gs_svr = gs_svr.fit(X2_train, y2_train.ravel()) # \n",
    "\n",
    "print(\"Best cross-validation score: {:.3f}\".format(gs_svr.best_score_))\n",
    "print(\"Test score: {:.3f}\".format(gs_svr.score(X2_test, y2_test)))\n",
    "print(gs_svr.best_params_)"
   ]
  },
  {
   "cell_type": "code",
   "execution_count": 97,
   "metadata": {},
   "outputs": [
    {
     "name": "stdout",
     "output_type": "stream",
     "text": [
      "the training mean squared error is:  4570.371773279979\n",
      "the testing mean squared error is:  4142.581808368488\n",
      "the training root mean squared error is:  67.60452479886223\n",
      "the testing root mean squared error is:  64.36289154760286\n",
      "training R^2 value is:  0.3981992262760219\n",
      "testing R^2 value is:  0.43298088941693613\n"
     ]
    }
   ],
   "source": [
    "svr = SVR(C=100, gamma='auto')\n",
    "svr.fit(X2_train, y2_train.ravel())\n",
    "\n",
    "print('the training mean squared error is: ', mean_squared_error(svr.predict(X2_train), y2_train))\n",
    "print('the testing mean squared error is: ', mean_squared_error(svr.predict(X2_test), y2_test))\n",
    "\n",
    "print('the training root mean squared error is: ', sqrt(mean_squared_error(svr.predict(X2_train), y2_train)))\n",
    "print('the testing root mean squared error is: ', sqrt(mean_squared_error(svr.predict(X2_test), y2_test)))\n",
    "\n",
    "train_R2 = svr.score(X2_train, y2_train)\n",
    "print('training R^2 value is: ', train_R2)\n",
    "test_R2 = svr.score(X2_test, y2_test)\n",
    "print('testing R^2 value is: ', test_R2)"
   ]
  },
  {
   "cell_type": "markdown",
   "metadata": {},
   "source": [
    "#### 2.3.5.3 K-folds Cross Validation"
   ]
  },
  {
   "cell_type": "code",
   "execution_count": 79,
   "metadata": {},
   "outputs": [
    {
     "name": "stdout",
     "output_type": "stream",
     "text": [
      "train_score:  [-4617.91940331 -4332.29283258 -4313.49337336 -4184.4296712\n",
      " -4268.99456915]\n",
      "test_score:  [-3452.96529592 -4571.90721405 -4894.72715932 -4977.33124143\n",
      " -4915.41441324]\n"
     ]
    }
   ],
   "source": [
    "# Evaluate the Model using K-folds Cross validation\n",
    "results  = cross_validate(svr, X2, y2.ravel(), scoring='neg_mean_squared_error', cv=5, return_train_score = True)\n",
    "print('train_score: ', results['train_score'])\n",
    "print('test_score: ', results['test_score'])"
   ]
  },
  {
   "cell_type": "code",
   "execution_count": 122,
   "metadata": {},
   "outputs": [
    {
     "name": "stdout",
     "output_type": "stream",
     "text": [
      "***Final Model***\n",
      "cross val training mean_squared_error is: 4343.425969920614\n",
      "cross val testing mean_squared_error is: 4562.469064791406\n",
      "the training root mean squared error is:  65.90467335417583\n",
      "the testing root mean squared error is:  67.54605143745566\n"
     ]
    }
   ],
   "source": [
    "print('***Final Model***')\n",
    "svr_final = SVR(C=100, gamma='auto')\n",
    "svr_final.fit(X2_train, y2_train)\n",
    "results  = cross_validate(svr_final, X2, y2.ravel(), scoring='neg_mean_squared_error', cv=5, return_train_score = True)\n",
    "print('cross val training mean_squared_error is:', sum(-results['train_score'])/len(results['train_score']))\n",
    "print('cross val testing mean_squared_error is:', sum(-results['test_score'])/len(results['test_score']))\n",
    "\n",
    "print('the training root mean squared error is: ', sqrt(sum(-results['train_score'])/len(results['train_score'])))\n",
    "print('the testing root mean squared error is: ', sqrt(sum(-results['test_score'])/len(results['test_score'])))"
   ]
  },
  {
   "cell_type": "markdown",
   "metadata": {},
   "source": [
    "#### 2.3.6 XGBoost Regressor"
   ]
  },
  {
   "cell_type": "markdown",
   "metadata": {},
   "source": [
    "#### 2.3.6.1 Evaluation of default model"
   ]
  },
  {
   "cell_type": "code",
   "execution_count": 99,
   "metadata": {},
   "outputs": [
    {
     "name": "stdout",
     "output_type": "stream",
     "text": [
      "the training mean squared error is:  473.0073069079378\n",
      "the testing mean squared error is:  2739.7515659097003\n",
      "the training root mean squared error is:  21.74873115627525\n",
      "the testing root mean squared error is:  52.3426362147504\n",
      "training R^2 value is:  0.9377170660517173\n",
      "testing R^2 value is:  0.6249943711473738\n"
     ]
    }
   ],
   "source": [
    "print('the training mean squared error is: ', mean_squared_error(xgr.predict(X2_train), y2_train))\n",
    "print('the testing mean squared error is: ', mean_squared_error(xgr.predict(X2_test), y2_test))\n",
    "\n",
    "print('the training root mean squared error is: ', sqrt(mean_squared_error(xgr.predict(X2_train), y2_train)))\n",
    "print('the testing root mean squared error is: ', sqrt(mean_squared_error(xgr.predict(X2_test), y2_test)))\n",
    "\n",
    "train_R2 = xgr.score(X2_train, y2_train)\n",
    "print('training R^2 value is: ', train_R2)\n",
    "test_R2 = xgr.score(X2_test, y2_test)\n",
    "print('testing R^2 value is: ', test_R2)"
   ]
  },
  {
   "cell_type": "markdown",
   "metadata": {},
   "source": [
    "#### 2.3.6.2 K-fold Cross Validation"
   ]
  },
  {
   "cell_type": "code",
   "execution_count": 96,
   "metadata": {},
   "outputs": [
    {
     "name": "stdout",
     "output_type": "stream",
     "text": [
      "train_score:  [-598.7600321  -531.79112679 -512.42859819 -538.20228554 -448.66411746]\n",
      "test_score:  [-3490.68242725 -3591.29822389 -3513.59202909 -3785.36055632\n",
      " -3760.98071819]\n"
     ]
    }
   ],
   "source": [
    "# Evaluate the Model using K-folds Cross validation\n",
    "results  = cross_validate(xgr, X2, y2.ravel(), scoring='neg_mean_squared_error', cv=5, return_train_score = True)\n",
    "print('train_score: ', results['train_score'])\n",
    "print('test_score: ', results['test_score'])"
   ]
  },
  {
   "cell_type": "code",
   "execution_count": 97,
   "metadata": {},
   "outputs": [
    {
     "name": "stdout",
     "output_type": "stream",
     "text": [
      "cross val training mean_squared_error is: 525.9692320183777\n",
      "cross val testing mean_squared_error is: 3628.3827909477286\n",
      "the training root mean squared error is:  22.93401909867474\n",
      "the testing root mean squared error is:  60.236058892890135\n"
     ]
    }
   ],
   "source": [
    "print('cross val training mean_squared_error is:', sum(-results['train_score'])/len(results['train_score']))\n",
    "print('cross val testing mean_squared_error is:', sum(-results['test_score'])/len(results['test_score']))\n",
    "\n",
    "print('the training root mean squared error is: ', sqrt(sum(-results['train_score'])/len(results['train_score'])))\n",
    "print('the testing root mean squared error is: ', sqrt(sum(-results['test_score'])/len(results['test_score'])))"
   ]
  },
  {
   "cell_type": "markdown",
   "metadata": {},
   "source": [
    "#### 2.3.6.3 Grid Search"
   ]
  },
  {
   "cell_type": "code",
   "execution_count": 100,
   "metadata": {
    "scrolled": true
   },
   "outputs": [
    {
     "name": "stderr",
     "output_type": "stream",
     "text": [
      "C:\\Users\\Public\\Anaconda\\lib\\site-packages\\sklearn\\model_selection\\_search.py:922: UserWarning: One or more of the test scores are non-finite: [ -9114.76898698  -7603.6545049   -6972.69187086             nan\n",
      "  -4707.36895161  -3325.17826425  -2969.10923579             nan\n",
      "  -7393.87731152  -4310.39333589  -2934.77270243             nan\n",
      " -17762.05867044  -5918.74180994  -3050.59956799             nan\n",
      "  -6503.37389863  -6504.20782314  -6504.50037523  -6504.68744215\n",
      "  -4754.98505915  -4754.40078006  -4754.80075284  -4754.49117742\n",
      "  -4741.41908927  -4741.3977654   -4741.39779526  -4741.62394043\n",
      "  -4741.7510677   -4741.68012369  -4741.77192946  -4741.67059322\n",
      "  -9119.74580499  -7597.9897866   -6974.13714781             nan\n",
      "  -4760.63016505  -3373.69028237  -2966.91019607             nan\n",
      "  -7413.28330981  -4221.28689535  -2962.64639883             nan\n",
      " -17696.10171706  -6097.23040131  -3075.68346732             nan\n",
      "  -6494.10361412  -6495.47118885  -6495.36899935  -6495.35559474\n",
      "  -4755.21503431  -4754.22664511  -4753.89717028  -4753.85203089\n",
      "  -4740.90079089  -4741.0552953   -4741.14856135  -4740.93467131\n",
      "  -4740.44857447  -4740.48265823  -4740.32632194  -4740.29523809\n",
      "  -9112.27128429  -7605.50138103  -6974.28911908             nan\n",
      "  -4722.13389849  -3344.69203482  -2958.97067416             nan\n",
      "  -7909.48984258  -4383.28023462  -2942.43394978             nan\n",
      " -17880.80967257  -6175.00272612  -3063.296796               nan\n",
      "  -6517.1402748   -6517.59993696  -6518.04450107  -6517.88452554\n",
      "  -4864.99876972  -4864.64644652  -4865.39837419  -4864.59651012\n",
      "  -4868.82968314  -4868.75039785  -4868.99517686  -4868.82815517\n",
      "  -4870.02612074  -4870.29034452  -4869.1879424   -4869.70136301\n",
      "  -9144.66120868  -7635.11307481  -6983.26524831             nan\n",
      "  -4614.53570422  -3404.26388435  -2935.67947157             nan\n",
      "  -7307.61419016  -4271.17634471  -2963.60726148             nan\n",
      " -16153.67643104  -5951.96296121  -3020.90883936             nan\n",
      "  -7072.48971296  -7072.54974886  -7072.52401633  -7072.35682379\n",
      "  -5323.20091123  -5324.45208949  -5324.67535063  -5324.15396051\n",
      "  -5234.93163386  -5234.92414108  -5234.98154341  -5234.92943562\n",
      "  -5234.5639804   -5234.56864692  -5234.57059306  -5234.57023945]\n",
      "  warnings.warn(\n"
     ]
    },
    {
     "name": "stdout",
     "output_type": "stream",
     "text": [
      "Best cross-validation score: -2934.773\n",
      "Test score: -2621.608\n",
      "{'alpha': 0.1, 'booster': 'gbtree', 'eta': 0.2, 'subsample': 1}\n"
     ]
    }
   ],
   "source": [
    "# Use GridSearch to find the best combination of model hyperparameters\n",
    "\n",
    "xgr = XGBRegressor(use_label_encoder=False)\n",
    "\n",
    "param_grid = { \"booster\" : ['gbtree', 'gblinear'], \"eta\" : [0.01, 0.1, 0.2, 0.3], \n",
    "               \"alpha\" : [0.1, 0, 1, 10], 'subsample' : [0.01, 0.1, 1, 10] }\n",
    "\n",
    "gs_xgr = GridSearchCV(xgr, param_grid=param_grid, scoring='neg_mean_squared_error', cv= 10, n_jobs=-1)\n",
    "# cv: number of partitions for cross validation\n",
    "# n_jobs: number of jobs to run in parallel, -1 means using all processors\n",
    "\n",
    "gs_xgr = gs_xgr.fit(X2_train, y2_train.ravel()) # \n",
    "\n",
    "print(\"Best cross-validation score: {:.3f}\".format(gs_xgr.best_score_))\n",
    "print(\"Test score: {:.3f}\".format(gs_xgr.score(X2_test, y2_test)))\n",
    "print(gs_xgr.best_params_)"
   ]
  },
  {
   "cell_type": "code",
   "execution_count": 100,
   "metadata": {},
   "outputs": [
    {
     "name": "stdout",
     "output_type": "stream",
     "text": [
      "the training mean squared error is:  759.6217380716224\n",
      "the testing mean squared error is:  2621.607965705739\n",
      "the training root mean squared error is:  27.561236149193714\n",
      "the testing root mean squared error is:  51.201640263821034\n",
      "training R^2 value is:  0.8999772945427188\n",
      "testing R^2 value is:  0.6411653684161311\n"
     ]
    }
   ],
   "source": [
    "xgr = XGBRegressor(alpha=0.1, booster='gbtree', eta=0.2, subsample=1, use_label_encoder=False, random_state=1)\n",
    "xgr.fit(X2_train, y2_train.ravel())\n",
    "\n",
    "print('the training mean squared error is: ', mean_squared_error(xgr.predict(X2_train), y2_train))\n",
    "print('the testing mean squared error is: ', mean_squared_error(xgr.predict(X2_test), y2_test))\n",
    "\n",
    "print('the training root mean squared error is: ', sqrt(mean_squared_error(xgr.predict(X2_train), y2_train)))\n",
    "print('the testing root mean squared error is: ', sqrt(mean_squared_error(xgr.predict(X2_test), y2_test)))\n",
    "\n",
    "train_R2 = xgr.score(X2_train, y2_train)\n",
    "print('training R^2 value is: ', train_R2)\n",
    "test_R2 = xgr.score(X2_test, y2_test)\n",
    "print('testing R^2 value is: ', test_R2)"
   ]
  },
  {
   "cell_type": "markdown",
   "metadata": {},
   "source": [
    "#### 2.3.6.4 Tuning Parameters"
   ]
  },
  {
   "cell_type": "code",
   "execution_count": 102,
   "metadata": {},
   "outputs": [],
   "source": [
    "depth_range = range(2,15)\n",
    "\n",
    "train_mse = []\n",
    "test_mse = []\n",
    "cross_val_train_mse =[]\n",
    "cross_val_test_mse =[]\n",
    "\n",
    "for d in depth_range:\n",
    "    xgr = XGBRegressor(max_depth=d, alpha=0.1, booster='gbtree', eta=0.2, subsample=1, use_label_encoder=False,\n",
    "                                random_state=1)\n",
    "    xgr.fit(X2_train, y2_train.ravel()) \n",
    "    train_mse.append(mean_squared_error(xgr.predict(X2_train), y2_train))\n",
    "    test_mse.append(mean_squared_error(xgr.predict(X2_test), y2_test))\n",
    "    \n",
    "    results  = cross_validate(xgr, X2, y2.ravel(), scoring='neg_mean_squared_error', cv=5, return_train_score = True)\n",
    "    cross_val_train_mse.append(sum(-results['train_score'])/len(results['train_score']))\n",
    "    cross_val_test_mse.append(sum(-results['test_score'])/len(results['test_score']))\n",
    "    "
   ]
  },
  {
   "cell_type": "code",
   "execution_count": 103,
   "metadata": {},
   "outputs": [
    {
     "data": {
      "image/png": "[encoded data removed]",
      "text/plain": [
       "<Figure size 432x288 with 1 Axes>"
      ]
     },
     "metadata": {
      "needs_background": "light"
     },
     "output_type": "display_data"
    }
   ],
   "source": [
    "# Plot the simple split measures (train_mse & test_mse) \n",
    "plt.plot(depth_range, train_mse, 'bo-', label ='training mse')\n",
    "plt.plot(depth_range, test_mse, 'ro-', label = 'testing mse')\n",
    "\n",
    "plt.xlabel('max_depth', fontsize='x-large')\n",
    "plt.ylabel('mean squared error (MSE)', fontsize='x-large')\n",
    "\n",
    "plt.legend(loc='best', shadow=True, fontsize='x-large')\n",
    "plt.show()"
   ]
  },
  {
   "cell_type": "code",
   "execution_count": 104,
   "metadata": {},
   "outputs": [
    {
     "data": {
      "image/png": "[encoded data removed]",
      "text/plain": [
       "<Figure size 432x288 with 1 Axes>"
      ]
     },
     "metadata": {
      "needs_background": "light"
     },
     "output_type": "display_data"
    }
   ],
   "source": [
    "# Plot the cross validation measures (cross_val_train_mse & cross val_test_mse) \n",
    "plt.plot(depth_range, cross_val_train_mse, 'bo-', label ='cross val training mse')\n",
    "plt.plot(depth_range, cross_val_test_mse, 'ro-', label = 'cross val testing mse')\n",
    "\n",
    "plt.xlabel('max_depth', fontsize='x-large')\n",
    "plt.ylabel('mean squared error (MSE)', fontsize='x-large')\n",
    "\n",
    "plt.legend(loc='best', shadow=True, fontsize='x-large')\n",
    "plt.show()"
   ]
  },
  {
   "cell_type": "code",
   "execution_count": 101,
   "metadata": {},
   "outputs": [
    {
     "name": "stdout",
     "output_type": "stream",
     "text": [
      "the training mean squared error is:  2651.3129233307263\n",
      "the testing mean squared error is:  2919.5309477433484\n",
      "the training root mean squared error is:  51.490901364519985\n",
      "the testing root mean squared error is:  54.03268406939774\n",
      "training R^2 value is:  0.6508900702623279\n",
      "testing R^2 value is:  0.6003869282762249\n"
     ]
    }
   ],
   "source": [
    "xgr_final = XGBRegressor(alpha=0.1, booster='gbtree', eta=0.2, subsample=1, use_label_encoder=False, max_depth=3,\n",
    "                         random_state=1)\n",
    "xgr_final.fit(X2_train, y2_train.ravel())\n",
    "\n",
    "print('the training mean squared error is: ', mean_squared_error(xgr_final.predict(X2_train), y2_train))\n",
    "print('the testing mean squared error is: ', mean_squared_error(xgr_final.predict(X2_test), y2_test))\n",
    "\n",
    "print('the training root mean squared error is: ', sqrt(mean_squared_error(xgr_final.predict(X2_train), y2_train)))\n",
    "print('the testing root mean squared error is: ', sqrt(mean_squared_error(xgr_final.predict(X2_test), y2_test)))\n",
    "\n",
    "train_R2 = xgr_final.score(X2_train, y2_train)\n",
    "print('training R^2 value is: ', train_R2)\n",
    "test_R2 = xgr_final.score(X2_test, y2_test)\n",
    "print('testing R^2 value is: ', test_R2)"
   ]
  },
  {
   "cell_type": "code",
   "execution_count": null,
   "metadata": {},
   "outputs": [],
   "source": []
  }
 ],
 "metadata": {
  "kernelspec": {
   "display_name": "Python 3 (ipykernel)",
   "language": "python",
   "name": "python3"
  },
  "language_info": {
   "codemirror_mode": {
    "name": "ipython",
    "version": 3
   },
   "file_extension": ".py",
   "mimetype": "text/x-python",
   "name": "python",
   "nbconvert_exporter": "python",
   "pygments_lexer": "ipython3",
   "version": "3.9.7"
  }
 },
 "nbformat": 4,
 "nbformat_minor": 2
}
